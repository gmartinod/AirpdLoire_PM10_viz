{
 "cells": [
  {
   "attachments": {},
   "cell_type": "markdown",
   "metadata": {},
   "source": [
    "## Visualisation des données Air Pays de la Loire\n",
    "\n",
    "Accèssibles sur leur site [this page](https://www.airpl.org/), les données mesurées concernent de nombreux polluants atmosphériques à des points précis de mesures des taux de concentration. \n",
    "\n",
    "Pour une première analyse, nous nous interessons aux concentrations en PM10 dans le departement Loire-Atlantique. Notre pas de mesure est d'une heure, et pour limiter le poids des données, nous nous concentrons sur une semaine (du 19/03/2023 au 25/03/2023)\n",
    "\n",
    "D'abord, chargeons les données et observons-les"
   ]
  },
  {
   "cell_type": "code",
   "execution_count": 2,
   "metadata": {},
   "outputs": [],
   "source": [
    "import pandas as pd\n",
    "import numpy as np\n",
    "\n",
    "import geopandas as gpd\n",
    "import plotly.express as px"
   ]
  },
  {
   "cell_type": "code",
   "execution_count": 3,
   "metadata": {},
   "outputs": [
    {
     "name": "stdout",
     "output_type": "stream",
     "text": [
      "<class 'pandas.core.frame.DataFrame'>\n",
      "RangeIndex: 1848 entries, 0 to 1847\n",
      "Data columns (total 18 columns):\n",
      " #   Column             Non-Null Count  Dtype  \n",
      "---  ------             --------------  -----  \n",
      " 0   nom_dept           1848 non-null   object \n",
      " 1   nom_com            1848 non-null   object \n",
      " 2   insee_com          1848 non-null   int64  \n",
      " 3   nom_station        1848 non-null   object \n",
      " 4   code_station (ue)  1848 non-null   object \n",
      " 5   influence          1848 non-null   object \n",
      " 6   nom_poll           1848 non-null   object \n",
      " 7   id_poll_ue         1848 non-null   int64  \n",
      " 8   valeur             1834 non-null   float64\n",
      " 9   unite              1848 non-null   object \n",
      " 10  metrique           1848 non-null   object \n",
      " 11  date_debut         1848 non-null   object \n",
      " 12  date_fin           1848 non-null   object \n",
      " 13  statut_valid       1848 non-null   bool   \n",
      " 14  x_wgs84            1848 non-null   float64\n",
      " 15  y_wgs84            1848 non-null   float64\n",
      " 16  x_reglementaire    1848 non-null   float64\n",
      " 17  y_reglementaire    1848 non-null   float64\n",
      "dtypes: bool(1), float64(5), int64(2), object(10)\n",
      "memory usage: 247.4+ KB\n"
     ]
    }
   ],
   "source": [
    "raw_df_PM10_hour_week = pd.read_csv(r'./PM10_horaire_semaine.csv', sep=';')\n",
    "raw_df_PM10_hour_week.info()"
   ]
  },
  {
   "attachments": {},
   "cell_type": "markdown",
   "metadata": {},
   "source": [
    "On observe 18 colonnes décrivant nos data : \n",
    "\n",
    "- nom_dept : nom du département où se situe la station de mesure (issu des données de l’IGN).\n",
    "\n",
    "- nom_com : nom de la commune où se situe la station de mesure (issu des données de l’IGN).\n",
    "\n",
    "- insee_com : code INSEE de la commune où se situe la station de mesure (issu des données de l’IGN).\n",
    "\n",
    "- nom_station : nom de la station de mesure déterminé par Air Pays de la Loire.\n",
    "\n",
    "- code_station (ue) : code unique de la station de mesure.\n",
    "\n",
    "- influence : nature de la station de mesure déterminée par sa localisation et son influence selon le type de polluant qu’elle mesure. \n",
    "\n",
    "- nom_poll : nom du polluant mesuré par la station de mesure.\n",
    "\n",
    "- id_poll_ue : identifiant du polluant dans le référentiel européen.\n",
    "\n",
    "- valeur : valeur de la mesure relevée pour un polluant à une station et à une métrique données.\n",
    "\n",
    "- unite : unité de la valeur mesurée du polluant.\n",
    "\n",
    "- metrique : niveau d’agrégation temporelle des données mesurées (horaire, journalière, mensuelle, annuelle).\n",
    "\n",
    "- date_debut : date de début du relevé de mesure en heure temps local (heure sur le territoire métropolitain français).\n",
    "\n",
    "- date_fin : date de fin du relevé de mesure en heure temps local (heure sur le territoire métropolitain français).\n",
    "\n",
    "- statut_valid : validité de la mesure relevée, « t » si la mesure est validée, « f » si la mesure est invalidée.\n",
    "\n",
    "- x_wgs84 : coordonnée x de la localisation de la station de mesure en World Geodetic System 1984\n",
    "\n",
    "- y_wgs84 : coordonnée y de la localisation de la station de mesure en World Geodesic System 1984\n",
    "\n",
    "- x_reglementaire : coordonnée x de la localisation de la station de mesure en Lambert 93 (EPSG : 2154).\n",
    "\n",
    "- y_reglementaire : coordonnée y de la localisation de la station de mesure en Lambert 93 (EPSG : 2154)."
   ]
  },
  {
   "cell_type": "code",
   "execution_count": 4,
   "metadata": {},
   "outputs": [
    {
     "data": {
      "text/html": [
       "<div>\n",
       "<style scoped>\n",
       "    .dataframe tbody tr th:only-of-type {\n",
       "        vertical-align: middle;\n",
       "    }\n",
       "\n",
       "    .dataframe tbody tr th {\n",
       "        vertical-align: top;\n",
       "    }\n",
       "\n",
       "    .dataframe thead th {\n",
       "        text-align: right;\n",
       "    }\n",
       "</style>\n",
       "<table border=\"1\" class=\"dataframe\">\n",
       "  <thead>\n",
       "    <tr style=\"text-align: right;\">\n",
       "      <th></th>\n",
       "      <th>nom_dept</th>\n",
       "      <th>nom_com</th>\n",
       "      <th>insee_com</th>\n",
       "      <th>nom_station</th>\n",
       "      <th>code_station (ue)</th>\n",
       "      <th>influence</th>\n",
       "      <th>nom_poll</th>\n",
       "      <th>id_poll_ue</th>\n",
       "      <th>valeur</th>\n",
       "      <th>unite</th>\n",
       "      <th>metrique</th>\n",
       "      <th>date_debut</th>\n",
       "      <th>date_fin</th>\n",
       "      <th>statut_valid</th>\n",
       "      <th>x_wgs84</th>\n",
       "      <th>y_wgs84</th>\n",
       "      <th>x_reglementaire</th>\n",
       "      <th>y_reglementaire</th>\n",
       "    </tr>\n",
       "  </thead>\n",
       "  <tbody>\n",
       "    <tr>\n",
       "      <th>0</th>\n",
       "      <td>Loire-Atlantique</td>\n",
       "      <td>Donges</td>\n",
       "      <td>44052</td>\n",
       "      <td>LA MEGRETAIS</td>\n",
       "      <td>FR23003</td>\n",
       "      <td>industrial</td>\n",
       "      <td>PM10</td>\n",
       "      <td>5</td>\n",
       "      <td>6.7</td>\n",
       "      <td>µg/m3</td>\n",
       "      <td>horaire</td>\n",
       "      <td>2023-03-25 22:00:00</td>\n",
       "      <td>2023-03-25 23:00:00</td>\n",
       "      <td>True</td>\n",
       "      <td>-2.039245</td>\n",
       "      <td>47.322705</td>\n",
       "      <td>319631.265310</td>\n",
       "      <td>6.703517e+06</td>\n",
       "    </tr>\n",
       "    <tr>\n",
       "      <th>1</th>\n",
       "      <td>Loire-Atlantique</td>\n",
       "      <td>Frossay</td>\n",
       "      <td>44061</td>\n",
       "      <td>FROSSAY</td>\n",
       "      <td>FR23068</td>\n",
       "      <td>industrial</td>\n",
       "      <td>PM10</td>\n",
       "      <td>5</td>\n",
       "      <td>2.7</td>\n",
       "      <td>µg/m3</td>\n",
       "      <td>horaire</td>\n",
       "      <td>2023-03-25 22:00:00</td>\n",
       "      <td>2023-03-25 23:00:00</td>\n",
       "      <td>True</td>\n",
       "      <td>-1.936524</td>\n",
       "      <td>47.247352</td>\n",
       "      <td>326851.682361</td>\n",
       "      <td>6.694673e+06</td>\n",
       "    </tr>\n",
       "    <tr>\n",
       "      <th>2</th>\n",
       "      <td>Loire-Atlantique</td>\n",
       "      <td>Saint-Etienne-De-Montluc</td>\n",
       "      <td>44158</td>\n",
       "      <td>SAINT ETIENNE DE MONTLUC</td>\n",
       "      <td>FR23070</td>\n",
       "      <td>industrial</td>\n",
       "      <td>PM10</td>\n",
       "      <td>5</td>\n",
       "      <td>11.0</td>\n",
       "      <td>µg/m3</td>\n",
       "      <td>horaire</td>\n",
       "      <td>2023-03-25 22:00:00</td>\n",
       "      <td>2023-03-25 23:00:00</td>\n",
       "      <td>True</td>\n",
       "      <td>-1.783081</td>\n",
       "      <td>47.283127</td>\n",
       "      <td>338676.423909</td>\n",
       "      <td>6.697926e+06</td>\n",
       "    </tr>\n",
       "    <tr>\n",
       "      <th>3</th>\n",
       "      <td>Loire-Atlantique</td>\n",
       "      <td>Nantes</td>\n",
       "      <td>44109</td>\n",
       "      <td>LA CHAUVINIERE</td>\n",
       "      <td>FR23107</td>\n",
       "      <td>background</td>\n",
       "      <td>PM10</td>\n",
       "      <td>5</td>\n",
       "      <td>5.7</td>\n",
       "      <td>µg/m3</td>\n",
       "      <td>horaire</td>\n",
       "      <td>2023-03-25 22:00:00</td>\n",
       "      <td>2023-03-25 23:00:00</td>\n",
       "      <td>True</td>\n",
       "      <td>-1.573275</td>\n",
       "      <td>47.252912</td>\n",
       "      <td>354313.235770</td>\n",
       "      <td>6.693636e+06</td>\n",
       "    </tr>\n",
       "    <tr>\n",
       "      <th>4</th>\n",
       "      <td>Loire-Atlantique</td>\n",
       "      <td>Saint-Nazaire</td>\n",
       "      <td>44184</td>\n",
       "      <td>LEON BLUM</td>\n",
       "      <td>FR23110</td>\n",
       "      <td>background</td>\n",
       "      <td>PM10</td>\n",
       "      <td>5</td>\n",
       "      <td>13.0</td>\n",
       "      <td>µg/m3</td>\n",
       "      <td>horaire</td>\n",
       "      <td>2023-03-25 22:00:00</td>\n",
       "      <td>2023-03-25 23:00:00</td>\n",
       "      <td>True</td>\n",
       "      <td>-2.250154</td>\n",
       "      <td>47.264110</td>\n",
       "      <td>303302.164390</td>\n",
       "      <td>6.698060e+06</td>\n",
       "    </tr>\n",
       "  </tbody>\n",
       "</table>\n",
       "</div>"
      ],
      "text/plain": [
       "           nom_dept                   nom_com  insee_com  \\\n",
       "0  Loire-Atlantique                    Donges      44052   \n",
       "1  Loire-Atlantique                   Frossay      44061   \n",
       "2  Loire-Atlantique  Saint-Etienne-De-Montluc      44158   \n",
       "3  Loire-Atlantique                    Nantes      44109   \n",
       "4  Loire-Atlantique             Saint-Nazaire      44184   \n",
       "\n",
       "                nom_station code_station (ue)   influence nom_poll  \\\n",
       "0              LA MEGRETAIS           FR23003  industrial     PM10   \n",
       "1                   FROSSAY           FR23068  industrial     PM10   \n",
       "2  SAINT ETIENNE DE MONTLUC           FR23070  industrial     PM10   \n",
       "3            LA CHAUVINIERE           FR23107  background     PM10   \n",
       "4                 LEON BLUM           FR23110  background     PM10   \n",
       "\n",
       "   id_poll_ue  valeur  unite metrique           date_debut  \\\n",
       "0           5     6.7  µg/m3  horaire  2023-03-25 22:00:00   \n",
       "1           5     2.7  µg/m3  horaire  2023-03-25 22:00:00   \n",
       "2           5    11.0  µg/m3  horaire  2023-03-25 22:00:00   \n",
       "3           5     5.7  µg/m3  horaire  2023-03-25 22:00:00   \n",
       "4           5    13.0  µg/m3  horaire  2023-03-25 22:00:00   \n",
       "\n",
       "              date_fin  statut_valid   x_wgs84    y_wgs84  x_reglementaire  \\\n",
       "0  2023-03-25 23:00:00          True -2.039245  47.322705    319631.265310   \n",
       "1  2023-03-25 23:00:00          True -1.936524  47.247352    326851.682361   \n",
       "2  2023-03-25 23:00:00          True -1.783081  47.283127    338676.423909   \n",
       "3  2023-03-25 23:00:00          True -1.573275  47.252912    354313.235770   \n",
       "4  2023-03-25 23:00:00          True -2.250154  47.264110    303302.164390   \n",
       "\n",
       "   y_reglementaire  \n",
       "0     6.703517e+06  \n",
       "1     6.694673e+06  \n",
       "2     6.697926e+06  \n",
       "3     6.693636e+06  \n",
       "4     6.698060e+06  "
      ]
     },
     "execution_count": 4,
     "metadata": {},
     "output_type": "execute_result"
    }
   ],
   "source": [
    "raw_df_PM10_hour_week.head()"
   ]
  },
  {
   "attachments": {},
   "cell_type": "markdown",
   "metadata": {},
   "source": [
    "# Preprocessing : \n",
    "On veut épurer le dataframe des colonnes qui ne nous interessent pas, et renommer certaines pour plus de facilité dans la manipulation"
   ]
  },
  {
   "cell_type": "code",
   "execution_count": 5,
   "metadata": {},
   "outputs": [
    {
     "data": {
      "text/html": [
       "<div>\n",
       "<style scoped>\n",
       "    .dataframe tbody tr th:only-of-type {\n",
       "        vertical-align: middle;\n",
       "    }\n",
       "\n",
       "    .dataframe tbody tr th {\n",
       "        vertical-align: top;\n",
       "    }\n",
       "\n",
       "    .dataframe thead th {\n",
       "        text-align: right;\n",
       "    }\n",
       "</style>\n",
       "<table border=\"1\" class=\"dataframe\">\n",
       "  <thead>\n",
       "    <tr style=\"text-align: right;\">\n",
       "      <th></th>\n",
       "      <th>nom_station</th>\n",
       "      <th>code_station</th>\n",
       "      <th>valeur</th>\n",
       "      <th>heure_mesure</th>\n",
       "      <th>statut_valid</th>\n",
       "      <th>long</th>\n",
       "      <th>lat</th>\n",
       "    </tr>\n",
       "  </thead>\n",
       "  <tbody>\n",
       "    <tr>\n",
       "      <th>0</th>\n",
       "      <td>LA MEGRETAIS</td>\n",
       "      <td>FR23003</td>\n",
       "      <td>6.7</td>\n",
       "      <td>2023-03-25 23:00:00</td>\n",
       "      <td>True</td>\n",
       "      <td>-2.039245</td>\n",
       "      <td>47.322705</td>\n",
       "    </tr>\n",
       "    <tr>\n",
       "      <th>1</th>\n",
       "      <td>FROSSAY</td>\n",
       "      <td>FR23068</td>\n",
       "      <td>2.7</td>\n",
       "      <td>2023-03-25 23:00:00</td>\n",
       "      <td>True</td>\n",
       "      <td>-1.936524</td>\n",
       "      <td>47.247352</td>\n",
       "    </tr>\n",
       "    <tr>\n",
       "      <th>2</th>\n",
       "      <td>SAINT ETIENNE DE MONTLUC</td>\n",
       "      <td>FR23070</td>\n",
       "      <td>11.0</td>\n",
       "      <td>2023-03-25 23:00:00</td>\n",
       "      <td>True</td>\n",
       "      <td>-1.783081</td>\n",
       "      <td>47.283127</td>\n",
       "    </tr>\n",
       "    <tr>\n",
       "      <th>3</th>\n",
       "      <td>LA CHAUVINIERE</td>\n",
       "      <td>FR23107</td>\n",
       "      <td>5.7</td>\n",
       "      <td>2023-03-25 23:00:00</td>\n",
       "      <td>True</td>\n",
       "      <td>-1.573275</td>\n",
       "      <td>47.252912</td>\n",
       "    </tr>\n",
       "    <tr>\n",
       "      <th>4</th>\n",
       "      <td>LEON BLUM</td>\n",
       "      <td>FR23110</td>\n",
       "      <td>13.0</td>\n",
       "      <td>2023-03-25 23:00:00</td>\n",
       "      <td>True</td>\n",
       "      <td>-2.250154</td>\n",
       "      <td>47.264110</td>\n",
       "    </tr>\n",
       "  </tbody>\n",
       "</table>\n",
       "</div>"
      ],
      "text/plain": [
       "                nom_station code_station  valeur        heure_mesure  \\\n",
       "0              LA MEGRETAIS      FR23003     6.7 2023-03-25 23:00:00   \n",
       "1                   FROSSAY      FR23068     2.7 2023-03-25 23:00:00   \n",
       "2  SAINT ETIENNE DE MONTLUC      FR23070    11.0 2023-03-25 23:00:00   \n",
       "3            LA CHAUVINIERE      FR23107     5.7 2023-03-25 23:00:00   \n",
       "4                 LEON BLUM      FR23110    13.0 2023-03-25 23:00:00   \n",
       "\n",
       "   statut_valid      long        lat  \n",
       "0          True -2.039245  47.322705  \n",
       "1          True -1.936524  47.247352  \n",
       "2          True -1.783081  47.283127  \n",
       "3          True -1.573275  47.252912  \n",
       "4          True -2.250154  47.264110  "
      ]
     },
     "execution_count": 5,
     "metadata": {},
     "output_type": "execute_result"
    }
   ],
   "source": [
    "col_of_interess = ['nom_station', 'code_station (ue)', 'valeur', 'date_fin', 'statut_valid', 'x_wgs84', 'y_wgs84']\n",
    "df_PM10_hour_week = raw_df_PM10_hour_week[col_of_interess]\n",
    "df_PM10_hour_week = df_PM10_hour_week.rename(columns={'code_station (ue)': 'code_station', 'date_fin': 'heure_mesure', 'x_wgs84': 'long', 'y_wgs84': 'lat'})\n",
    "df_PM10_hour_week['heure_mesure'] = pd.to_datetime(df_PM10_hour_week['heure_mesure'])\n",
    "df_PM10_hour_week.head()"
   ]
  },
  {
   "cell_type": "code",
   "execution_count": 6,
   "metadata": {},
   "outputs": [
    {
     "name": "stdout",
     "output_type": "stream",
     "text": [
      "True     1834\n",
      "False      14\n",
      "Name: statut_valid, dtype: int64\n"
     ]
    }
   ],
   "source": [
    "# y a t-il des lignes invalides ? \n",
    "invalid = df_PM10_hour_week['statut_valid'].value_counts()\n",
    "print(invalid)\n",
    "\n",
    "# TODO : les filtrer"
   ]
  },
  {
   "attachments": {},
   "cell_type": "markdown",
   "metadata": {},
   "source": [
    "# Visualisation simple de chaque station sur la journée du 25/03/2023"
   ]
  },
  {
   "cell_type": "code",
   "execution_count": 7,
   "metadata": {},
   "outputs": [
    {
     "name": "stderr",
     "output_type": "stream",
     "text": [
      "C:\\Users\\Utilisateur\\AppData\\Local\\Temp\\ipykernel_9948\\3431653644.py:1: FutureWarning: Comparison of Timestamp with datetime.date is deprecated in order to match the standard library behavior. In a future version these will be considered non-comparable. Use 'ts == pd.Timestamp(date)' or 'ts.date() == date' instead.\n",
      "  df_PM10_25032023 = df_PM10_hour_week[df_PM10_hour_week['heure_mesure'].dt.date == pd.to_datetime('2023-03-25')]\n"
     ]
    },
    {
     "data": {
      "application/vnd.plotly.v1+json": {
       "config": {
        "plotlyServerURL": "https://plot.ly"
       },
       "data": [
        {
         "hovertemplate": "nom_station=LA MEGRETAIS<br>heure_mesure=%{x}<br>valeur=%{y}<extra></extra>",
         "legendgroup": "LA MEGRETAIS",
         "line": {
          "color": "#636efa",
          "dash": "solid"
         },
         "marker": {
          "symbol": "circle"
         },
         "mode": "lines",
         "name": "LA MEGRETAIS",
         "orientation": "v",
         "showlegend": true,
         "type": "scatter",
         "x": [
          "2023-03-25T23:00:00",
          "2023-03-25T22:00:00",
          "2023-03-25T21:00:00",
          "2023-03-25T20:00:00",
          "2023-03-25T19:00:00",
          "2023-03-25T18:00:00",
          "2023-03-25T17:00:00",
          "2023-03-25T16:00:00",
          "2023-03-25T15:00:00",
          "2023-03-25T14:00:00",
          "2023-03-25T13:00:00",
          "2023-03-25T12:00:00",
          "2023-03-25T11:00:00",
          "2023-03-25T10:00:00",
          "2023-03-25T09:00:00",
          "2023-03-25T08:00:00",
          "2023-03-25T07:00:00",
          "2023-03-25T06:00:00",
          "2023-03-25T05:00:00",
          "2023-03-25T04:00:00",
          "2023-03-25T03:00:00",
          "2023-03-25T02:00:00",
          "2023-03-25T01:00:00",
          "2023-03-25T00:00:00"
         ],
         "xaxis": "x",
         "y": [
          6.7,
          4.3,
          7.1,
          7.4,
          11,
          16,
          17,
          19,
          20,
          22,
          30,
          34,
          26,
          27,
          26,
          28,
          23,
          19,
          20,
          19,
          18,
          14,
          15,
          21
         ],
         "yaxis": "y"
        },
        {
         "hovertemplate": "nom_station=FROSSAY<br>heure_mesure=%{x}<br>valeur=%{y}<extra></extra>",
         "legendgroup": "FROSSAY",
         "line": {
          "color": "#EF553B",
          "dash": "solid"
         },
         "marker": {
          "symbol": "circle"
         },
         "mode": "lines",
         "name": "FROSSAY",
         "orientation": "v",
         "showlegend": true,
         "type": "scatter",
         "x": [
          "2023-03-25T23:00:00",
          "2023-03-25T22:00:00",
          "2023-03-25T21:00:00",
          "2023-03-25T20:00:00",
          "2023-03-25T19:00:00",
          "2023-03-25T18:00:00",
          "2023-03-25T17:00:00",
          "2023-03-25T16:00:00",
          "2023-03-25T15:00:00",
          "2023-03-25T14:00:00",
          "2023-03-25T13:00:00",
          "2023-03-25T12:00:00",
          "2023-03-25T11:00:00",
          "2023-03-25T10:00:00",
          "2023-03-25T09:00:00",
          "2023-03-25T08:00:00",
          "2023-03-25T07:00:00",
          "2023-03-25T06:00:00",
          "2023-03-25T05:00:00",
          "2023-03-25T04:00:00",
          "2023-03-25T03:00:00",
          "2023-03-25T02:00:00",
          "2023-03-25T01:00:00",
          "2023-03-25T00:00:00"
         ],
         "xaxis": "x",
         "y": [
          2.7,
          1.9,
          4.3,
          6,
          14,
          16,
          27,
          25,
          26,
          26,
          26,
          27,
          25,
          25,
          23,
          21,
          14,
          19,
          18,
          17,
          15,
          11,
          16,
          21
         ],
         "yaxis": "y"
        },
        {
         "hovertemplate": "nom_station=SAINT ETIENNE DE MONTLUC<br>heure_mesure=%{x}<br>valeur=%{y}<extra></extra>",
         "legendgroup": "SAINT ETIENNE DE MONTLUC",
         "line": {
          "color": "#00cc96",
          "dash": "solid"
         },
         "marker": {
          "symbol": "circle"
         },
         "mode": "lines",
         "name": "SAINT ETIENNE DE MONTLUC",
         "orientation": "v",
         "showlegend": true,
         "type": "scatter",
         "x": [
          "2023-03-25T23:00:00",
          "2023-03-25T22:00:00",
          "2023-03-25T21:00:00",
          "2023-03-25T20:00:00",
          "2023-03-25T19:00:00",
          "2023-03-25T18:00:00",
          "2023-03-25T17:00:00",
          "2023-03-25T16:00:00",
          "2023-03-25T15:00:00",
          "2023-03-25T14:00:00",
          "2023-03-25T13:00:00",
          "2023-03-25T12:00:00",
          "2023-03-25T11:00:00",
          "2023-03-25T10:00:00",
          "2023-03-25T09:00:00",
          "2023-03-25T08:00:00",
          "2023-03-25T07:00:00",
          "2023-03-25T06:00:00",
          "2023-03-25T05:00:00",
          "2023-03-25T04:00:00",
          "2023-03-25T03:00:00",
          "2023-03-25T02:00:00",
          "2023-03-25T01:00:00",
          "2023-03-25T00:00:00"
         ],
         "xaxis": "x",
         "y": [
          11,
          4.7,
          5.7,
          9.4,
          35,
          20,
          21,
          19,
          19,
          21,
          21,
          21,
          22,
          22,
          22,
          19,
          15,
          21,
          20,
          18,
          15,
          11,
          8.7,
          19
         ],
         "yaxis": "y"
        },
        {
         "hovertemplate": "nom_station=LA CHAUVINIERE<br>heure_mesure=%{x}<br>valeur=%{y}<extra></extra>",
         "legendgroup": "LA CHAUVINIERE",
         "line": {
          "color": "#ab63fa",
          "dash": "solid"
         },
         "marker": {
          "symbol": "circle"
         },
         "mode": "lines",
         "name": "LA CHAUVINIERE",
         "orientation": "v",
         "showlegend": true,
         "type": "scatter",
         "x": [
          "2023-03-25T23:00:00",
          "2023-03-25T22:00:00",
          "2023-03-25T21:00:00",
          "2023-03-25T20:00:00",
          "2023-03-25T19:00:00",
          "2023-03-25T18:00:00",
          "2023-03-25T17:00:00",
          "2023-03-25T16:00:00",
          "2023-03-25T15:00:00",
          "2023-03-25T14:00:00",
          "2023-03-25T13:00:00",
          "2023-03-25T12:00:00",
          "2023-03-25T11:00:00",
          "2023-03-25T10:00:00",
          "2023-03-25T09:00:00",
          "2023-03-25T08:00:00",
          "2023-03-25T07:00:00",
          "2023-03-25T06:00:00",
          "2023-03-25T05:00:00",
          "2023-03-25T04:00:00",
          "2023-03-25T03:00:00",
          "2023-03-25T02:00:00",
          "2023-03-25T01:00:00",
          "2023-03-25T00:00:00"
         ],
         "xaxis": "x",
         "y": [
          5.7,
          5.3,
          7.2,
          7.7,
          14,
          14,
          16,
          15,
          16,
          19,
          20,
          20,
          21,
          23,
          21,
          19,
          15,
          21,
          18,
          18,
          14,
          7.2,
          9.3,
          18
         ],
         "yaxis": "y"
        },
        {
         "hovertemplate": "nom_station=LEON BLUM<br>heure_mesure=%{x}<br>valeur=%{y}<extra></extra>",
         "legendgroup": "LEON BLUM",
         "line": {
          "color": "#FFA15A",
          "dash": "solid"
         },
         "marker": {
          "symbol": "circle"
         },
         "mode": "lines",
         "name": "LEON BLUM",
         "orientation": "v",
         "showlegend": true,
         "type": "scatter",
         "x": [
          "2023-03-25T23:00:00",
          "2023-03-25T22:00:00",
          "2023-03-25T21:00:00",
          "2023-03-25T20:00:00",
          "2023-03-25T19:00:00",
          "2023-03-25T18:00:00",
          "2023-03-25T17:00:00",
          "2023-03-25T16:00:00",
          "2023-03-25T15:00:00",
          "2023-03-25T14:00:00",
          "2023-03-25T13:00:00",
          "2023-03-25T12:00:00",
          "2023-03-25T11:00:00",
          "2023-03-25T10:00:00",
          "2023-03-25T09:00:00",
          "2023-03-25T08:00:00",
          "2023-03-25T07:00:00",
          "2023-03-25T06:00:00",
          "2023-03-25T05:00:00",
          "2023-03-25T04:00:00",
          "2023-03-25T03:00:00",
          "2023-03-25T02:00:00",
          "2023-03-25T01:00:00",
          "2023-03-25T00:00:00"
         ],
         "xaxis": "x",
         "y": [
          13,
          10,
          11,
          13,
          21,
          28,
          27,
          30,
          27,
          28,
          36,
          34,
          35,
          33,
          31,
          27,
          24,
          24,
          22,
          22,
          21,
          16,
          18,
          27
         ],
         "yaxis": "y"
        },
        {
         "hovertemplate": "nom_station=PARSCAU DU PLESSIS<br>heure_mesure=%{x}<br>valeur=%{y}<extra></extra>",
         "legendgroup": "PARSCAU DU PLESSIS",
         "line": {
          "color": "#19d3f3",
          "dash": "solid"
         },
         "marker": {
          "symbol": "circle"
         },
         "mode": "lines",
         "name": "PARSCAU DU PLESSIS",
         "orientation": "v",
         "showlegend": true,
         "type": "scatter",
         "x": [
          "2023-03-25T23:00:00",
          "2023-03-25T22:00:00",
          "2023-03-25T21:00:00",
          "2023-03-25T20:00:00",
          "2023-03-25T19:00:00",
          "2023-03-25T18:00:00",
          "2023-03-25T17:00:00",
          "2023-03-25T16:00:00",
          "2023-03-25T15:00:00",
          "2023-03-25T14:00:00",
          "2023-03-25T13:00:00",
          "2023-03-25T12:00:00",
          "2023-03-25T11:00:00",
          "2023-03-25T10:00:00",
          "2023-03-25T09:00:00",
          "2023-03-25T08:00:00",
          "2023-03-25T07:00:00",
          "2023-03-25T06:00:00",
          "2023-03-25T05:00:00",
          "2023-03-25T04:00:00",
          "2023-03-25T03:00:00",
          "2023-03-25T02:00:00",
          "2023-03-25T01:00:00",
          "2023-03-25T00:00:00"
         ],
         "xaxis": "x",
         "y": [
          7.1,
          4.6,
          7.3,
          9.2,
          12,
          18,
          20,
          22,
          23,
          25,
          27,
          27,
          27,
          27,
          29,
          30,
          26,
          21,
          24,
          22,
          19,
          15,
          16,
          19
         ],
         "yaxis": "y"
        },
        {
         "hovertemplate": "nom_station=CIM BOUTEILLERIE<br>heure_mesure=%{x}<br>valeur=%{y}<extra></extra>",
         "legendgroup": "CIM BOUTEILLERIE",
         "line": {
          "color": "#FF6692",
          "dash": "solid"
         },
         "marker": {
          "symbol": "circle"
         },
         "mode": "lines",
         "name": "CIM BOUTEILLERIE",
         "orientation": "v",
         "showlegend": true,
         "type": "scatter",
         "x": [
          "2023-03-25T23:00:00",
          "2023-03-25T22:00:00",
          "2023-03-25T21:00:00",
          "2023-03-25T20:00:00",
          "2023-03-25T19:00:00",
          "2023-03-25T18:00:00",
          "2023-03-25T17:00:00",
          "2023-03-25T16:00:00",
          "2023-03-25T15:00:00",
          "2023-03-25T14:00:00",
          "2023-03-25T13:00:00",
          "2023-03-25T12:00:00",
          "2023-03-25T11:00:00",
          "2023-03-25T10:00:00",
          "2023-03-25T09:00:00",
          "2023-03-25T08:00:00",
          "2023-03-25T07:00:00",
          "2023-03-25T06:00:00",
          "2023-03-25T05:00:00",
          "2023-03-25T04:00:00",
          "2023-03-25T03:00:00",
          "2023-03-25T02:00:00",
          "2023-03-25T01:00:00",
          "2023-03-25T00:00:00"
         ],
         "xaxis": "x",
         "y": [
          5,
          4.9,
          5.2,
          7.1,
          14,
          18,
          19,
          18,
          20,
          22,
          24,
          24,
          25,
          26,
          25,
          20,
          16,
          24,
          23,
          21,
          14,
          9.4,
          10,
          20
         ],
         "yaxis": "y"
        },
        {
         "hovertemplate": "nom_station=TRENTEMOULT<br>heure_mesure=%{x}<br>valeur=%{y}<extra></extra>",
         "legendgroup": "TRENTEMOULT",
         "line": {
          "color": "#B6E880",
          "dash": "solid"
         },
         "marker": {
          "symbol": "circle"
         },
         "mode": "lines",
         "name": "TRENTEMOULT",
         "orientation": "v",
         "showlegend": true,
         "type": "scatter",
         "x": [
          "2023-03-25T23:00:00",
          "2023-03-25T22:00:00",
          "2023-03-25T21:00:00",
          "2023-03-25T20:00:00",
          "2023-03-25T19:00:00",
          "2023-03-25T18:00:00",
          "2023-03-25T17:00:00",
          "2023-03-25T16:00:00",
          "2023-03-25T15:00:00",
          "2023-03-25T14:00:00",
          "2023-03-25T13:00:00",
          "2023-03-25T12:00:00",
          "2023-03-25T11:00:00",
          "2023-03-25T10:00:00",
          "2023-03-25T09:00:00",
          "2023-03-25T08:00:00",
          "2023-03-25T07:00:00",
          "2023-03-25T06:00:00",
          "2023-03-25T05:00:00",
          "2023-03-25T04:00:00",
          "2023-03-25T03:00:00",
          "2023-03-25T02:00:00",
          "2023-03-25T01:00:00",
          "2023-03-25T00:00:00"
         ],
         "xaxis": "x",
         "y": [
          8.1,
          7.9,
          8.2,
          9.9,
          20,
          24,
          26,
          26,
          27,
          27,
          30,
          29,
          29,
          27,
          24,
          17,
          21,
          23,
          21,
          17,
          12,
          11,
          21,
          19
         ],
         "yaxis": "y"
        },
        {
         "hovertemplate": "nom_station=LES COUETS<br>heure_mesure=%{x}<br>valeur=%{y}<extra></extra>",
         "legendgroup": "LES COUETS",
         "line": {
          "color": "#FF97FF",
          "dash": "solid"
         },
         "marker": {
          "symbol": "circle"
         },
         "mode": "lines",
         "name": "LES COUETS",
         "orientation": "v",
         "showlegend": true,
         "type": "scatter",
         "x": [
          "2023-03-25T23:00:00",
          "2023-03-25T22:00:00",
          "2023-03-25T21:00:00",
          "2023-03-25T20:00:00",
          "2023-03-25T19:00:00",
          "2023-03-25T18:00:00",
          "2023-03-25T17:00:00",
          "2023-03-25T16:00:00",
          "2023-03-25T15:00:00",
          "2023-03-25T14:00:00",
          "2023-03-25T13:00:00",
          "2023-03-25T12:00:00",
          "2023-03-25T11:00:00",
          "2023-03-25T10:00:00",
          "2023-03-25T09:00:00",
          "2023-03-25T08:00:00",
          "2023-03-25T07:00:00",
          "2023-03-25T06:00:00",
          "2023-03-25T05:00:00",
          "2023-03-25T04:00:00",
          "2023-03-25T03:00:00",
          "2023-03-25T02:00:00",
          "2023-03-25T01:00:00",
          "2023-03-25T00:00:00"
         ],
         "xaxis": "x",
         "y": [
          6.8,
          5.8,
          2.2,
          7.8,
          14,
          19,
          22,
          23,
          26,
          29,
          28,
          29,
          29,
          29,
          23,
          18,
          21,
          21,
          20,
          17,
          10,
          8.4,
          17,
          17
         ],
         "yaxis": "y"
        },
        {
         "hovertemplate": "nom_station=CAMEE<br>heure_mesure=%{x}<br>valeur=%{y}<extra></extra>",
         "legendgroup": "CAMEE",
         "line": {
          "color": "#FECB52",
          "dash": "solid"
         },
         "marker": {
          "symbol": "circle"
         },
         "mode": "lines",
         "name": "CAMEE",
         "orientation": "v",
         "showlegend": true,
         "type": "scatter",
         "x": [
          "2023-03-25T23:00:00",
          "2023-03-25T22:00:00",
          "2023-03-25T21:00:00",
          "2023-03-25T20:00:00",
          "2023-03-25T19:00:00",
          "2023-03-25T18:00:00",
          "2023-03-25T17:00:00",
          "2023-03-25T16:00:00",
          "2023-03-25T15:00:00",
          "2023-03-25T14:00:00",
          "2023-03-25T13:00:00",
          "2023-03-25T12:00:00",
          "2023-03-25T11:00:00",
          "2023-03-25T10:00:00",
          "2023-03-25T09:00:00",
          "2023-03-25T08:00:00",
          "2023-03-25T07:00:00",
          "2023-03-25T06:00:00",
          "2023-03-25T05:00:00",
          "2023-03-25T04:00:00",
          "2023-03-25T03:00:00",
          "2023-03-25T02:00:00",
          "2023-03-25T01:00:00",
          "2023-03-25T00:00:00"
         ],
         "xaxis": "x",
         "y": [
          8.3,
          4,
          5.6,
          9.4,
          12,
          18,
          20,
          22,
          22,
          23,
          24,
          23,
          25,
          24,
          24,
          26,
          24,
          20,
          22,
          20,
          19,
          15,
          15,
          18
         ],
         "yaxis": "y"
        },
        {
         "hovertemplate": "nom_station=FRERES GONCOURT<br>heure_mesure=%{x}<br>valeur=%{y}<extra></extra>",
         "legendgroup": "FRERES GONCOURT",
         "line": {
          "color": "#636efa",
          "dash": "solid"
         },
         "marker": {
          "symbol": "circle"
         },
         "mode": "lines",
         "name": "FRERES GONCOURT",
         "orientation": "v",
         "showlegend": true,
         "type": "scatter",
         "x": [
          "2023-03-25T23:00:00",
          "2023-03-25T22:00:00",
          "2023-03-25T21:00:00",
          "2023-03-25T20:00:00",
          "2023-03-25T19:00:00",
          "2023-03-25T18:00:00",
          "2023-03-25T17:00:00",
          "2023-03-25T16:00:00",
          "2023-03-25T15:00:00",
          "2023-03-25T14:00:00",
          "2023-03-25T13:00:00",
          "2023-03-25T12:00:00",
          "2023-03-25T11:00:00",
          "2023-03-25T10:00:00",
          "2023-03-25T09:00:00",
          "2023-03-25T08:00:00",
          "2023-03-25T07:00:00",
          "2023-03-25T06:00:00",
          "2023-03-25T05:00:00",
          "2023-03-25T04:00:00",
          "2023-03-25T03:00:00",
          "2023-03-25T02:00:00",
          "2023-03-25T01:00:00",
          "2023-03-25T00:00:00"
         ],
         "xaxis": "x",
         "y": [
          5.9,
          5.9,
          9.8,
          9.8,
          24,
          27,
          25,
          26,
          34,
          29,
          30,
          27,
          27,
          26,
          25,
          18,
          18,
          21,
          18,
          15,
          9.1,
          3.9,
          15,
          16
         ],
         "yaxis": "y"
        }
       ],
       "layout": {
        "legend": {
         "title": {
          "text": "nom_station"
         },
         "tracegroupgap": 0
        },
        "template": {
         "data": {
          "bar": [
           {
            "error_x": {
             "color": "#2a3f5f"
            },
            "error_y": {
             "color": "#2a3f5f"
            },
            "marker": {
             "line": {
              "color": "#E5ECF6",
              "width": 0.5
             },
             "pattern": {
              "fillmode": "overlay",
              "size": 10,
              "solidity": 0.2
             }
            },
            "type": "bar"
           }
          ],
          "barpolar": [
           {
            "marker": {
             "line": {
              "color": "#E5ECF6",
              "width": 0.5
             },
             "pattern": {
              "fillmode": "overlay",
              "size": 10,
              "solidity": 0.2
             }
            },
            "type": "barpolar"
           }
          ],
          "carpet": [
           {
            "aaxis": {
             "endlinecolor": "#2a3f5f",
             "gridcolor": "white",
             "linecolor": "white",
             "minorgridcolor": "white",
             "startlinecolor": "#2a3f5f"
            },
            "baxis": {
             "endlinecolor": "#2a3f5f",
             "gridcolor": "white",
             "linecolor": "white",
             "minorgridcolor": "white",
             "startlinecolor": "#2a3f5f"
            },
            "type": "carpet"
           }
          ],
          "choropleth": [
           {
            "colorbar": {
             "outlinewidth": 0,
             "ticks": ""
            },
            "type": "choropleth"
           }
          ],
          "contour": [
           {
            "colorbar": {
             "outlinewidth": 0,
             "ticks": ""
            },
            "colorscale": [
             [
              0,
              "#0d0887"
             ],
             [
              0.1111111111111111,
              "#46039f"
             ],
             [
              0.2222222222222222,
              "#7201a8"
             ],
             [
              0.3333333333333333,
              "#9c179e"
             ],
             [
              0.4444444444444444,
              "#bd3786"
             ],
             [
              0.5555555555555556,
              "#d8576b"
             ],
             [
              0.6666666666666666,
              "#ed7953"
             ],
             [
              0.7777777777777778,
              "#fb9f3a"
             ],
             [
              0.8888888888888888,
              "#fdca26"
             ],
             [
              1,
              "#f0f921"
             ]
            ],
            "type": "contour"
           }
          ],
          "contourcarpet": [
           {
            "colorbar": {
             "outlinewidth": 0,
             "ticks": ""
            },
            "type": "contourcarpet"
           }
          ],
          "heatmap": [
           {
            "colorbar": {
             "outlinewidth": 0,
             "ticks": ""
            },
            "colorscale": [
             [
              0,
              "#0d0887"
             ],
             [
              0.1111111111111111,
              "#46039f"
             ],
             [
              0.2222222222222222,
              "#7201a8"
             ],
             [
              0.3333333333333333,
              "#9c179e"
             ],
             [
              0.4444444444444444,
              "#bd3786"
             ],
             [
              0.5555555555555556,
              "#d8576b"
             ],
             [
              0.6666666666666666,
              "#ed7953"
             ],
             [
              0.7777777777777778,
              "#fb9f3a"
             ],
             [
              0.8888888888888888,
              "#fdca26"
             ],
             [
              1,
              "#f0f921"
             ]
            ],
            "type": "heatmap"
           }
          ],
          "heatmapgl": [
           {
            "colorbar": {
             "outlinewidth": 0,
             "ticks": ""
            },
            "colorscale": [
             [
              0,
              "#0d0887"
             ],
             [
              0.1111111111111111,
              "#46039f"
             ],
             [
              0.2222222222222222,
              "#7201a8"
             ],
             [
              0.3333333333333333,
              "#9c179e"
             ],
             [
              0.4444444444444444,
              "#bd3786"
             ],
             [
              0.5555555555555556,
              "#d8576b"
             ],
             [
              0.6666666666666666,
              "#ed7953"
             ],
             [
              0.7777777777777778,
              "#fb9f3a"
             ],
             [
              0.8888888888888888,
              "#fdca26"
             ],
             [
              1,
              "#f0f921"
             ]
            ],
            "type": "heatmapgl"
           }
          ],
          "histogram": [
           {
            "marker": {
             "pattern": {
              "fillmode": "overlay",
              "size": 10,
              "solidity": 0.2
             }
            },
            "type": "histogram"
           }
          ],
          "histogram2d": [
           {
            "colorbar": {
             "outlinewidth": 0,
             "ticks": ""
            },
            "colorscale": [
             [
              0,
              "#0d0887"
             ],
             [
              0.1111111111111111,
              "#46039f"
             ],
             [
              0.2222222222222222,
              "#7201a8"
             ],
             [
              0.3333333333333333,
              "#9c179e"
             ],
             [
              0.4444444444444444,
              "#bd3786"
             ],
             [
              0.5555555555555556,
              "#d8576b"
             ],
             [
              0.6666666666666666,
              "#ed7953"
             ],
             [
              0.7777777777777778,
              "#fb9f3a"
             ],
             [
              0.8888888888888888,
              "#fdca26"
             ],
             [
              1,
              "#f0f921"
             ]
            ],
            "type": "histogram2d"
           }
          ],
          "histogram2dcontour": [
           {
            "colorbar": {
             "outlinewidth": 0,
             "ticks": ""
            },
            "colorscale": [
             [
              0,
              "#0d0887"
             ],
             [
              0.1111111111111111,
              "#46039f"
             ],
             [
              0.2222222222222222,
              "#7201a8"
             ],
             [
              0.3333333333333333,
              "#9c179e"
             ],
             [
              0.4444444444444444,
              "#bd3786"
             ],
             [
              0.5555555555555556,
              "#d8576b"
             ],
             [
              0.6666666666666666,
              "#ed7953"
             ],
             [
              0.7777777777777778,
              "#fb9f3a"
             ],
             [
              0.8888888888888888,
              "#fdca26"
             ],
             [
              1,
              "#f0f921"
             ]
            ],
            "type": "histogram2dcontour"
           }
          ],
          "mesh3d": [
           {
            "colorbar": {
             "outlinewidth": 0,
             "ticks": ""
            },
            "type": "mesh3d"
           }
          ],
          "parcoords": [
           {
            "line": {
             "colorbar": {
              "outlinewidth": 0,
              "ticks": ""
             }
            },
            "type": "parcoords"
           }
          ],
          "pie": [
           {
            "automargin": true,
            "type": "pie"
           }
          ],
          "scatter": [
           {
            "fillpattern": {
             "fillmode": "overlay",
             "size": 10,
             "solidity": 0.2
            },
            "type": "scatter"
           }
          ],
          "scatter3d": [
           {
            "line": {
             "colorbar": {
              "outlinewidth": 0,
              "ticks": ""
             }
            },
            "marker": {
             "colorbar": {
              "outlinewidth": 0,
              "ticks": ""
             }
            },
            "type": "scatter3d"
           }
          ],
          "scattercarpet": [
           {
            "marker": {
             "colorbar": {
              "outlinewidth": 0,
              "ticks": ""
             }
            },
            "type": "scattercarpet"
           }
          ],
          "scattergeo": [
           {
            "marker": {
             "colorbar": {
              "outlinewidth": 0,
              "ticks": ""
             }
            },
            "type": "scattergeo"
           }
          ],
          "scattergl": [
           {
            "marker": {
             "colorbar": {
              "outlinewidth": 0,
              "ticks": ""
             }
            },
            "type": "scattergl"
           }
          ],
          "scattermapbox": [
           {
            "marker": {
             "colorbar": {
              "outlinewidth": 0,
              "ticks": ""
             }
            },
            "type": "scattermapbox"
           }
          ],
          "scatterpolar": [
           {
            "marker": {
             "colorbar": {
              "outlinewidth": 0,
              "ticks": ""
             }
            },
            "type": "scatterpolar"
           }
          ],
          "scatterpolargl": [
           {
            "marker": {
             "colorbar": {
              "outlinewidth": 0,
              "ticks": ""
             }
            },
            "type": "scatterpolargl"
           }
          ],
          "scatterternary": [
           {
            "marker": {
             "colorbar": {
              "outlinewidth": 0,
              "ticks": ""
             }
            },
            "type": "scatterternary"
           }
          ],
          "surface": [
           {
            "colorbar": {
             "outlinewidth": 0,
             "ticks": ""
            },
            "colorscale": [
             [
              0,
              "#0d0887"
             ],
             [
              0.1111111111111111,
              "#46039f"
             ],
             [
              0.2222222222222222,
              "#7201a8"
             ],
             [
              0.3333333333333333,
              "#9c179e"
             ],
             [
              0.4444444444444444,
              "#bd3786"
             ],
             [
              0.5555555555555556,
              "#d8576b"
             ],
             [
              0.6666666666666666,
              "#ed7953"
             ],
             [
              0.7777777777777778,
              "#fb9f3a"
             ],
             [
              0.8888888888888888,
              "#fdca26"
             ],
             [
              1,
              "#f0f921"
             ]
            ],
            "type": "surface"
           }
          ],
          "table": [
           {
            "cells": {
             "fill": {
              "color": "#EBF0F8"
             },
             "line": {
              "color": "white"
             }
            },
            "header": {
             "fill": {
              "color": "#C8D4E3"
             },
             "line": {
              "color": "white"
             }
            },
            "type": "table"
           }
          ]
         },
         "layout": {
          "annotationdefaults": {
           "arrowcolor": "#2a3f5f",
           "arrowhead": 0,
           "arrowwidth": 1
          },
          "autotypenumbers": "strict",
          "coloraxis": {
           "colorbar": {
            "outlinewidth": 0,
            "ticks": ""
           }
          },
          "colorscale": {
           "diverging": [
            [
             0,
             "#8e0152"
            ],
            [
             0.1,
             "#c51b7d"
            ],
            [
             0.2,
             "#de77ae"
            ],
            [
             0.3,
             "#f1b6da"
            ],
            [
             0.4,
             "#fde0ef"
            ],
            [
             0.5,
             "#f7f7f7"
            ],
            [
             0.6,
             "#e6f5d0"
            ],
            [
             0.7,
             "#b8e186"
            ],
            [
             0.8,
             "#7fbc41"
            ],
            [
             0.9,
             "#4d9221"
            ],
            [
             1,
             "#276419"
            ]
           ],
           "sequential": [
            [
             0,
             "#0d0887"
            ],
            [
             0.1111111111111111,
             "#46039f"
            ],
            [
             0.2222222222222222,
             "#7201a8"
            ],
            [
             0.3333333333333333,
             "#9c179e"
            ],
            [
             0.4444444444444444,
             "#bd3786"
            ],
            [
             0.5555555555555556,
             "#d8576b"
            ],
            [
             0.6666666666666666,
             "#ed7953"
            ],
            [
             0.7777777777777778,
             "#fb9f3a"
            ],
            [
             0.8888888888888888,
             "#fdca26"
            ],
            [
             1,
             "#f0f921"
            ]
           ],
           "sequentialminus": [
            [
             0,
             "#0d0887"
            ],
            [
             0.1111111111111111,
             "#46039f"
            ],
            [
             0.2222222222222222,
             "#7201a8"
            ],
            [
             0.3333333333333333,
             "#9c179e"
            ],
            [
             0.4444444444444444,
             "#bd3786"
            ],
            [
             0.5555555555555556,
             "#d8576b"
            ],
            [
             0.6666666666666666,
             "#ed7953"
            ],
            [
             0.7777777777777778,
             "#fb9f3a"
            ],
            [
             0.8888888888888888,
             "#fdca26"
            ],
            [
             1,
             "#f0f921"
            ]
           ]
          },
          "colorway": [
           "#636efa",
           "#EF553B",
           "#00cc96",
           "#ab63fa",
           "#FFA15A",
           "#19d3f3",
           "#FF6692",
           "#B6E880",
           "#FF97FF",
           "#FECB52"
          ],
          "font": {
           "color": "#2a3f5f"
          },
          "geo": {
           "bgcolor": "white",
           "lakecolor": "white",
           "landcolor": "#E5ECF6",
           "showlakes": true,
           "showland": true,
           "subunitcolor": "white"
          },
          "hoverlabel": {
           "align": "left"
          },
          "hovermode": "closest",
          "mapbox": {
           "style": "light"
          },
          "paper_bgcolor": "white",
          "plot_bgcolor": "#E5ECF6",
          "polar": {
           "angularaxis": {
            "gridcolor": "white",
            "linecolor": "white",
            "ticks": ""
           },
           "bgcolor": "#E5ECF6",
           "radialaxis": {
            "gridcolor": "white",
            "linecolor": "white",
            "ticks": ""
           }
          },
          "scene": {
           "xaxis": {
            "backgroundcolor": "#E5ECF6",
            "gridcolor": "white",
            "gridwidth": 2,
            "linecolor": "white",
            "showbackground": true,
            "ticks": "",
            "zerolinecolor": "white"
           },
           "yaxis": {
            "backgroundcolor": "#E5ECF6",
            "gridcolor": "white",
            "gridwidth": 2,
            "linecolor": "white",
            "showbackground": true,
            "ticks": "",
            "zerolinecolor": "white"
           },
           "zaxis": {
            "backgroundcolor": "#E5ECF6",
            "gridcolor": "white",
            "gridwidth": 2,
            "linecolor": "white",
            "showbackground": true,
            "ticks": "",
            "zerolinecolor": "white"
           }
          },
          "shapedefaults": {
           "line": {
            "color": "#2a3f5f"
           }
          },
          "ternary": {
           "aaxis": {
            "gridcolor": "white",
            "linecolor": "white",
            "ticks": ""
           },
           "baxis": {
            "gridcolor": "white",
            "linecolor": "white",
            "ticks": ""
           },
           "bgcolor": "#E5ECF6",
           "caxis": {
            "gridcolor": "white",
            "linecolor": "white",
            "ticks": ""
           }
          },
          "title": {
           "x": 0.05
          },
          "xaxis": {
           "automargin": true,
           "gridcolor": "white",
           "linecolor": "white",
           "ticks": "",
           "title": {
            "standoff": 15
           },
           "zerolinecolor": "white",
           "zerolinewidth": 2
          },
          "yaxis": {
           "automargin": true,
           "gridcolor": "white",
           "linecolor": "white",
           "ticks": "",
           "title": {
            "standoff": 15
           },
           "zerolinecolor": "white",
           "zerolinewidth": 2
          }
         }
        },
        "title": {
         "text": "Evolution des valeurs de PM10 sur la journée du 25/03/2023 en Loire-Atlantique"
        },
        "xaxis": {
         "anchor": "y",
         "domain": [
          0,
          1
         ],
         "title": {
          "text": "heure_mesure"
         }
        },
        "yaxis": {
         "anchor": "x",
         "domain": [
          0,
          1
         ],
         "title": {
          "text": "valeur"
         }
        }
       }
      }
     },
     "metadata": {},
     "output_type": "display_data"
    }
   ],
   "source": [
    "df_PM10_25032023 = df_PM10_hour_week[df_PM10_hour_week['heure_mesure'].dt.date == pd.to_datetime('2023-03-25')]\n",
    "\n",
    "px.line(df_PM10_25032023,\n",
    "        x='heure_mesure',\n",
    "        y='valeur',\n",
    "        color='nom_station',\n",
    "        title='Evolution des valeurs de PM10 sur la journée du 25/03/2023 en Loire-Atlantique')\n"
   ]
  },
  {
   "attachments": {},
   "cell_type": "markdown",
   "metadata": {},
   "source": [
    "On observe comme prévu une augmentation de la concentration de PM10 pendant la journée, et une moindre concentration la nuit. \n",
    "La mesure des polluants dans l'air est lié à beaucoup de phénomène, et les évolutions (dont pics) peuvent s'expliquer par les conditions météo ou une intervention humaine particulière. \n",
    "\n",
    "Mais d'abord, où sont situées nos stations ? En les affihant avec plotly, nous allons observer leur valeur moyenne en PM10"
   ]
  },
  {
   "cell_type": "code",
   "execution_count": 8,
   "metadata": {},
   "outputs": [
    {
     "data": {
      "application/vnd.plotly.v1+json": {
       "config": {
        "plotlyServerURL": "https://plot.ly"
       },
       "data": [
        {
         "hovertemplate": "<b>%{hovertext}</b><br><br>valeur=%{marker.color}<br>lat=%{lat}<br>long=%{lon}<extra></extra>",
         "hovertext": [
          "CAMEE",
          "CIM BOUTEILLERIE",
          "FRERES GONCOURT",
          "FROSSAY",
          "LA CHAUVINIERE",
          "LA MEGRETAIS",
          "LEON BLUM",
          "LES COUETS",
          "PARSCAU DU PLESSIS",
          "SAINT ETIENNE DE MONTLUC",
          "TRENTEMOULT"
         ],
         "lat": [
          47.32113812654744,
          47.22217589146574,
          47.23354499998231,
          47.24735229625331,
          47.25291196744293,
          47.3227052288586,
          47.26411028437446,
          47.18591899996436,
          47.318896029650766,
          47.28312712300018,
          47.1941469999644
         ],
         "legendgroup": "",
         "lon": [
          -2.1273331951941428,
          -1.5374268258113175,
          -1.564803,
          -1.9365235553956817,
          -1.5732745401793513,
          -2.039245335998521,
          -2.2501538782724806,
          -1.591496999999999,
          -2.06687664431583,
          -1.7830812813449453,
          -1.5816779999999988
         ],
         "marker": {
          "color": [
           15.357738095238094,
           13.58095238095238,
           16.378571428571426,
           13.10301204819277,
           11.401785714285714,
           15.470059880239521,
           18.03818181818182,
           15.132934131736526,
           15.686585365853658,
           12.433532934131737,
           15.418072289156626
          ],
          "coloraxis": "coloraxis",
          "opacity": 0.9,
          "size": [
           15.357738095238094,
           13.58095238095238,
           16.378571428571426,
           13.10301204819277,
           11.401785714285714,
           15.470059880239521,
           18.03818181818182,
           15.132934131736526,
           15.686585365853658,
           12.433532934131737,
           15.418072289156626
          ],
          "sizemode": "area",
          "sizeref": 0.1803818181818182
         },
         "mode": "markers",
         "name": "",
         "showlegend": false,
         "subplot": "mapbox",
         "type": "scattermapbox"
        }
       ],
       "layout": {
        "coloraxis": {
         "colorbar": {
          "title": {
           "text": "valeur"
          }
         },
         "colorscale": [
          [
           0,
           "#0d0887"
          ],
          [
           0.1111111111111111,
           "#46039f"
          ],
          [
           0.2222222222222222,
           "#7201a8"
          ],
          [
           0.3333333333333333,
           "#9c179e"
          ],
          [
           0.4444444444444444,
           "#bd3786"
          ],
          [
           0.5555555555555556,
           "#d8576b"
          ],
          [
           0.6666666666666666,
           "#ed7953"
          ],
          [
           0.7777777777777778,
           "#fb9f3a"
          ],
          [
           0.8888888888888888,
           "#fdca26"
          ],
          [
           1,
           "#f0f921"
          ]
         ]
        },
        "height": 400,
        "legend": {
         "itemsizing": "constant",
         "tracegroupgap": 0
        },
        "mapbox": {
         "center": {
          "lat": 47.258729813409495,
          "lon": -1.822899386955661
         },
         "domain": {
          "x": [
           0,
           1
          ],
          "y": [
           0,
           1
          ]
         },
         "style": "stamen-terrain",
         "zoom": 9
        },
        "margin": {
         "b": 0,
         "l": 0,
         "r": 0,
         "t": 40
        },
        "template": {
         "data": {
          "bar": [
           {
            "error_x": {
             "color": "#2a3f5f"
            },
            "error_y": {
             "color": "#2a3f5f"
            },
            "marker": {
             "line": {
              "color": "#E5ECF6",
              "width": 0.5
             },
             "pattern": {
              "fillmode": "overlay",
              "size": 10,
              "solidity": 0.2
             }
            },
            "type": "bar"
           }
          ],
          "barpolar": [
           {
            "marker": {
             "line": {
              "color": "#E5ECF6",
              "width": 0.5
             },
             "pattern": {
              "fillmode": "overlay",
              "size": 10,
              "solidity": 0.2
             }
            },
            "type": "barpolar"
           }
          ],
          "carpet": [
           {
            "aaxis": {
             "endlinecolor": "#2a3f5f",
             "gridcolor": "white",
             "linecolor": "white",
             "minorgridcolor": "white",
             "startlinecolor": "#2a3f5f"
            },
            "baxis": {
             "endlinecolor": "#2a3f5f",
             "gridcolor": "white",
             "linecolor": "white",
             "minorgridcolor": "white",
             "startlinecolor": "#2a3f5f"
            },
            "type": "carpet"
           }
          ],
          "choropleth": [
           {
            "colorbar": {
             "outlinewidth": 0,
             "ticks": ""
            },
            "type": "choropleth"
           }
          ],
          "contour": [
           {
            "colorbar": {
             "outlinewidth": 0,
             "ticks": ""
            },
            "colorscale": [
             [
              0,
              "#0d0887"
             ],
             [
              0.1111111111111111,
              "#46039f"
             ],
             [
              0.2222222222222222,
              "#7201a8"
             ],
             [
              0.3333333333333333,
              "#9c179e"
             ],
             [
              0.4444444444444444,
              "#bd3786"
             ],
             [
              0.5555555555555556,
              "#d8576b"
             ],
             [
              0.6666666666666666,
              "#ed7953"
             ],
             [
              0.7777777777777778,
              "#fb9f3a"
             ],
             [
              0.8888888888888888,
              "#fdca26"
             ],
             [
              1,
              "#f0f921"
             ]
            ],
            "type": "contour"
           }
          ],
          "contourcarpet": [
           {
            "colorbar": {
             "outlinewidth": 0,
             "ticks": ""
            },
            "type": "contourcarpet"
           }
          ],
          "heatmap": [
           {
            "colorbar": {
             "outlinewidth": 0,
             "ticks": ""
            },
            "colorscale": [
             [
              0,
              "#0d0887"
             ],
             [
              0.1111111111111111,
              "#46039f"
             ],
             [
              0.2222222222222222,
              "#7201a8"
             ],
             [
              0.3333333333333333,
              "#9c179e"
             ],
             [
              0.4444444444444444,
              "#bd3786"
             ],
             [
              0.5555555555555556,
              "#d8576b"
             ],
             [
              0.6666666666666666,
              "#ed7953"
             ],
             [
              0.7777777777777778,
              "#fb9f3a"
             ],
             [
              0.8888888888888888,
              "#fdca26"
             ],
             [
              1,
              "#f0f921"
             ]
            ],
            "type": "heatmap"
           }
          ],
          "heatmapgl": [
           {
            "colorbar": {
             "outlinewidth": 0,
             "ticks": ""
            },
            "colorscale": [
             [
              0,
              "#0d0887"
             ],
             [
              0.1111111111111111,
              "#46039f"
             ],
             [
              0.2222222222222222,
              "#7201a8"
             ],
             [
              0.3333333333333333,
              "#9c179e"
             ],
             [
              0.4444444444444444,
              "#bd3786"
             ],
             [
              0.5555555555555556,
              "#d8576b"
             ],
             [
              0.6666666666666666,
              "#ed7953"
             ],
             [
              0.7777777777777778,
              "#fb9f3a"
             ],
             [
              0.8888888888888888,
              "#fdca26"
             ],
             [
              1,
              "#f0f921"
             ]
            ],
            "type": "heatmapgl"
           }
          ],
          "histogram": [
           {
            "marker": {
             "pattern": {
              "fillmode": "overlay",
              "size": 10,
              "solidity": 0.2
             }
            },
            "type": "histogram"
           }
          ],
          "histogram2d": [
           {
            "colorbar": {
             "outlinewidth": 0,
             "ticks": ""
            },
            "colorscale": [
             [
              0,
              "#0d0887"
             ],
             [
              0.1111111111111111,
              "#46039f"
             ],
             [
              0.2222222222222222,
              "#7201a8"
             ],
             [
              0.3333333333333333,
              "#9c179e"
             ],
             [
              0.4444444444444444,
              "#bd3786"
             ],
             [
              0.5555555555555556,
              "#d8576b"
             ],
             [
              0.6666666666666666,
              "#ed7953"
             ],
             [
              0.7777777777777778,
              "#fb9f3a"
             ],
             [
              0.8888888888888888,
              "#fdca26"
             ],
             [
              1,
              "#f0f921"
             ]
            ],
            "type": "histogram2d"
           }
          ],
          "histogram2dcontour": [
           {
            "colorbar": {
             "outlinewidth": 0,
             "ticks": ""
            },
            "colorscale": [
             [
              0,
              "#0d0887"
             ],
             [
              0.1111111111111111,
              "#46039f"
             ],
             [
              0.2222222222222222,
              "#7201a8"
             ],
             [
              0.3333333333333333,
              "#9c179e"
             ],
             [
              0.4444444444444444,
              "#bd3786"
             ],
             [
              0.5555555555555556,
              "#d8576b"
             ],
             [
              0.6666666666666666,
              "#ed7953"
             ],
             [
              0.7777777777777778,
              "#fb9f3a"
             ],
             [
              0.8888888888888888,
              "#fdca26"
             ],
             [
              1,
              "#f0f921"
             ]
            ],
            "type": "histogram2dcontour"
           }
          ],
          "mesh3d": [
           {
            "colorbar": {
             "outlinewidth": 0,
             "ticks": ""
            },
            "type": "mesh3d"
           }
          ],
          "parcoords": [
           {
            "line": {
             "colorbar": {
              "outlinewidth": 0,
              "ticks": ""
             }
            },
            "type": "parcoords"
           }
          ],
          "pie": [
           {
            "automargin": true,
            "type": "pie"
           }
          ],
          "scatter": [
           {
            "fillpattern": {
             "fillmode": "overlay",
             "size": 10,
             "solidity": 0.2
            },
            "type": "scatter"
           }
          ],
          "scatter3d": [
           {
            "line": {
             "colorbar": {
              "outlinewidth": 0,
              "ticks": ""
             }
            },
            "marker": {
             "colorbar": {
              "outlinewidth": 0,
              "ticks": ""
             }
            },
            "type": "scatter3d"
           }
          ],
          "scattercarpet": [
           {
            "marker": {
             "colorbar": {
              "outlinewidth": 0,
              "ticks": ""
             }
            },
            "type": "scattercarpet"
           }
          ],
          "scattergeo": [
           {
            "marker": {
             "colorbar": {
              "outlinewidth": 0,
              "ticks": ""
             }
            },
            "type": "scattergeo"
           }
          ],
          "scattergl": [
           {
            "marker": {
             "colorbar": {
              "outlinewidth": 0,
              "ticks": ""
             }
            },
            "type": "scattergl"
           }
          ],
          "scattermapbox": [
           {
            "marker": {
             "colorbar": {
              "outlinewidth": 0,
              "ticks": ""
             }
            },
            "type": "scattermapbox"
           }
          ],
          "scatterpolar": [
           {
            "marker": {
             "colorbar": {
              "outlinewidth": 0,
              "ticks": ""
             }
            },
            "type": "scatterpolar"
           }
          ],
          "scatterpolargl": [
           {
            "marker": {
             "colorbar": {
              "outlinewidth": 0,
              "ticks": ""
             }
            },
            "type": "scatterpolargl"
           }
          ],
          "scatterternary": [
           {
            "marker": {
             "colorbar": {
              "outlinewidth": 0,
              "ticks": ""
             }
            },
            "type": "scatterternary"
           }
          ],
          "surface": [
           {
            "colorbar": {
             "outlinewidth": 0,
             "ticks": ""
            },
            "colorscale": [
             [
              0,
              "#0d0887"
             ],
             [
              0.1111111111111111,
              "#46039f"
             ],
             [
              0.2222222222222222,
              "#7201a8"
             ],
             [
              0.3333333333333333,
              "#9c179e"
             ],
             [
              0.4444444444444444,
              "#bd3786"
             ],
             [
              0.5555555555555556,
              "#d8576b"
             ],
             [
              0.6666666666666666,
              "#ed7953"
             ],
             [
              0.7777777777777778,
              "#fb9f3a"
             ],
             [
              0.8888888888888888,
              "#fdca26"
             ],
             [
              1,
              "#f0f921"
             ]
            ],
            "type": "surface"
           }
          ],
          "table": [
           {
            "cells": {
             "fill": {
              "color": "#EBF0F8"
             },
             "line": {
              "color": "white"
             }
            },
            "header": {
             "fill": {
              "color": "#C8D4E3"
             },
             "line": {
              "color": "white"
             }
            },
            "type": "table"
           }
          ]
         },
         "layout": {
          "annotationdefaults": {
           "arrowcolor": "#2a3f5f",
           "arrowhead": 0,
           "arrowwidth": 1
          },
          "autotypenumbers": "strict",
          "coloraxis": {
           "colorbar": {
            "outlinewidth": 0,
            "ticks": ""
           }
          },
          "colorscale": {
           "diverging": [
            [
             0,
             "#8e0152"
            ],
            [
             0.1,
             "#c51b7d"
            ],
            [
             0.2,
             "#de77ae"
            ],
            [
             0.3,
             "#f1b6da"
            ],
            [
             0.4,
             "#fde0ef"
            ],
            [
             0.5,
             "#f7f7f7"
            ],
            [
             0.6,
             "#e6f5d0"
            ],
            [
             0.7,
             "#b8e186"
            ],
            [
             0.8,
             "#7fbc41"
            ],
            [
             0.9,
             "#4d9221"
            ],
            [
             1,
             "#276419"
            ]
           ],
           "sequential": [
            [
             0,
             "#0d0887"
            ],
            [
             0.1111111111111111,
             "#46039f"
            ],
            [
             0.2222222222222222,
             "#7201a8"
            ],
            [
             0.3333333333333333,
             "#9c179e"
            ],
            [
             0.4444444444444444,
             "#bd3786"
            ],
            [
             0.5555555555555556,
             "#d8576b"
            ],
            [
             0.6666666666666666,
             "#ed7953"
            ],
            [
             0.7777777777777778,
             "#fb9f3a"
            ],
            [
             0.8888888888888888,
             "#fdca26"
            ],
            [
             1,
             "#f0f921"
            ]
           ],
           "sequentialminus": [
            [
             0,
             "#0d0887"
            ],
            [
             0.1111111111111111,
             "#46039f"
            ],
            [
             0.2222222222222222,
             "#7201a8"
            ],
            [
             0.3333333333333333,
             "#9c179e"
            ],
            [
             0.4444444444444444,
             "#bd3786"
            ],
            [
             0.5555555555555556,
             "#d8576b"
            ],
            [
             0.6666666666666666,
             "#ed7953"
            ],
            [
             0.7777777777777778,
             "#fb9f3a"
            ],
            [
             0.8888888888888888,
             "#fdca26"
            ],
            [
             1,
             "#f0f921"
            ]
           ]
          },
          "colorway": [
           "#636efa",
           "#EF553B",
           "#00cc96",
           "#ab63fa",
           "#FFA15A",
           "#19d3f3",
           "#FF6692",
           "#B6E880",
           "#FF97FF",
           "#FECB52"
          ],
          "font": {
           "color": "#2a3f5f"
          },
          "geo": {
           "bgcolor": "white",
           "lakecolor": "white",
           "landcolor": "#E5ECF6",
           "showlakes": true,
           "showland": true,
           "subunitcolor": "white"
          },
          "hoverlabel": {
           "align": "left"
          },
          "hovermode": "closest",
          "mapbox": {
           "style": "light"
          },
          "paper_bgcolor": "white",
          "plot_bgcolor": "#E5ECF6",
          "polar": {
           "angularaxis": {
            "gridcolor": "white",
            "linecolor": "white",
            "ticks": ""
           },
           "bgcolor": "#E5ECF6",
           "radialaxis": {
            "gridcolor": "white",
            "linecolor": "white",
            "ticks": ""
           }
          },
          "scene": {
           "xaxis": {
            "backgroundcolor": "#E5ECF6",
            "gridcolor": "white",
            "gridwidth": 2,
            "linecolor": "white",
            "showbackground": true,
            "ticks": "",
            "zerolinecolor": "white"
           },
           "yaxis": {
            "backgroundcolor": "#E5ECF6",
            "gridcolor": "white",
            "gridwidth": 2,
            "linecolor": "white",
            "showbackground": true,
            "ticks": "",
            "zerolinecolor": "white"
           },
           "zaxis": {
            "backgroundcolor": "#E5ECF6",
            "gridcolor": "white",
            "gridwidth": 2,
            "linecolor": "white",
            "showbackground": true,
            "ticks": "",
            "zerolinecolor": "white"
           }
          },
          "shapedefaults": {
           "line": {
            "color": "#2a3f5f"
           }
          },
          "ternary": {
           "aaxis": {
            "gridcolor": "white",
            "linecolor": "white",
            "ticks": ""
           },
           "baxis": {
            "gridcolor": "white",
            "linecolor": "white",
            "ticks": ""
           },
           "bgcolor": "#E5ECF6",
           "caxis": {
            "gridcolor": "white",
            "linecolor": "white",
            "ticks": ""
           }
          },
          "title": {
           "x": 0.05
          },
          "xaxis": {
           "automargin": true,
           "gridcolor": "white",
           "linecolor": "white",
           "ticks": "",
           "title": {
            "standoff": 15
           },
           "zerolinecolor": "white",
           "zerolinewidth": 2
          },
          "yaxis": {
           "automargin": true,
           "gridcolor": "white",
           "linecolor": "white",
           "ticks": "",
           "title": {
            "standoff": 15
           },
           "zerolinecolor": "white",
           "zerolinewidth": 2
          }
         }
        },
        "title": {
         "text": "Localisation des stations avec leur valeur moyenne en PM10 sur la semaine du 19 au 25 mars 2023"
        },
        "width": 800
       }
      }
     },
     "metadata": {},
     "output_type": "display_data"
    }
   ],
   "source": [
    "df_localisation = df_PM10_hour_week[['nom_station', 'long', 'lat', 'valeur']]\n",
    "df_localisation = df_localisation.groupby(['nom_station']).agg({'long': 'first', 'lat': 'first', 'valeur': 'mean'})\n",
    "df_localisation.reset_index(inplace=True)\n",
    "\n",
    "fig = px.scatter_mapbox(df_localisation,\n",
    "                        lat='lat',\n",
    "                        lon='long', \n",
    "                        hover_name='nom_station',\n",
    "                        color='valeur',\n",
    "                        size='valeur',\n",
    "                        zoom=9,\n",
    "                        height=400,\n",
    "                        size_max=10,\n",
    "                        opacity=0.9,\n",
    "                        width=800\n",
    "                        )\n",
    "fig.update_layout(mapbox_style='stamen-terrain')\n",
    "fig.update_layout(margin={\"r\": 0, \"t\": 40, \"l\": 0, \"b\": 0})\n",
    "fig.update_layout(title_text=\"Localisation des stations avec leur valeur moyenne en PM10 sur la semaine du 19 au 25 mars 2023\")\n",
    "fig.show()\n"
   ]
  },
  {
   "attachments": {},
   "cell_type": "markdown",
   "metadata": {},
   "source": [
    "Il est interessant de suivre sur la semaine l'evolution de stations géographiquement proches : Trentemoult et les Couets. "
   ]
  },
  {
   "cell_type": "code",
   "execution_count": 9,
   "metadata": {},
   "outputs": [
    {
     "data": {
      "application/vnd.plotly.v1+json": {
       "config": {
        "plotlyServerURL": "https://plot.ly"
       },
       "data": [
        {
         "hovertemplate": "nom_station=TRENTEMOULT<br>heure_mesure=%{x}<br>valeur=%{y}<extra></extra>",
         "legendgroup": "TRENTEMOULT",
         "line": {
          "color": "#636efa",
          "dash": "solid"
         },
         "marker": {
          "symbol": "circle"
         },
         "mode": "lines",
         "name": "TRENTEMOULT",
         "orientation": "v",
         "showlegend": true,
         "type": "scatter",
         "x": [
          "2023-03-25T23:00:00",
          "2023-03-25T22:00:00",
          "2023-03-25T21:00:00",
          "2023-03-25T20:00:00",
          "2023-03-25T19:00:00",
          "2023-03-25T18:00:00",
          "2023-03-25T17:00:00",
          "2023-03-25T16:00:00",
          "2023-03-25T15:00:00",
          "2023-03-25T14:00:00",
          "2023-03-25T13:00:00",
          "2023-03-25T12:00:00",
          "2023-03-25T11:00:00",
          "2023-03-25T10:00:00",
          "2023-03-25T09:00:00",
          "2023-03-25T08:00:00",
          "2023-03-25T07:00:00",
          "2023-03-25T06:00:00",
          "2023-03-25T05:00:00",
          "2023-03-25T04:00:00",
          "2023-03-25T03:00:00",
          "2023-03-25T02:00:00",
          "2023-03-25T01:00:00",
          "2023-03-25T00:00:00",
          "2023-03-24T23:00:00",
          "2023-03-24T22:00:00",
          "2023-03-24T21:00:00",
          "2023-03-24T20:00:00",
          "2023-03-24T19:00:00",
          "2023-03-24T18:00:00",
          "2023-03-24T17:00:00",
          "2023-03-24T16:00:00",
          "2023-03-24T15:00:00",
          "2023-03-24T14:00:00",
          "2023-03-24T13:00:00",
          "2023-03-24T12:00:00",
          "2023-03-24T11:00:00",
          "2023-03-24T10:00:00",
          "2023-03-24T09:00:00",
          "2023-03-24T08:00:00",
          "2023-03-24T07:00:00",
          "2023-03-24T06:00:00",
          "2023-03-24T05:00:00",
          "2023-03-24T04:00:00",
          "2023-03-24T03:00:00",
          "2023-03-24T02:00:00",
          "2023-03-24T01:00:00",
          "2023-03-24T00:00:00",
          "2023-03-23T23:00:00",
          "2023-03-23T22:00:00",
          "2023-03-23T21:00:00",
          "2023-03-23T20:00:00",
          "2023-03-23T19:00:00",
          "2023-03-23T18:00:00",
          "2023-03-23T17:00:00",
          "2023-03-23T16:00:00",
          "2023-03-23T15:00:00",
          "2023-03-23T14:00:00",
          "2023-03-23T13:00:00",
          "2023-03-23T12:00:00",
          "2023-03-23T11:00:00",
          "2023-03-23T10:00:00",
          "2023-03-23T09:00:00",
          "2023-03-23T08:00:00",
          "2023-03-23T07:00:00",
          "2023-03-23T06:00:00",
          "2023-03-23T05:00:00",
          "2023-03-23T04:00:00",
          "2023-03-23T03:00:00",
          "2023-03-23T02:00:00",
          "2023-03-23T01:00:00",
          "2023-03-23T00:00:00",
          "2023-03-22T23:00:00",
          "2023-03-22T22:00:00",
          "2023-03-22T21:00:00",
          "2023-03-22T20:00:00",
          "2023-03-22T19:00:00",
          "2023-03-22T18:00:00",
          "2023-03-22T17:00:00",
          "2023-03-22T16:00:00",
          "2023-03-22T15:00:00",
          "2023-03-22T14:00:00",
          "2023-03-22T13:00:00",
          "2023-03-22T12:00:00",
          "2023-03-22T11:00:00",
          "2023-03-22T10:00:00",
          "2023-03-22T09:00:00",
          "2023-03-22T08:00:00",
          "2023-03-22T07:00:00",
          "2023-03-22T06:00:00",
          "2023-03-22T05:00:00",
          "2023-03-22T04:00:00",
          "2023-03-22T03:00:00",
          "2023-03-22T02:00:00",
          "2023-03-22T01:00:00",
          "2023-03-22T00:00:00",
          "2023-03-21T23:00:00",
          "2023-03-21T22:00:00",
          "2023-03-21T21:00:00",
          "2023-03-21T20:00:00",
          "2023-03-21T19:00:00",
          "2023-03-21T18:00:00",
          "2023-03-21T17:00:00",
          "2023-03-21T16:00:00",
          "2023-03-21T15:00:00",
          "2023-03-21T14:00:00",
          "2023-03-21T13:00:00",
          "2023-03-21T12:00:00",
          "2023-03-21T11:00:00",
          "2023-03-21T10:00:00",
          "2023-03-21T09:00:00",
          "2023-03-21T08:00:00",
          "2023-03-21T07:00:00",
          "2023-03-21T06:00:00",
          "2023-03-21T05:00:00",
          "2023-03-21T04:00:00",
          "2023-03-21T03:00:00",
          "2023-03-21T02:00:00",
          "2023-03-21T01:00:00",
          "2023-03-21T00:00:00",
          "2023-03-20T23:00:00",
          "2023-03-20T22:00:00",
          "2023-03-20T21:00:00",
          "2023-03-20T20:00:00",
          "2023-03-20T19:00:00",
          "2023-03-20T18:00:00",
          "2023-03-20T17:00:00",
          "2023-03-20T16:00:00",
          "2023-03-20T15:00:00",
          "2023-03-20T14:00:00",
          "2023-03-20T13:00:00",
          "2023-03-20T12:00:00",
          "2023-03-20T11:00:00",
          "2023-03-20T10:00:00",
          "2023-03-20T09:00:00",
          "2023-03-20T08:00:00",
          "2023-03-20T07:00:00",
          "2023-03-20T06:00:00",
          "2023-03-20T05:00:00",
          "2023-03-20T04:00:00",
          "2023-03-20T03:00:00",
          "2023-03-20T02:00:00",
          "2023-03-20T01:00:00",
          "2023-03-20T00:00:00",
          "2023-03-19T23:00:00",
          "2023-03-19T22:00:00",
          "2023-03-19T21:00:00",
          "2023-03-19T20:00:00",
          "2023-03-19T19:00:00",
          "2023-03-19T18:00:00",
          "2023-03-19T17:00:00",
          "2023-03-19T16:00:00",
          "2023-03-19T15:00:00",
          "2023-03-19T14:00:00",
          "2023-03-19T13:00:00",
          "2023-03-19T12:00:00",
          "2023-03-19T11:00:00",
          "2023-03-19T10:00:00",
          "2023-03-19T09:00:00",
          "2023-03-19T08:00:00",
          "2023-03-19T07:00:00",
          "2023-03-19T06:00:00",
          "2023-03-19T05:00:00",
          "2023-03-19T04:00:00",
          "2023-03-19T03:00:00",
          "2023-03-19T02:00:00",
          "2023-03-19T01:00:00",
          "2023-03-19T00:00:00"
         ],
         "xaxis": "x",
         "y": [
          8.1,
          7.9,
          8.2,
          9.9,
          20,
          24,
          26,
          26,
          27,
          27,
          30,
          29,
          29,
          27,
          24,
          17,
          21,
          23,
          21,
          17,
          12,
          11,
          21,
          19,
          23,
          26,
          25,
          24,
          22,
          27,
          27,
          null,
          null,
          22,
          21,
          26,
          24,
          28,
          28,
          27,
          21,
          23,
          21,
          18,
          17,
          14,
          17,
          11,
          12,
          11,
          7.7,
          9.5,
          10,
          9,
          6.8,
          9.3,
          14,
          20,
          21,
          20,
          23,
          20,
          18,
          15,
          13,
          14,
          8,
          8.1,
          9.8,
          7.3,
          7.5,
          7.4,
          11,
          9.5,
          6.1,
          3.5,
          6.5,
          8.6,
          9.7,
          11,
          11,
          6.6,
          8.6,
          9.1,
          9.9,
          12,
          15,
          14,
          15,
          14,
          13,
          13,
          14,
          14,
          16,
          16,
          19,
          21,
          23,
          21,
          20,
          17,
          17,
          16,
          19,
          20,
          23,
          14,
          11,
          9.4,
          8.3,
          13,
          8.7,
          10,
          11,
          8.6,
          11,
          12,
          13,
          13,
          17,
          24,
          24,
          24,
          17,
          14,
          13,
          15,
          15,
          14,
          11,
          9.7,
          13,
          15,
          15,
          15,
          14,
          14,
          14,
          14,
          17,
          18,
          19,
          20,
          21,
          21,
          21,
          18,
          16,
          15,
          13,
          11,
          9.1,
          6.5,
          9.3,
          6.2,
          6.9,
          7.5,
          6,
          6.1,
          8.5,
          8.6,
          9.5,
          9.6,
          9.7,
          11,
          11,
          7.6
         ],
         "yaxis": "y"
        },
        {
         "hovertemplate": "nom_station=LES COUETS<br>heure_mesure=%{x}<br>valeur=%{y}<extra></extra>",
         "legendgroup": "LES COUETS",
         "line": {
          "color": "#EF553B",
          "dash": "solid"
         },
         "marker": {
          "symbol": "circle"
         },
         "mode": "lines",
         "name": "LES COUETS",
         "orientation": "v",
         "showlegend": true,
         "type": "scatter",
         "x": [
          "2023-03-25T23:00:00",
          "2023-03-25T22:00:00",
          "2023-03-25T21:00:00",
          "2023-03-25T20:00:00",
          "2023-03-25T19:00:00",
          "2023-03-25T18:00:00",
          "2023-03-25T17:00:00",
          "2023-03-25T16:00:00",
          "2023-03-25T15:00:00",
          "2023-03-25T14:00:00",
          "2023-03-25T13:00:00",
          "2023-03-25T12:00:00",
          "2023-03-25T11:00:00",
          "2023-03-25T10:00:00",
          "2023-03-25T09:00:00",
          "2023-03-25T08:00:00",
          "2023-03-25T07:00:00",
          "2023-03-25T06:00:00",
          "2023-03-25T05:00:00",
          "2023-03-25T04:00:00",
          "2023-03-25T03:00:00",
          "2023-03-25T02:00:00",
          "2023-03-25T01:00:00",
          "2023-03-25T00:00:00",
          "2023-03-24T23:00:00",
          "2023-03-24T22:00:00",
          "2023-03-24T21:00:00",
          "2023-03-24T20:00:00",
          "2023-03-24T19:00:00",
          "2023-03-24T18:00:00",
          "2023-03-24T17:00:00",
          "2023-03-24T16:00:00",
          "2023-03-24T15:00:00",
          "2023-03-24T14:00:00",
          "2023-03-24T13:00:00",
          "2023-03-24T12:00:00",
          "2023-03-24T11:00:00",
          "2023-03-24T10:00:00",
          "2023-03-24T09:00:00",
          "2023-03-24T08:00:00",
          "2023-03-24T07:00:00",
          "2023-03-24T06:00:00",
          "2023-03-24T05:00:00",
          "2023-03-24T04:00:00",
          "2023-03-24T03:00:00",
          "2023-03-24T02:00:00",
          "2023-03-24T01:00:00",
          "2023-03-24T00:00:00",
          "2023-03-23T23:00:00",
          "2023-03-23T22:00:00",
          "2023-03-23T21:00:00",
          "2023-03-23T20:00:00",
          "2023-03-23T19:00:00",
          "2023-03-23T18:00:00",
          "2023-03-23T17:00:00",
          "2023-03-23T16:00:00",
          "2023-03-23T15:00:00",
          "2023-03-23T14:00:00",
          "2023-03-23T13:00:00",
          "2023-03-23T12:00:00",
          "2023-03-23T11:00:00",
          "2023-03-23T10:00:00",
          "2023-03-23T09:00:00",
          "2023-03-23T08:00:00",
          "2023-03-23T07:00:00",
          "2023-03-23T06:00:00",
          "2023-03-23T05:00:00",
          "2023-03-23T04:00:00",
          "2023-03-23T03:00:00",
          "2023-03-23T02:00:00",
          "2023-03-23T01:00:00",
          "2023-03-23T00:00:00",
          "2023-03-22T23:00:00",
          "2023-03-22T22:00:00",
          "2023-03-22T21:00:00",
          "2023-03-22T20:00:00",
          "2023-03-22T19:00:00",
          "2023-03-22T18:00:00",
          "2023-03-22T17:00:00",
          "2023-03-22T16:00:00",
          "2023-03-22T15:00:00",
          "2023-03-22T14:00:00",
          "2023-03-22T13:00:00",
          "2023-03-22T12:00:00",
          "2023-03-22T11:00:00",
          "2023-03-22T10:00:00",
          "2023-03-22T09:00:00",
          "2023-03-22T08:00:00",
          "2023-03-22T07:00:00",
          "2023-03-22T06:00:00",
          "2023-03-22T05:00:00",
          "2023-03-22T04:00:00",
          "2023-03-22T03:00:00",
          "2023-03-22T02:00:00",
          "2023-03-22T01:00:00",
          "2023-03-22T00:00:00",
          "2023-03-21T23:00:00",
          "2023-03-21T22:00:00",
          "2023-03-21T21:00:00",
          "2023-03-21T20:00:00",
          "2023-03-21T19:00:00",
          "2023-03-21T18:00:00",
          "2023-03-21T17:00:00",
          "2023-03-21T16:00:00",
          "2023-03-21T15:00:00",
          "2023-03-21T14:00:00",
          "2023-03-21T13:00:00",
          "2023-03-21T12:00:00",
          "2023-03-21T11:00:00",
          "2023-03-21T10:00:00",
          "2023-03-21T09:00:00",
          "2023-03-21T08:00:00",
          "2023-03-21T07:00:00",
          "2023-03-21T06:00:00",
          "2023-03-21T05:00:00",
          "2023-03-21T04:00:00",
          "2023-03-21T03:00:00",
          "2023-03-21T02:00:00",
          "2023-03-21T01:00:00",
          "2023-03-21T00:00:00",
          "2023-03-20T23:00:00",
          "2023-03-20T22:00:00",
          "2023-03-20T21:00:00",
          "2023-03-20T20:00:00",
          "2023-03-20T19:00:00",
          "2023-03-20T18:00:00",
          "2023-03-20T17:00:00",
          "2023-03-20T16:00:00",
          "2023-03-20T15:00:00",
          "2023-03-20T14:00:00",
          "2023-03-20T13:00:00",
          "2023-03-20T12:00:00",
          "2023-03-20T11:00:00",
          "2023-03-20T10:00:00",
          "2023-03-20T09:00:00",
          "2023-03-20T08:00:00",
          "2023-03-20T07:00:00",
          "2023-03-20T06:00:00",
          "2023-03-20T05:00:00",
          "2023-03-20T04:00:00",
          "2023-03-20T03:00:00",
          "2023-03-20T02:00:00",
          "2023-03-20T01:00:00",
          "2023-03-20T00:00:00",
          "2023-03-19T23:00:00",
          "2023-03-19T22:00:00",
          "2023-03-19T21:00:00",
          "2023-03-19T20:00:00",
          "2023-03-19T19:00:00",
          "2023-03-19T18:00:00",
          "2023-03-19T17:00:00",
          "2023-03-19T16:00:00",
          "2023-03-19T15:00:00",
          "2023-03-19T14:00:00",
          "2023-03-19T13:00:00",
          "2023-03-19T12:00:00",
          "2023-03-19T11:00:00",
          "2023-03-19T10:00:00",
          "2023-03-19T09:00:00",
          "2023-03-19T08:00:00",
          "2023-03-19T07:00:00",
          "2023-03-19T06:00:00",
          "2023-03-19T05:00:00",
          "2023-03-19T04:00:00",
          "2023-03-19T03:00:00",
          "2023-03-19T02:00:00",
          "2023-03-19T01:00:00",
          "2023-03-19T00:00:00"
         ],
         "xaxis": "x",
         "y": [
          6.8,
          5.8,
          2.2,
          7.8,
          14,
          19,
          22,
          23,
          26,
          29,
          28,
          29,
          29,
          29,
          23,
          18,
          21,
          21,
          20,
          17,
          10,
          8.4,
          17,
          17,
          20,
          26,
          27,
          24,
          22,
          28,
          26,
          22,
          20,
          21,
          24,
          25,
          28,
          29,
          30,
          28,
          23,
          24,
          22,
          20,
          19,
          21,
          20,
          18,
          11,
          9.7,
          null,
          6,
          5.3,
          2.3,
          6.9,
          15,
          15,
          17,
          23,
          22,
          21,
          19,
          18,
          16,
          18,
          11,
          13,
          9.1,
          7,
          6.1,
          6.7,
          9.6,
          9.4,
          8.2,
          6,
          1.9,
          2.8,
          7.2,
          9.4,
          8.9,
          6.5,
          9.2,
          8,
          11,
          13,
          7.4,
          8.9,
          13,
          15,
          13,
          13,
          12,
          12,
          14,
          15,
          15,
          18,
          19,
          17,
          18,
          17,
          16,
          27,
          30,
          23,
          23,
          15,
          14,
          12,
          12,
          9.5,
          12,
          11,
          9.5,
          9.9,
          9,
          12,
          15,
          14,
          14,
          17,
          19,
          17,
          19,
          14,
          13,
          12,
          12,
          15,
          11,
          15,
          15,
          16,
          17,
          18,
          20,
          14,
          13,
          14,
          14,
          16,
          18,
          18,
          17,
          18,
          22,
          23,
          19,
          17,
          17,
          14,
          8.7,
          7.4,
          7,
          3.1,
          2.6,
          3.4,
          3.9,
          3.7,
          6.2,
          7.4,
          6.4,
          7.7,
          7.3,
          9,
          8.5,
          8.7,
          7.8
         ],
         "yaxis": "y"
        }
       ],
       "layout": {
        "legend": {
         "title": {
          "text": "nom_station"
         },
         "tracegroupgap": 0
        },
        "template": {
         "data": {
          "bar": [
           {
            "error_x": {
             "color": "#2a3f5f"
            },
            "error_y": {
             "color": "#2a3f5f"
            },
            "marker": {
             "line": {
              "color": "#E5ECF6",
              "width": 0.5
             },
             "pattern": {
              "fillmode": "overlay",
              "size": 10,
              "solidity": 0.2
             }
            },
            "type": "bar"
           }
          ],
          "barpolar": [
           {
            "marker": {
             "line": {
              "color": "#E5ECF6",
              "width": 0.5
             },
             "pattern": {
              "fillmode": "overlay",
              "size": 10,
              "solidity": 0.2
             }
            },
            "type": "barpolar"
           }
          ],
          "carpet": [
           {
            "aaxis": {
             "endlinecolor": "#2a3f5f",
             "gridcolor": "white",
             "linecolor": "white",
             "minorgridcolor": "white",
             "startlinecolor": "#2a3f5f"
            },
            "baxis": {
             "endlinecolor": "#2a3f5f",
             "gridcolor": "white",
             "linecolor": "white",
             "minorgridcolor": "white",
             "startlinecolor": "#2a3f5f"
            },
            "type": "carpet"
           }
          ],
          "choropleth": [
           {
            "colorbar": {
             "outlinewidth": 0,
             "ticks": ""
            },
            "type": "choropleth"
           }
          ],
          "contour": [
           {
            "colorbar": {
             "outlinewidth": 0,
             "ticks": ""
            },
            "colorscale": [
             [
              0,
              "#0d0887"
             ],
             [
              0.1111111111111111,
              "#46039f"
             ],
             [
              0.2222222222222222,
              "#7201a8"
             ],
             [
              0.3333333333333333,
              "#9c179e"
             ],
             [
              0.4444444444444444,
              "#bd3786"
             ],
             [
              0.5555555555555556,
              "#d8576b"
             ],
             [
              0.6666666666666666,
              "#ed7953"
             ],
             [
              0.7777777777777778,
              "#fb9f3a"
             ],
             [
              0.8888888888888888,
              "#fdca26"
             ],
             [
              1,
              "#f0f921"
             ]
            ],
            "type": "contour"
           }
          ],
          "contourcarpet": [
           {
            "colorbar": {
             "outlinewidth": 0,
             "ticks": ""
            },
            "type": "contourcarpet"
           }
          ],
          "heatmap": [
           {
            "colorbar": {
             "outlinewidth": 0,
             "ticks": ""
            },
            "colorscale": [
             [
              0,
              "#0d0887"
             ],
             [
              0.1111111111111111,
              "#46039f"
             ],
             [
              0.2222222222222222,
              "#7201a8"
             ],
             [
              0.3333333333333333,
              "#9c179e"
             ],
             [
              0.4444444444444444,
              "#bd3786"
             ],
             [
              0.5555555555555556,
              "#d8576b"
             ],
             [
              0.6666666666666666,
              "#ed7953"
             ],
             [
              0.7777777777777778,
              "#fb9f3a"
             ],
             [
              0.8888888888888888,
              "#fdca26"
             ],
             [
              1,
              "#f0f921"
             ]
            ],
            "type": "heatmap"
           }
          ],
          "heatmapgl": [
           {
            "colorbar": {
             "outlinewidth": 0,
             "ticks": ""
            },
            "colorscale": [
             [
              0,
              "#0d0887"
             ],
             [
              0.1111111111111111,
              "#46039f"
             ],
             [
              0.2222222222222222,
              "#7201a8"
             ],
             [
              0.3333333333333333,
              "#9c179e"
             ],
             [
              0.4444444444444444,
              "#bd3786"
             ],
             [
              0.5555555555555556,
              "#d8576b"
             ],
             [
              0.6666666666666666,
              "#ed7953"
             ],
             [
              0.7777777777777778,
              "#fb9f3a"
             ],
             [
              0.8888888888888888,
              "#fdca26"
             ],
             [
              1,
              "#f0f921"
             ]
            ],
            "type": "heatmapgl"
           }
          ],
          "histogram": [
           {
            "marker": {
             "pattern": {
              "fillmode": "overlay",
              "size": 10,
              "solidity": 0.2
             }
            },
            "type": "histogram"
           }
          ],
          "histogram2d": [
           {
            "colorbar": {
             "outlinewidth": 0,
             "ticks": ""
            },
            "colorscale": [
             [
              0,
              "#0d0887"
             ],
             [
              0.1111111111111111,
              "#46039f"
             ],
             [
              0.2222222222222222,
              "#7201a8"
             ],
             [
              0.3333333333333333,
              "#9c179e"
             ],
             [
              0.4444444444444444,
              "#bd3786"
             ],
             [
              0.5555555555555556,
              "#d8576b"
             ],
             [
              0.6666666666666666,
              "#ed7953"
             ],
             [
              0.7777777777777778,
              "#fb9f3a"
             ],
             [
              0.8888888888888888,
              "#fdca26"
             ],
             [
              1,
              "#f0f921"
             ]
            ],
            "type": "histogram2d"
           }
          ],
          "histogram2dcontour": [
           {
            "colorbar": {
             "outlinewidth": 0,
             "ticks": ""
            },
            "colorscale": [
             [
              0,
              "#0d0887"
             ],
             [
              0.1111111111111111,
              "#46039f"
             ],
             [
              0.2222222222222222,
              "#7201a8"
             ],
             [
              0.3333333333333333,
              "#9c179e"
             ],
             [
              0.4444444444444444,
              "#bd3786"
             ],
             [
              0.5555555555555556,
              "#d8576b"
             ],
             [
              0.6666666666666666,
              "#ed7953"
             ],
             [
              0.7777777777777778,
              "#fb9f3a"
             ],
             [
              0.8888888888888888,
              "#fdca26"
             ],
             [
              1,
              "#f0f921"
             ]
            ],
            "type": "histogram2dcontour"
           }
          ],
          "mesh3d": [
           {
            "colorbar": {
             "outlinewidth": 0,
             "ticks": ""
            },
            "type": "mesh3d"
           }
          ],
          "parcoords": [
           {
            "line": {
             "colorbar": {
              "outlinewidth": 0,
              "ticks": ""
             }
            },
            "type": "parcoords"
           }
          ],
          "pie": [
           {
            "automargin": true,
            "type": "pie"
           }
          ],
          "scatter": [
           {
            "fillpattern": {
             "fillmode": "overlay",
             "size": 10,
             "solidity": 0.2
            },
            "type": "scatter"
           }
          ],
          "scatter3d": [
           {
            "line": {
             "colorbar": {
              "outlinewidth": 0,
              "ticks": ""
             }
            },
            "marker": {
             "colorbar": {
              "outlinewidth": 0,
              "ticks": ""
             }
            },
            "type": "scatter3d"
           }
          ],
          "scattercarpet": [
           {
            "marker": {
             "colorbar": {
              "outlinewidth": 0,
              "ticks": ""
             }
            },
            "type": "scattercarpet"
           }
          ],
          "scattergeo": [
           {
            "marker": {
             "colorbar": {
              "outlinewidth": 0,
              "ticks": ""
             }
            },
            "type": "scattergeo"
           }
          ],
          "scattergl": [
           {
            "marker": {
             "colorbar": {
              "outlinewidth": 0,
              "ticks": ""
             }
            },
            "type": "scattergl"
           }
          ],
          "scattermapbox": [
           {
            "marker": {
             "colorbar": {
              "outlinewidth": 0,
              "ticks": ""
             }
            },
            "type": "scattermapbox"
           }
          ],
          "scatterpolar": [
           {
            "marker": {
             "colorbar": {
              "outlinewidth": 0,
              "ticks": ""
             }
            },
            "type": "scatterpolar"
           }
          ],
          "scatterpolargl": [
           {
            "marker": {
             "colorbar": {
              "outlinewidth": 0,
              "ticks": ""
             }
            },
            "type": "scatterpolargl"
           }
          ],
          "scatterternary": [
           {
            "marker": {
             "colorbar": {
              "outlinewidth": 0,
              "ticks": ""
             }
            },
            "type": "scatterternary"
           }
          ],
          "surface": [
           {
            "colorbar": {
             "outlinewidth": 0,
             "ticks": ""
            },
            "colorscale": [
             [
              0,
              "#0d0887"
             ],
             [
              0.1111111111111111,
              "#46039f"
             ],
             [
              0.2222222222222222,
              "#7201a8"
             ],
             [
              0.3333333333333333,
              "#9c179e"
             ],
             [
              0.4444444444444444,
              "#bd3786"
             ],
             [
              0.5555555555555556,
              "#d8576b"
             ],
             [
              0.6666666666666666,
              "#ed7953"
             ],
             [
              0.7777777777777778,
              "#fb9f3a"
             ],
             [
              0.8888888888888888,
              "#fdca26"
             ],
             [
              1,
              "#f0f921"
             ]
            ],
            "type": "surface"
           }
          ],
          "table": [
           {
            "cells": {
             "fill": {
              "color": "#EBF0F8"
             },
             "line": {
              "color": "white"
             }
            },
            "header": {
             "fill": {
              "color": "#C8D4E3"
             },
             "line": {
              "color": "white"
             }
            },
            "type": "table"
           }
          ]
         },
         "layout": {
          "annotationdefaults": {
           "arrowcolor": "#2a3f5f",
           "arrowhead": 0,
           "arrowwidth": 1
          },
          "autotypenumbers": "strict",
          "coloraxis": {
           "colorbar": {
            "outlinewidth": 0,
            "ticks": ""
           }
          },
          "colorscale": {
           "diverging": [
            [
             0,
             "#8e0152"
            ],
            [
             0.1,
             "#c51b7d"
            ],
            [
             0.2,
             "#de77ae"
            ],
            [
             0.3,
             "#f1b6da"
            ],
            [
             0.4,
             "#fde0ef"
            ],
            [
             0.5,
             "#f7f7f7"
            ],
            [
             0.6,
             "#e6f5d0"
            ],
            [
             0.7,
             "#b8e186"
            ],
            [
             0.8,
             "#7fbc41"
            ],
            [
             0.9,
             "#4d9221"
            ],
            [
             1,
             "#276419"
            ]
           ],
           "sequential": [
            [
             0,
             "#0d0887"
            ],
            [
             0.1111111111111111,
             "#46039f"
            ],
            [
             0.2222222222222222,
             "#7201a8"
            ],
            [
             0.3333333333333333,
             "#9c179e"
            ],
            [
             0.4444444444444444,
             "#bd3786"
            ],
            [
             0.5555555555555556,
             "#d8576b"
            ],
            [
             0.6666666666666666,
             "#ed7953"
            ],
            [
             0.7777777777777778,
             "#fb9f3a"
            ],
            [
             0.8888888888888888,
             "#fdca26"
            ],
            [
             1,
             "#f0f921"
            ]
           ],
           "sequentialminus": [
            [
             0,
             "#0d0887"
            ],
            [
             0.1111111111111111,
             "#46039f"
            ],
            [
             0.2222222222222222,
             "#7201a8"
            ],
            [
             0.3333333333333333,
             "#9c179e"
            ],
            [
             0.4444444444444444,
             "#bd3786"
            ],
            [
             0.5555555555555556,
             "#d8576b"
            ],
            [
             0.6666666666666666,
             "#ed7953"
            ],
            [
             0.7777777777777778,
             "#fb9f3a"
            ],
            [
             0.8888888888888888,
             "#fdca26"
            ],
            [
             1,
             "#f0f921"
            ]
           ]
          },
          "colorway": [
           "#636efa",
           "#EF553B",
           "#00cc96",
           "#ab63fa",
           "#FFA15A",
           "#19d3f3",
           "#FF6692",
           "#B6E880",
           "#FF97FF",
           "#FECB52"
          ],
          "font": {
           "color": "#2a3f5f"
          },
          "geo": {
           "bgcolor": "white",
           "lakecolor": "white",
           "landcolor": "#E5ECF6",
           "showlakes": true,
           "showland": true,
           "subunitcolor": "white"
          },
          "hoverlabel": {
           "align": "left"
          },
          "hovermode": "closest",
          "mapbox": {
           "style": "light"
          },
          "paper_bgcolor": "white",
          "plot_bgcolor": "#E5ECF6",
          "polar": {
           "angularaxis": {
            "gridcolor": "white",
            "linecolor": "white",
            "ticks": ""
           },
           "bgcolor": "#E5ECF6",
           "radialaxis": {
            "gridcolor": "white",
            "linecolor": "white",
            "ticks": ""
           }
          },
          "scene": {
           "xaxis": {
            "backgroundcolor": "#E5ECF6",
            "gridcolor": "white",
            "gridwidth": 2,
            "linecolor": "white",
            "showbackground": true,
            "ticks": "",
            "zerolinecolor": "white"
           },
           "yaxis": {
            "backgroundcolor": "#E5ECF6",
            "gridcolor": "white",
            "gridwidth": 2,
            "linecolor": "white",
            "showbackground": true,
            "ticks": "",
            "zerolinecolor": "white"
           },
           "zaxis": {
            "backgroundcolor": "#E5ECF6",
            "gridcolor": "white",
            "gridwidth": 2,
            "linecolor": "white",
            "showbackground": true,
            "ticks": "",
            "zerolinecolor": "white"
           }
          },
          "shapedefaults": {
           "line": {
            "color": "#2a3f5f"
           }
          },
          "ternary": {
           "aaxis": {
            "gridcolor": "white",
            "linecolor": "white",
            "ticks": ""
           },
           "baxis": {
            "gridcolor": "white",
            "linecolor": "white",
            "ticks": ""
           },
           "bgcolor": "#E5ECF6",
           "caxis": {
            "gridcolor": "white",
            "linecolor": "white",
            "ticks": ""
           }
          },
          "title": {
           "x": 0.05
          },
          "xaxis": {
           "automargin": true,
           "gridcolor": "white",
           "linecolor": "white",
           "ticks": "",
           "title": {
            "standoff": 15
           },
           "zerolinecolor": "white",
           "zerolinewidth": 2
          },
          "yaxis": {
           "automargin": true,
           "gridcolor": "white",
           "linecolor": "white",
           "ticks": "",
           "title": {
            "standoff": 15
           },
           "zerolinecolor": "white",
           "zerolinewidth": 2
          }
         }
        },
        "title": {
         "text": "Evolution des valeurs de PM10 sur la semaine du 19/03/2023 au 25/03/2023 en Loire-Atlantique"
        },
        "xaxis": {
         "anchor": "y",
         "domain": [
          0,
          1
         ],
         "title": {
          "text": "heure_mesure"
         }
        },
        "yaxis": {
         "anchor": "x",
         "domain": [
          0,
          1
         ],
         "title": {
          "text": "valeur"
         }
        }
       }
      }
     },
     "metadata": {},
     "output_type": "display_data"
    }
   ],
   "source": [
    "df_PM10_Trent_Couets = df_PM10_hour_week.loc[(df_PM10_hour_week['nom_station'] == 'LES COUETS') | (df_PM10_hour_week['nom_station'] == 'TRENTEMOULT')]\n",
    "\n",
    "px.line(df_PM10_Trent_Couets,\n",
    "        x='heure_mesure',\n",
    "        y='valeur',\n",
    "        color='nom_station',\n",
    "        title='Evolution des valeurs de PM10 sur la semaine du 19/03/2023 au 25/03/2023 en Loire-Atlantique')"
   ]
  },
  {
   "attachments": {},
   "cell_type": "markdown",
   "metadata": {},
   "source": [
    "Les deux stations ont une évolution similaire, mais on peut noter quelques pics spcifiques : \n",
    "- le 20 mars entre 20h et 22h pour Trentemoult\n",
    "- le 21 mars entre 15h et 17h pour les Couets"
   ]
  },
  {
   "attachments": {},
   "cell_type": "markdown",
   "metadata": {},
   "source": [
    "# Faire de la prediction à partir des données Air Pays de la Loire et météorologique\n",
    "\n",
    "Données accessibles : \n",
    "- ApdL = par heure sur les 11 stations, plusieurs polluants disponible\n",
    "- SYNOP = historique des relevés météo de France (1 station a Bouguenais : pression, variation de pression, direction et vitesse du vent, T°, humidité...). Relevé toutes les 3h. https://public.opendatasoft.com/explore/dataset/donnees-synop-essentielles-omm/table/?flg=fr&sort=date&refine.nom_dept=Loire-Atlantique&refine.date=2023\n",
    "- MeteoFrance = modélisation fine sur toute la france, mais soumis a redevance. https://donneespubliques.meteofrance.fr/?fond=produit&id_produit=131&id_rubrique=51\n",
    "- jeu de données MeteoNet = relevés sur 3 ans (2016-2018) dans la zone nord ouest (Nantes inclus). 218Gb mais divisble selon interet. https://meteonet.umr-cnrm.fr/"
   ]
  },
  {
   "cell_type": "markdown",
   "metadata": {},
   "source": [
    "## Visualisation des données MeteoNet\n",
    "\n",
    "J'ai choisi d'utiliser les données MeteoNet pour leur accessibilité et les ressources disponibles pour leur utilisation. La région Nord Ouest (NW) englobe la Loire-Atlantique et beaucoup de données sont mises à disposition (relevés des stations terrestres, modèles météo 2D et 3D...). 3 années sont disponible : 2016, 2017, 2018. \n",
    "\n",
    "La base de données pèse déjà un certain poids : \n",
    "- NW_ground_stations_2018 = 174 Mo (tar.gz), 1.75 Go (.csv)\n",
    "- NW_weather_models_2D_2018 = 7.4 Go (tar.gz)\n",
    "\n",
    "Pour rester sur des tailles de bases raisonnables, nous allons nous focaliser sur la base NW_ground_stations_2018 téléchargeable ici : \n",
    "https://www.kaggle.com/datasets/katerpillar/meteonet"
   ]
  },
  {
   "cell_type": "code",
   "execution_count": 10,
   "metadata": {},
   "outputs": [
    {
     "name": "stdout",
     "output_type": "stream",
     "text": [
      "<class 'pandas.core.frame.DataFrame'>\n",
      "RangeIndex: 22034571 entries, 0 to 22034570\n",
      "Data columns (total 12 columns):\n",
      " #   Column      Dtype  \n",
      "---  ------      -----  \n",
      " 0   number_sta  int64  \n",
      " 1   lat         float64\n",
      " 2   lon         float64\n",
      " 3   height_sta  float64\n",
      " 4   date        object \n",
      " 5   dd          float64\n",
      " 6   ff          float64\n",
      " 7   precip      float64\n",
      " 8   hu          float64\n",
      " 9   td          float64\n",
      " 10  t           float64\n",
      " 11  psl         float64\n",
      "dtypes: float64(10), int64(1), object(1)\n",
      "memory usage: 2.0+ GB\n"
     ]
    }
   ],
   "source": [
    "raw_df_nw2018 = pd.read_csv(r'./NW2018.csv', sep=',')\n",
    "raw_df_nw2018.info()"
   ]
  },
  {
   "cell_type": "markdown",
   "metadata": {},
   "source": [
    "Description de notre set de données : \n",
    "\n",
    "- number_sta : ground station number\n",
    "\n",
    "- lat : latitude into decimal degrees\n",
    "\n",
    "- lon : longitude into decimal degrees\n",
    "\n",
    "- height_sta : station height into meters\n",
    "\n",
    "- date : datetime parameter with the format 'YYY-MM-DD-HH:mm:ss'\n",
    "\n",
    "- dd : wind direction in degrees\n",
    "\n",
    "- ff : wind speed in m.s-1\n",
    "\n",
    "- precip : precipitation during the reporting period in kg.m2\n",
    "\n",
    "- hu : humidity in %\n",
    "\n",
    "- td : dew point temperature** in Kelvin\n",
    "\n",
    "- t : temperature in Kelvin\n",
    "\n",
    "- psl : pressure reduced to sea level in Pa\n",
    "\n",
    "** : temperature for which it is needed to refresh an air volume at constant pressure and humidity to become it saturated (i.e. condensation temperature)"
   ]
  },
  {
   "cell_type": "code",
   "execution_count": 11,
   "metadata": {},
   "outputs": [
    {
     "data": {
      "text/html": [
       "<div>\n",
       "<style scoped>\n",
       "    .dataframe tbody tr th:only-of-type {\n",
       "        vertical-align: middle;\n",
       "    }\n",
       "\n",
       "    .dataframe tbody tr th {\n",
       "        vertical-align: top;\n",
       "    }\n",
       "\n",
       "    .dataframe thead th {\n",
       "        text-align: right;\n",
       "    }\n",
       "</style>\n",
       "<table border=\"1\" class=\"dataframe\">\n",
       "  <thead>\n",
       "    <tr style=\"text-align: right;\">\n",
       "      <th></th>\n",
       "      <th>number_sta</th>\n",
       "      <th>lat</th>\n",
       "      <th>lon</th>\n",
       "      <th>height_sta</th>\n",
       "      <th>date</th>\n",
       "      <th>dd</th>\n",
       "      <th>ff</th>\n",
       "      <th>precip</th>\n",
       "      <th>hu</th>\n",
       "      <th>td</th>\n",
       "      <th>t</th>\n",
       "      <th>psl</th>\n",
       "    </tr>\n",
       "  </thead>\n",
       "  <tbody>\n",
       "    <tr>\n",
       "      <th>0</th>\n",
       "      <td>14066001</td>\n",
       "      <td>49.330</td>\n",
       "      <td>-0.430</td>\n",
       "      <td>2.0</td>\n",
       "      <td>20180101 00:00</td>\n",
       "      <td>240.0</td>\n",
       "      <td>8.2</td>\n",
       "      <td>0.0</td>\n",
       "      <td>84.0</td>\n",
       "      <td>276.75</td>\n",
       "      <td>279.25</td>\n",
       "      <td>NaN</td>\n",
       "    </tr>\n",
       "    <tr>\n",
       "      <th>1</th>\n",
       "      <td>14126001</td>\n",
       "      <td>49.150</td>\n",
       "      <td>0.040</td>\n",
       "      <td>125.0</td>\n",
       "      <td>20180101 00:00</td>\n",
       "      <td>NaN</td>\n",
       "      <td>NaN</td>\n",
       "      <td>0.0</td>\n",
       "      <td>98.0</td>\n",
       "      <td>278.75</td>\n",
       "      <td>279.05</td>\n",
       "      <td>NaN</td>\n",
       "    </tr>\n",
       "    <tr>\n",
       "      <th>2</th>\n",
       "      <td>14137001</td>\n",
       "      <td>49.180</td>\n",
       "      <td>-0.460</td>\n",
       "      <td>67.0</td>\n",
       "      <td>20180101 00:00</td>\n",
       "      <td>250.0</td>\n",
       "      <td>10.7</td>\n",
       "      <td>0.0</td>\n",
       "      <td>85.0</td>\n",
       "      <td>278.15</td>\n",
       "      <td>280.55</td>\n",
       "      <td>100690.0</td>\n",
       "    </tr>\n",
       "    <tr>\n",
       "      <th>3</th>\n",
       "      <td>14216001</td>\n",
       "      <td>48.928</td>\n",
       "      <td>-0.149</td>\n",
       "      <td>155.0</td>\n",
       "      <td>20180101 00:00</td>\n",
       "      <td>240.0</td>\n",
       "      <td>5.4</td>\n",
       "      <td>0.0</td>\n",
       "      <td>77.0</td>\n",
       "      <td>276.45</td>\n",
       "      <td>280.25</td>\n",
       "      <td>NaN</td>\n",
       "    </tr>\n",
       "    <tr>\n",
       "      <th>4</th>\n",
       "      <td>14296001</td>\n",
       "      <td>48.790</td>\n",
       "      <td>-1.040</td>\n",
       "      <td>336.0</td>\n",
       "      <td>20180101 00:00</td>\n",
       "      <td>NaN</td>\n",
       "      <td>NaN</td>\n",
       "      <td>0.0</td>\n",
       "      <td>NaN</td>\n",
       "      <td>NaN</td>\n",
       "      <td>278.35</td>\n",
       "      <td>NaN</td>\n",
       "    </tr>\n",
       "    <tr>\n",
       "      <th>...</th>\n",
       "      <td>...</td>\n",
       "      <td>...</td>\n",
       "      <td>...</td>\n",
       "      <td>...</td>\n",
       "      <td>...</td>\n",
       "      <td>...</td>\n",
       "      <td>...</td>\n",
       "      <td>...</td>\n",
       "      <td>...</td>\n",
       "      <td>...</td>\n",
       "      <td>...</td>\n",
       "      <td>...</td>\n",
       "    </tr>\n",
       "    <tr>\n",
       "      <th>22034556</th>\n",
       "      <td>85182004</td>\n",
       "      <td>46.766</td>\n",
       "      <td>-0.831</td>\n",
       "      <td>153.0</td>\n",
       "      <td>20181231 23:54</td>\n",
       "      <td>70.0</td>\n",
       "      <td>3.0</td>\n",
       "      <td>0.0</td>\n",
       "      <td>86.0</td>\n",
       "      <td>278.35</td>\n",
       "      <td>280.55</td>\n",
       "      <td>NaN</td>\n",
       "    </tr>\n",
       "    <tr>\n",
       "      <th>22034557</th>\n",
       "      <td>85191003</td>\n",
       "      <td>46.706</td>\n",
       "      <td>-1.382</td>\n",
       "      <td>91.0</td>\n",
       "      <td>20181231 23:54</td>\n",
       "      <td>60.0</td>\n",
       "      <td>3.3</td>\n",
       "      <td>0.0</td>\n",
       "      <td>86.0</td>\n",
       "      <td>278.65</td>\n",
       "      <td>280.85</td>\n",
       "      <td>103640.0</td>\n",
       "    </tr>\n",
       "    <tr>\n",
       "      <th>22034558</th>\n",
       "      <td>85215002</td>\n",
       "      <td>46.848</td>\n",
       "      <td>-1.184</td>\n",
       "      <td>62.0</td>\n",
       "      <td>20181231 23:54</td>\n",
       "      <td>NaN</td>\n",
       "      <td>NaN</td>\n",
       "      <td>0.0</td>\n",
       "      <td>NaN</td>\n",
       "      <td>NaN</td>\n",
       "      <td>281.15</td>\n",
       "      <td>NaN</td>\n",
       "    </tr>\n",
       "    <tr>\n",
       "      <th>22034559</th>\n",
       "      <td>85216001</td>\n",
       "      <td>46.440</td>\n",
       "      <td>-1.121</td>\n",
       "      <td>3.0</td>\n",
       "      <td>20181231 23:54</td>\n",
       "      <td>60.0</td>\n",
       "      <td>3.5</td>\n",
       "      <td>0.0</td>\n",
       "      <td>NaN</td>\n",
       "      <td>NaN</td>\n",
       "      <td>281.05</td>\n",
       "      <td>NaN</td>\n",
       "    </tr>\n",
       "    <tr>\n",
       "      <th>22034560</th>\n",
       "      <td>86009001</td>\n",
       "      <td>46.685</td>\n",
       "      <td>0.679</td>\n",
       "      <td>138.0</td>\n",
       "      <td>20181231 23:54</td>\n",
       "      <td>40.0</td>\n",
       "      <td>2.3</td>\n",
       "      <td>0.0</td>\n",
       "      <td>88.0</td>\n",
       "      <td>278.15</td>\n",
       "      <td>280.05</td>\n",
       "      <td>NaN</td>\n",
       "    </tr>\n",
       "  </tbody>\n",
       "</table>\n",
       "<p>22034561 rows × 12 columns</p>\n",
       "</div>"
      ],
      "text/plain": [
       "          number_sta     lat    lon  height_sta            date     dd    ff  \\\n",
       "0           14066001  49.330 -0.430         2.0  20180101 00:00  240.0   8.2   \n",
       "1           14126001  49.150  0.040       125.0  20180101 00:00    NaN   NaN   \n",
       "2           14137001  49.180 -0.460        67.0  20180101 00:00  250.0  10.7   \n",
       "3           14216001  48.928 -0.149       155.0  20180101 00:00  240.0   5.4   \n",
       "4           14296001  48.790 -1.040       336.0  20180101 00:00    NaN   NaN   \n",
       "...              ...     ...    ...         ...             ...    ...   ...   \n",
       "22034556    85182004  46.766 -0.831       153.0  20181231 23:54   70.0   3.0   \n",
       "22034557    85191003  46.706 -1.382        91.0  20181231 23:54   60.0   3.3   \n",
       "22034558    85215002  46.848 -1.184        62.0  20181231 23:54    NaN   NaN   \n",
       "22034559    85216001  46.440 -1.121         3.0  20181231 23:54   60.0   3.5   \n",
       "22034560    86009001  46.685  0.679       138.0  20181231 23:54   40.0   2.3   \n",
       "\n",
       "          precip    hu      td       t       psl  \n",
       "0            0.0  84.0  276.75  279.25       NaN  \n",
       "1            0.0  98.0  278.75  279.05       NaN  \n",
       "2            0.0  85.0  278.15  280.55  100690.0  \n",
       "3            0.0  77.0  276.45  280.25       NaN  \n",
       "4            0.0   NaN     NaN  278.35       NaN  \n",
       "...          ...   ...     ...     ...       ...  \n",
       "22034556     0.0  86.0  278.35  280.55       NaN  \n",
       "22034557     0.0  86.0  278.65  280.85  103640.0  \n",
       "22034558     0.0   NaN     NaN  281.15       NaN  \n",
       "22034559     0.0   NaN     NaN  281.05       NaN  \n",
       "22034560     0.0  88.0  278.15  280.05       NaN  \n",
       "\n",
       "[22034561 rows x 12 columns]"
      ]
     },
     "execution_count": 11,
     "metadata": {},
     "output_type": "execute_result"
    }
   ],
   "source": [
    "raw_df_nw2018.head(-10)"
   ]
  },
  {
   "cell_type": "markdown",
   "metadata": {},
   "source": [
    "### simple plot of one parameter : height of each station"
   ]
  },
  {
   "cell_type": "code",
   "execution_count": 29,
   "metadata": {},
   "outputs": [],
   "source": [
    "def plot_location_height(df_raw, zoom):\n",
    "\n",
    "    col = ['number_sta', 'lat', 'lon', 'height_sta']\n",
    "\n",
    "    df_sub_height = df_raw[col]\n",
    "    df_sub_height = df_sub_height.groupby('number_sta').first()\n",
    "    df_sub_height = df_sub_height.reset_index()\n",
    "    df_sub_height.head()\n",
    "\n",
    "    fig = px.scatter_mapbox(df_sub_height,\n",
    "                            lat='lat',\n",
    "                            lon='lon', \n",
    "                            hover_name='number_sta',\n",
    "                            color='height_sta',\n",
    "                            zoom=zoom,\n",
    "                            height=400,\n",
    "                            size_max=15,\n",
    "                            opacity=0.9,\n",
    "                            width=800\n",
    "                            )\n",
    "    fig.update_layout(mapbox_style='stamen-terrain')\n",
    "    fig.update_layout(margin={\"r\": 0, \"t\": 40, \"l\": 0, \"b\": 0})\n",
    "    fig.update_layout(title_text=\"Localisation des stations et de leur altitude\")\n",
    "    fig.show()\n"
   ]
  },
  {
   "cell_type": "code",
   "execution_count": 30,
   "metadata": {},
   "outputs": [
    {
     "data": {
      "application/vnd.plotly.v1+json": {
       "config": {
        "plotlyServerURL": "https://plot.ly"
       },
       "data": [
        {
         "hovertemplate": "<b>%{hovertext}</b><br><br>lat=%{lat}<br>lon=%{lon}<br>height_sta=%{marker.color}<extra></extra>",
         "hovertext": [
          14066001,
          14126001,
          14137001,
          14216001,
          14296001,
          14357002,
          14366002,
          14372001,
          14501002,
          14515001,
          14577003,
          14578001,
          14624001,
          14659001,
          14762004,
          17218001,
          22005003,
          22016001,
          22092001,
          22108001,
          22113006,
          22147006,
          22168001,
          22219003,
          22247002,
          22261002,
          22266001,
          22282001,
          22372001,
          23025001,
          23089001,
          27056003,
          27100001,
          27347001,
          27422001,
          28002001,
          28041001,
          28064002,
          28070001,
          28078001,
          28134004,
          28190001,
          28196003,
          28198001,
          28206001,
          28214003,
          28215001,
          28239002,
          28252002,
          28280003,
          28305001,
          28380003,
          28406001,
          28407001,
          29021001,
          29022001,
          29058003,
          29075001,
          29082001,
          29113001,
          29120001,
          29151004,
          29155005,
          29155008,
          29158001,
          29163003,
          29168001,
          29178001,
          29190001,
          29214001,
          29216001,
          29236001,
          29249002,
          29263002,
          29264001,
          29276001,
          29277001,
          29293001,
          35005001,
          35026001,
          35057003,
          35110003,
          35162003,
          35202001,
          35228001,
          35238003,
          35281001,
          35294001,
          36006004,
          36018004,
          36035002,
          36037001,
          36063001,
          36085001,
          36088004,
          36089003,
          36093002,
          36107001,
          36127002,
          36128001,
          36136001,
          36146001,
          36173002,
          36219001,
          37003004,
          37023002,
          37055002,
          37067003,
          37072002,
          37107001,
          37109001,
          37113001,
          37119001,
          37122001,
          37122003,
          37129002,
          37170001,
          37179001,
          37192001,
          37213003,
          37213004,
          37216002,
          37240001,
          37241001,
          37242002,
          37249001,
          37253001,
          41053001,
          41097001,
          41152001,
          41173003,
          41281001,
          44020001,
          44069002,
          44103001,
          44110002,
          44117002,
          44181001,
          44184001,
          45055001,
          49007011,
          49008001,
          49020001,
          49022001,
          49027001,
          49099003,
          49138001,
          49173001,
          49188001,
          49191001,
          49248003,
          49276001,
          49331003,
          49373001,
          50020001,
          50111001,
          50129001,
          50139001,
          50196001,
          50209001,
          50215002,
          50277001,
          50410003,
          50484002,
          50509002,
          50514001,
          50615001,
          53083001,
          53096004,
          53110002,
          53116003,
          53130008,
          53159002,
          53185001,
          56004001,
          56007001,
          56009001,
          56017003,
          56069001,
          56127001,
          56137001,
          56151001,
          56159001,
          56165003,
          56166005,
          56185001,
          56240003,
          56243001,
          60322001,
          60566001,
          61001001,
          61006005,
          61169003,
          61179001,
          61214002,
          61275001,
          61377001,
          61387001,
          61404001,
          61426001,
          61485002,
          61491002,
          62054001,
          62076002,
          62160001,
          62548002,
          62826001,
          72086001,
          72172003,
          72175002,
          72181001,
          72255001,
          72264001,
          72284001,
          72361001,
          76116001,
          76130001,
          76171001,
          76208001,
          76217001,
          76228001,
          76473001,
          76481001,
          76552001,
          76582001,
          76746001,
          78140001,
          78152001,
          78354001,
          78465001,
          78505001,
          78562001,
          79049004,
          79079013,
          79134001,
          79191005,
          79202003,
          79215001,
          79270003,
          79309001,
          79320002,
          79326004,
          79329001,
          80001001,
          80182003,
          80606002,
          85060002,
          85092004,
          85097001,
          85104001,
          85113001,
          85152001,
          85153002,
          85163001,
          85169002,
          85172001,
          85182004,
          85191003,
          85215002,
          85216001,
          86009001,
          86021002,
          86027001,
          86039001,
          86066001,
          86097001,
          86137003,
          86165005,
          86272002,
          91200002,
          95690001
         ],
         "lat": [
          49.33,
          49.15,
          49.18,
          48.928,
          48.79,
          48.93,
          49.17,
          49.102,
          48.89,
          49.35,
          49.28,
          49.36,
          48.99,
          49.06,
          48.85,
          46.32,
          48.55,
          48.86,
          48.4,
          48.692,
          48.76,
          48.18,
          48.83,
          48.266,
          48.742,
          48.519,
          48.227,
          48.64,
          48.53,
          46.322,
          46.35,
          49.1,
          49.36,
          49.03,
          49.224,
          48.19,
          48.3,
          48.8,
          48.46,
          48.11,
          48.726,
          48.09,
          48.283,
          48.06,
          48.707,
          48.48,
          48.33,
          48.65,
          48.25,
          48.314,
          48.18,
          48.41,
          48.2,
          48.258,
          48.68,
          48.28,
          47.85,
          48.45,
          48.75,
          48.663,
          48.28,
          48.6,
          48.47,
          48.46,
          47.8,
          48.5,
          48.04,
          48.55,
          48.33,
          47.915,
          47.97,
          47.88,
          48.133,
          48.228,
          48.53,
          48.66,
          48.39,
          47.841,
          47.93,
          48.111,
          47.922,
          48.327,
          48.479,
          47.78,
          48.58,
          48.13,
          48.07,
          47.693,
          46.57,
          46.63,
          46.457,
          46.95,
          46.87,
          47.07,
          46.94,
          46.66,
          46.94,
          47.23,
          46.61,
          46.86,
          46.93,
          46.47,
          46.7,
          46.66,
          47.39,
          47.177,
          47.48,
          47.26,
          47.18,
          46.994,
          47.43,
          46.92,
          47.119,
          47.351,
          47.34,
          47.11,
          47.605,
          47.44,
          47.219,
          47.615,
          47.62,
          47.16,
          47.59,
          47.444,
          47.23,
          47.52,
          47.27,
          47.969,
          47.32,
          47.536,
          47.904,
          47.68,
          47.15,
          47.29,
          47.31,
          47.42,
          47.14,
          47.01,
          47.23,
          47.99,
          47.453,
          47.562,
          47.48,
          47.309,
          47.152,
          47.08,
          47.493,
          47.518,
          47.56,
          47.252,
          47.74,
          47.353,
          47.679,
          47.147,
          49.73,
          49.036,
          49.66,
          49.051,
          49.7,
          49.65,
          49.108,
          48.86,
          48.58,
          48.56,
          49.4,
          48.759,
          49.52,
          48.32,
          48.3,
          47.89,
          48.406,
          48.03,
          48.21,
          48.452,
          47.51,
          47.66,
          47.29,
          47.88,
          47.65,
          48.07,
          47.72,
          48.056,
          47.77,
          47.95,
          47.92,
          47.76,
          47.51,
          47.605,
          49.31,
          49.62,
          48.45,
          48.72,
          48.75,
          48.72,
          48.758,
          48.71,
          48.724,
          48.5,
          48.556,
          48.37,
          48.91,
          48.59,
          50.87,
          50.75,
          50.73,
          50.96,
          50.51,
          48.32,
          48.08,
          47.71,
          47.94,
          48.139,
          47.84,
          48.3,
          47.89,
          49.38,
          49.733,
          49.54,
          49.51,
          49.93,
          49.65,
          49.49,
          49.53,
          49.51,
          49.84,
          49.815,
          48.96,
          48.84,
          48.964,
          48.86,
          48.868,
          48.707,
          46.84,
          46.924,
          46.86,
          46.32,
          46.64,
          46.66,
          46.42,
          46.617,
          46.46,
          46.725,
          46.99,
          50.14,
          50.187,
          49.96,
          46.48,
          46.448,
          46.925,
          46.35,
          46.69,
          46.62,
          46.77,
          47.005,
          46.81,
          46.827,
          46.77,
          46.7,
          46.85,
          46.44,
          46.685,
          46.57,
          46.59,
          46.28,
          46.814,
          46.32,
          47.035,
          46.412,
          46.84,
          48.527,
          49.108
         ],
         "legendgroup": "",
         "lon": [
          -0.43,
          0.04,
          -0.46,
          -0.149,
          -1.04,
          -0.69,
          0.23,
          -0.765,
          -0.39,
          -0.77,
          -0.56,
          0.17,
          -0.01,
          -0.23,
          -0.9,
          -1.01,
          -3.388,
          -3,
          -3.15,
          -3.04,
          -3.47,
          -2.41,
          -3.47,
          -2.748,
          -3.251,
          -2.42,
          -3.295,
          -2.25,
          -2.85,
          1.912,
          1.99,
          0.56,
          0.39,
          1.22,
          1.28,
          1.85,
          1.27,
          1.49,
          1.5,
          0.91,
          1.387,
          1.67,
          1.253,
          1.38,
          1.173,
          1.01,
          1.82,
          1.37,
          0.99,
          0.839,
          1.47,
          1.56,
          1.68,
          0.91,
          -4.33,
          -4.63,
          -3.98,
          -4.38,
          -4.01,
          -3.693,
          -4.44,
          -3.81,
          -5.06,
          -5.06,
          -4.37,
          -3.85,
          -4.73,
          -4.66,
          -4.77,
          -4.361,
          -4.16,
          -3.71,
          -3.717,
          -4.098,
          -4.15,
          -4.077,
          -4.02,
          -3.869,
          -1.3,
          -2.124,
          -1.941,
          -1.597,
          -1.13,
          -1.765,
          -2.08,
          -1.64,
          -1.73,
          -1.998,
          1.5,
          1.09,
          1.302,
          1.77,
          1.74,
          1.76,
          1.98,
          1.8,
          1.66,
          1.5,
          1.974,
          1.75,
          1.17,
          1.67,
          1.25,
          1.58,
          0.98,
          1.212,
          0.26,
          0.4,
          0.23,
          0.884,
          0.6,
          0.806,
          0.421,
          0.654,
          0.67,
          0.27,
          0.598,
          0.73,
          0.899,
          0.464,
          0.47,
          0.6,
          0.93,
          0.318,
          0.15,
          0.47,
          0.99,
          0.913,
          1.69,
          1.73,
          1.522,
          1.21,
          -1.61,
          -2.43,
          -2.15,
          -1.51,
          -1.34,
          -1.78,
          -2.3,
          1.78,
          -0.56,
          -0.97,
          -0.61,
          -0.597,
          -0.938,
          -0.88,
          -0.168,
          0.01,
          -0.32,
          -0.436,
          -1.19,
          -1.008,
          -0.873,
          -0.53,
          -1.94,
          -1.298,
          -1.63,
          -1.04,
          -1.27,
          -1.46,
          -1.607,
          -1.57,
          -1.47,
          -1.1,
          -1.17,
          -0.843,
          -1.51,
          -0.22,
          -0.96,
          -0.54,
          -0.441,
          -0.75,
          -0.54,
          -0.183,
          -2.38,
          -2.97,
          -3.22,
          -2.73,
          -3.5,
          -2.29,
          -2.73,
          -2.917,
          -2.39,
          -2.4,
          -3.34,
          -3.44,
          -2.8,
          -2.714,
          1.88,
          1.79,
          0.11,
          0.01,
          -0.59,
          -0.26,
          0.662,
          0.3,
          -0.73,
          -0.7,
          0.529,
          0.55,
          0.25,
          0.67,
          1.583,
          1.91,
          1.6,
          1.96,
          1.62,
          0.35,
          0.59,
          0.09,
          0.19,
          -0.226,
          -0.3,
          0.09,
          0.56,
          1.18,
          1.502,
          1.44,
          1.72,
          1.09,
          0.815,
          0.77,
          0.09,
          0.07,
          1.167,
          0.568,
          1.92,
          1.98,
          1.674,
          1.69,
          1.673,
          1.746,
          -0.516,
          -0.755,
          -0.25,
          -0.4,
          -0.26,
          -0.4,
          -0.21,
          -0.571,
          -0.46,
          -0.02,
          -0.21,
          1.83,
          1.521,
          1.77,
          -1.73,
          -0.78,
          -1.024,
          -1.33,
          -2.33,
          -1.63,
          -1.05,
          -2.257,
          -1.6,
          -2,
          -0.83,
          -1.38,
          -1.18,
          -1.121,
          0.679,
          0.05,
          0.31,
          0.19,
          0.577,
          0.41,
          0.098,
          0.841,
          0.45,
          1.995,
          1.831
         ],
         "marker": {
          "color": [
           2,
           125,
           67,
           155,
           336,
           223,
           62,
           184,
           185,
           68,
           15,
           143,
           52,
           62,
           100,
           2,
           158,
           25,
           281,
           0,
           87,
           131,
           58,
           235,
           55,
           71,
           236,
           35,
           135,
           371,
           306,
           166,
           122,
           138,
           31,
           133,
           163,
           132,
           156,
           197,
           139,
           132,
           170,
           127,
           171,
           200,
           145,
           151,
           267,
           180,
           129,
           147,
           138,
           235,
           18,
           46,
           8,
           98,
           32,
           0,
           83,
           90,
           68,
           39,
           3,
           147,
           67,
           40,
           22,
           10,
           85,
           77,
           260,
           63,
           115,
           58,
           157,
           25,
           75,
           84,
           42,
           87,
           153,
           89,
           65,
           66,
           37,
           46,
           178,
           108,
           126,
           177,
           157,
           135,
           138,
           185,
           170,
           130,
           204,
           160,
           148,
           315,
           110,
           157,
           116,
           126,
           87,
           60,
           76,
           123,
           93,
           70,
           38,
           85,
           93,
           67,
           114,
           112,
           90,
           107,
           107,
           112,
           109,
           86,
           33,
           117,
           111,
           163,
           86,
           96,
           128,
           130,
           26,
           4,
           4,
           13,
           35,
           4,
           14,
           125,
           35,
           65,
           48,
           81,
           100,
           135,
           41,
           92,
           53,
           73,
           96,
           22,
           25,
           98,
           8,
           134,
           19,
           28,
           4,
           138,
           7,
           5,
           39,
           95,
           5,
           284,
           61,
           172,
           168,
           93,
           268,
           100,
           107,
           277,
           26,
           26,
           43,
           112,
           41,
           74,
           132,
           125,
           65,
           65,
           75,
           44,
           37,
           3,
           113,
           206,
           145,
           170,
           195,
           229,
           232,
           236,
           306,
           158,
           242,
           168,
           225,
           217,
           48,
           117,
           68,
           3,
           20,
           105,
           112,
           92,
           52,
           206,
           44,
           85,
           154,
           152,
           232,
           197,
           104,
           40,
           147,
           4,
           95,
           104,
           22,
           86,
           42,
           129,
           123,
           102,
           107,
           176,
           191,
           144,
           121,
           61,
           159,
           196,
           83,
           247,
           100,
           133,
           81,
           72,
           4,
           121,
           27,
           20,
           190,
           2,
           32,
           58,
           82,
           3,
           51,
           2,
           153,
           91,
           62,
           3,
           138,
           150,
           120,
           148,
           116,
           122,
           96,
           153,
           120,
           116,
           126
          ],
          "coloraxis": "coloraxis",
          "opacity": 0.9
         },
         "mode": "markers",
         "name": "",
         "showlegend": false,
         "subplot": "mapbox",
         "type": "scattermapbox"
        }
       ],
       "layout": {
        "coloraxis": {
         "colorbar": {
          "title": {
           "text": "height_sta"
          }
         },
         "colorscale": [
          [
           0,
           "#0d0887"
          ],
          [
           0.1111111111111111,
           "#46039f"
          ],
          [
           0.2222222222222222,
           "#7201a8"
          ],
          [
           0.3333333333333333,
           "#9c179e"
          ],
          [
           0.4444444444444444,
           "#bd3786"
          ],
          [
           0.5555555555555556,
           "#d8576b"
          ],
          [
           0.6666666666666666,
           "#ed7953"
          ],
          [
           0.7777777777777778,
           "#fb9f3a"
          ],
          [
           0.8888888888888888,
           "#fdca26"
          ],
          [
           1,
           "#f0f921"
          ]
         ]
        },
        "height": 400,
        "legend": {
         "tracegroupgap": 0
        },
        "mapbox": {
         "center": {
          "lat": 48.044671586715864,
          "lon": -0.5292509225092251
         },
         "domain": {
          "x": [
           0,
           1
          ],
          "y": [
           0,
           1
          ]
         },
         "style": "stamen-terrain",
         "zoom": 5
        },
        "margin": {
         "b": 0,
         "l": 0,
         "r": 0,
         "t": 40
        },
        "template": {
         "data": {
          "bar": [
           {
            "error_x": {
             "color": "#2a3f5f"
            },
            "error_y": {
             "color": "#2a3f5f"
            },
            "marker": {
             "line": {
              "color": "#E5ECF6",
              "width": 0.5
             },
             "pattern": {
              "fillmode": "overlay",
              "size": 10,
              "solidity": 0.2
             }
            },
            "type": "bar"
           }
          ],
          "barpolar": [
           {
            "marker": {
             "line": {
              "color": "#E5ECF6",
              "width": 0.5
             },
             "pattern": {
              "fillmode": "overlay",
              "size": 10,
              "solidity": 0.2
             }
            },
            "type": "barpolar"
           }
          ],
          "carpet": [
           {
            "aaxis": {
             "endlinecolor": "#2a3f5f",
             "gridcolor": "white",
             "linecolor": "white",
             "minorgridcolor": "white",
             "startlinecolor": "#2a3f5f"
            },
            "baxis": {
             "endlinecolor": "#2a3f5f",
             "gridcolor": "white",
             "linecolor": "white",
             "minorgridcolor": "white",
             "startlinecolor": "#2a3f5f"
            },
            "type": "carpet"
           }
          ],
          "choropleth": [
           {
            "colorbar": {
             "outlinewidth": 0,
             "ticks": ""
            },
            "type": "choropleth"
           }
          ],
          "contour": [
           {
            "colorbar": {
             "outlinewidth": 0,
             "ticks": ""
            },
            "colorscale": [
             [
              0,
              "#0d0887"
             ],
             [
              0.1111111111111111,
              "#46039f"
             ],
             [
              0.2222222222222222,
              "#7201a8"
             ],
             [
              0.3333333333333333,
              "#9c179e"
             ],
             [
              0.4444444444444444,
              "#bd3786"
             ],
             [
              0.5555555555555556,
              "#d8576b"
             ],
             [
              0.6666666666666666,
              "#ed7953"
             ],
             [
              0.7777777777777778,
              "#fb9f3a"
             ],
             [
              0.8888888888888888,
              "#fdca26"
             ],
             [
              1,
              "#f0f921"
             ]
            ],
            "type": "contour"
           }
          ],
          "contourcarpet": [
           {
            "colorbar": {
             "outlinewidth": 0,
             "ticks": ""
            },
            "type": "contourcarpet"
           }
          ],
          "heatmap": [
           {
            "colorbar": {
             "outlinewidth": 0,
             "ticks": ""
            },
            "colorscale": [
             [
              0,
              "#0d0887"
             ],
             [
              0.1111111111111111,
              "#46039f"
             ],
             [
              0.2222222222222222,
              "#7201a8"
             ],
             [
              0.3333333333333333,
              "#9c179e"
             ],
             [
              0.4444444444444444,
              "#bd3786"
             ],
             [
              0.5555555555555556,
              "#d8576b"
             ],
             [
              0.6666666666666666,
              "#ed7953"
             ],
             [
              0.7777777777777778,
              "#fb9f3a"
             ],
             [
              0.8888888888888888,
              "#fdca26"
             ],
             [
              1,
              "#f0f921"
             ]
            ],
            "type": "heatmap"
           }
          ],
          "heatmapgl": [
           {
            "colorbar": {
             "outlinewidth": 0,
             "ticks": ""
            },
            "colorscale": [
             [
              0,
              "#0d0887"
             ],
             [
              0.1111111111111111,
              "#46039f"
             ],
             [
              0.2222222222222222,
              "#7201a8"
             ],
             [
              0.3333333333333333,
              "#9c179e"
             ],
             [
              0.4444444444444444,
              "#bd3786"
             ],
             [
              0.5555555555555556,
              "#d8576b"
             ],
             [
              0.6666666666666666,
              "#ed7953"
             ],
             [
              0.7777777777777778,
              "#fb9f3a"
             ],
             [
              0.8888888888888888,
              "#fdca26"
             ],
             [
              1,
              "#f0f921"
             ]
            ],
            "type": "heatmapgl"
           }
          ],
          "histogram": [
           {
            "marker": {
             "pattern": {
              "fillmode": "overlay",
              "size": 10,
              "solidity": 0.2
             }
            },
            "type": "histogram"
           }
          ],
          "histogram2d": [
           {
            "colorbar": {
             "outlinewidth": 0,
             "ticks": ""
            },
            "colorscale": [
             [
              0,
              "#0d0887"
             ],
             [
              0.1111111111111111,
              "#46039f"
             ],
             [
              0.2222222222222222,
              "#7201a8"
             ],
             [
              0.3333333333333333,
              "#9c179e"
             ],
             [
              0.4444444444444444,
              "#bd3786"
             ],
             [
              0.5555555555555556,
              "#d8576b"
             ],
             [
              0.6666666666666666,
              "#ed7953"
             ],
             [
              0.7777777777777778,
              "#fb9f3a"
             ],
             [
              0.8888888888888888,
              "#fdca26"
             ],
             [
              1,
              "#f0f921"
             ]
            ],
            "type": "histogram2d"
           }
          ],
          "histogram2dcontour": [
           {
            "colorbar": {
             "outlinewidth": 0,
             "ticks": ""
            },
            "colorscale": [
             [
              0,
              "#0d0887"
             ],
             [
              0.1111111111111111,
              "#46039f"
             ],
             [
              0.2222222222222222,
              "#7201a8"
             ],
             [
              0.3333333333333333,
              "#9c179e"
             ],
             [
              0.4444444444444444,
              "#bd3786"
             ],
             [
              0.5555555555555556,
              "#d8576b"
             ],
             [
              0.6666666666666666,
              "#ed7953"
             ],
             [
              0.7777777777777778,
              "#fb9f3a"
             ],
             [
              0.8888888888888888,
              "#fdca26"
             ],
             [
              1,
              "#f0f921"
             ]
            ],
            "type": "histogram2dcontour"
           }
          ],
          "mesh3d": [
           {
            "colorbar": {
             "outlinewidth": 0,
             "ticks": ""
            },
            "type": "mesh3d"
           }
          ],
          "parcoords": [
           {
            "line": {
             "colorbar": {
              "outlinewidth": 0,
              "ticks": ""
             }
            },
            "type": "parcoords"
           }
          ],
          "pie": [
           {
            "automargin": true,
            "type": "pie"
           }
          ],
          "scatter": [
           {
            "fillpattern": {
             "fillmode": "overlay",
             "size": 10,
             "solidity": 0.2
            },
            "type": "scatter"
           }
          ],
          "scatter3d": [
           {
            "line": {
             "colorbar": {
              "outlinewidth": 0,
              "ticks": ""
             }
            },
            "marker": {
             "colorbar": {
              "outlinewidth": 0,
              "ticks": ""
             }
            },
            "type": "scatter3d"
           }
          ],
          "scattercarpet": [
           {
            "marker": {
             "colorbar": {
              "outlinewidth": 0,
              "ticks": ""
             }
            },
            "type": "scattercarpet"
           }
          ],
          "scattergeo": [
           {
            "marker": {
             "colorbar": {
              "outlinewidth": 0,
              "ticks": ""
             }
            },
            "type": "scattergeo"
           }
          ],
          "scattergl": [
           {
            "marker": {
             "colorbar": {
              "outlinewidth": 0,
              "ticks": ""
             }
            },
            "type": "scattergl"
           }
          ],
          "scattermapbox": [
           {
            "marker": {
             "colorbar": {
              "outlinewidth": 0,
              "ticks": ""
             }
            },
            "type": "scattermapbox"
           }
          ],
          "scatterpolar": [
           {
            "marker": {
             "colorbar": {
              "outlinewidth": 0,
              "ticks": ""
             }
            },
            "type": "scatterpolar"
           }
          ],
          "scatterpolargl": [
           {
            "marker": {
             "colorbar": {
              "outlinewidth": 0,
              "ticks": ""
             }
            },
            "type": "scatterpolargl"
           }
          ],
          "scatterternary": [
           {
            "marker": {
             "colorbar": {
              "outlinewidth": 0,
              "ticks": ""
             }
            },
            "type": "scatterternary"
           }
          ],
          "surface": [
           {
            "colorbar": {
             "outlinewidth": 0,
             "ticks": ""
            },
            "colorscale": [
             [
              0,
              "#0d0887"
             ],
             [
              0.1111111111111111,
              "#46039f"
             ],
             [
              0.2222222222222222,
              "#7201a8"
             ],
             [
              0.3333333333333333,
              "#9c179e"
             ],
             [
              0.4444444444444444,
              "#bd3786"
             ],
             [
              0.5555555555555556,
              "#d8576b"
             ],
             [
              0.6666666666666666,
              "#ed7953"
             ],
             [
              0.7777777777777778,
              "#fb9f3a"
             ],
             [
              0.8888888888888888,
              "#fdca26"
             ],
             [
              1,
              "#f0f921"
             ]
            ],
            "type": "surface"
           }
          ],
          "table": [
           {
            "cells": {
             "fill": {
              "color": "#EBF0F8"
             },
             "line": {
              "color": "white"
             }
            },
            "header": {
             "fill": {
              "color": "#C8D4E3"
             },
             "line": {
              "color": "white"
             }
            },
            "type": "table"
           }
          ]
         },
         "layout": {
          "annotationdefaults": {
           "arrowcolor": "#2a3f5f",
           "arrowhead": 0,
           "arrowwidth": 1
          },
          "autotypenumbers": "strict",
          "coloraxis": {
           "colorbar": {
            "outlinewidth": 0,
            "ticks": ""
           }
          },
          "colorscale": {
           "diverging": [
            [
             0,
             "#8e0152"
            ],
            [
             0.1,
             "#c51b7d"
            ],
            [
             0.2,
             "#de77ae"
            ],
            [
             0.3,
             "#f1b6da"
            ],
            [
             0.4,
             "#fde0ef"
            ],
            [
             0.5,
             "#f7f7f7"
            ],
            [
             0.6,
             "#e6f5d0"
            ],
            [
             0.7,
             "#b8e186"
            ],
            [
             0.8,
             "#7fbc41"
            ],
            [
             0.9,
             "#4d9221"
            ],
            [
             1,
             "#276419"
            ]
           ],
           "sequential": [
            [
             0,
             "#0d0887"
            ],
            [
             0.1111111111111111,
             "#46039f"
            ],
            [
             0.2222222222222222,
             "#7201a8"
            ],
            [
             0.3333333333333333,
             "#9c179e"
            ],
            [
             0.4444444444444444,
             "#bd3786"
            ],
            [
             0.5555555555555556,
             "#d8576b"
            ],
            [
             0.6666666666666666,
             "#ed7953"
            ],
            [
             0.7777777777777778,
             "#fb9f3a"
            ],
            [
             0.8888888888888888,
             "#fdca26"
            ],
            [
             1,
             "#f0f921"
            ]
           ],
           "sequentialminus": [
            [
             0,
             "#0d0887"
            ],
            [
             0.1111111111111111,
             "#46039f"
            ],
            [
             0.2222222222222222,
             "#7201a8"
            ],
            [
             0.3333333333333333,
             "#9c179e"
            ],
            [
             0.4444444444444444,
             "#bd3786"
            ],
            [
             0.5555555555555556,
             "#d8576b"
            ],
            [
             0.6666666666666666,
             "#ed7953"
            ],
            [
             0.7777777777777778,
             "#fb9f3a"
            ],
            [
             0.8888888888888888,
             "#fdca26"
            ],
            [
             1,
             "#f0f921"
            ]
           ]
          },
          "colorway": [
           "#636efa",
           "#EF553B",
           "#00cc96",
           "#ab63fa",
           "#FFA15A",
           "#19d3f3",
           "#FF6692",
           "#B6E880",
           "#FF97FF",
           "#FECB52"
          ],
          "font": {
           "color": "#2a3f5f"
          },
          "geo": {
           "bgcolor": "white",
           "lakecolor": "white",
           "landcolor": "#E5ECF6",
           "showlakes": true,
           "showland": true,
           "subunitcolor": "white"
          },
          "hoverlabel": {
           "align": "left"
          },
          "hovermode": "closest",
          "mapbox": {
           "style": "light"
          },
          "paper_bgcolor": "white",
          "plot_bgcolor": "#E5ECF6",
          "polar": {
           "angularaxis": {
            "gridcolor": "white",
            "linecolor": "white",
            "ticks": ""
           },
           "bgcolor": "#E5ECF6",
           "radialaxis": {
            "gridcolor": "white",
            "linecolor": "white",
            "ticks": ""
           }
          },
          "scene": {
           "xaxis": {
            "backgroundcolor": "#E5ECF6",
            "gridcolor": "white",
            "gridwidth": 2,
            "linecolor": "white",
            "showbackground": true,
            "ticks": "",
            "zerolinecolor": "white"
           },
           "yaxis": {
            "backgroundcolor": "#E5ECF6",
            "gridcolor": "white",
            "gridwidth": 2,
            "linecolor": "white",
            "showbackground": true,
            "ticks": "",
            "zerolinecolor": "white"
           },
           "zaxis": {
            "backgroundcolor": "#E5ECF6",
            "gridcolor": "white",
            "gridwidth": 2,
            "linecolor": "white",
            "showbackground": true,
            "ticks": "",
            "zerolinecolor": "white"
           }
          },
          "shapedefaults": {
           "line": {
            "color": "#2a3f5f"
           }
          },
          "ternary": {
           "aaxis": {
            "gridcolor": "white",
            "linecolor": "white",
            "ticks": ""
           },
           "baxis": {
            "gridcolor": "white",
            "linecolor": "white",
            "ticks": ""
           },
           "bgcolor": "#E5ECF6",
           "caxis": {
            "gridcolor": "white",
            "linecolor": "white",
            "ticks": ""
           }
          },
          "title": {
           "x": 0.05
          },
          "xaxis": {
           "automargin": true,
           "gridcolor": "white",
           "linecolor": "white",
           "ticks": "",
           "title": {
            "standoff": 15
           },
           "zerolinecolor": "white",
           "zerolinewidth": 2
          },
          "yaxis": {
           "automargin": true,
           "gridcolor": "white",
           "linecolor": "white",
           "ticks": "",
           "title": {
            "standoff": 15
           },
           "zerolinecolor": "white",
           "zerolinewidth": 2
          }
         }
        },
        "title": {
         "text": "Localisation des stations et de leur altitude"
        },
        "width": 800
       }
      }
     },
     "metadata": {},
     "output_type": "display_data"
    }
   ],
   "source": [
    "plot_location_height(raw_df_nw2018, zoom=5)"
   ]
  },
  {
   "cell_type": "markdown",
   "metadata": {},
   "source": [
    "### Selection of stations within Loire Atlantique\n",
    "latitude max = 47.835790\n",
    "latitude min = 46.860601\n",
    "longitude max = -0.946864\n",
    "longitude min = -2.558945"
   ]
  },
  {
   "cell_type": "code",
   "execution_count": 43,
   "metadata": {},
   "outputs": [
    {
     "name": "stdout",
     "output_type": "stream",
     "text": [
      "\n",
      "Nombre de stations considérées : 16\n",
      "[35202001 35294001 44020001 44069002 44103001 44110002 44117002 44181001\n",
      " 44184001 49008001 49248003 49276001 56004001 56159001 85097001 85163001]\n"
     ]
    }
   ],
   "source": [
    "lat_max = 47.835790\n",
    "lat_min = 46.860601\n",
    "lon_max = -0.946864\n",
    "lon_min = -2.558945\n",
    "\n",
    "df_raw_LA = raw_df_nw2018.loc[(raw_df_nw2018[\"lat\"] > lat_min) & (raw_df_nw2018[\"lat\"] < lat_max) & (raw_df_nw2018[\"lon\"] > lon_min) & (raw_df_nw2018[\"lon\"] < lon_max)]\n",
    "\n",
    "stations_LA = df_raw_LA['number_sta'].unique()\n",
    "stations_LA.sort()\n",
    "nb_station = len(stations_LA)\n",
    "print(f'\\nNombre de stations considérées : {nb_station}')\n",
    "print(stations_LA)"
   ]
  },
  {
   "cell_type": "code",
   "execution_count": 32,
   "metadata": {},
   "outputs": [
    {
     "data": {
      "application/vnd.plotly.v1+json": {
       "config": {
        "plotlyServerURL": "https://plot.ly"
       },
       "data": [
        {
         "hovertemplate": "<b>%{hovertext}</b><br><br>lat=%{lat}<br>lon=%{lon}<br>height_sta=%{marker.color}<extra></extra>",
         "hovertext": [
          35202001,
          35294001,
          44020001,
          44069002,
          44103001,
          44110002,
          44117002,
          44181001,
          44184001,
          49008001,
          49248003,
          49276001,
          56004001,
          56159001,
          85097001,
          85163001
         ],
         "lat": [
          47.78,
          47.693,
          47.15,
          47.29,
          47.31,
          47.42,
          47.14,
          47.01,
          47.23,
          47.562,
          47.74,
          47.353,
          47.51,
          47.77,
          46.925,
          47.005
         ],
         "legendgroup": "",
         "lon": [
          -1.765,
          -1.998,
          -1.61,
          -2.43,
          -2.15,
          -1.51,
          -1.34,
          -1.78,
          -2.3,
          -0.97,
          -1.19,
          -1.008,
          -2.38,
          -2.39,
          -1.024,
          -2.257
         ],
         "marker": {
          "color": [
           89,
           46,
           26,
           4,
           4,
           13,
           35,
           4,
           14,
           65,
           96,
           22,
           26,
           65,
           190,
           3
          ],
          "coloraxis": "coloraxis",
          "opacity": 0.9
         },
         "mode": "markers",
         "name": "",
         "showlegend": false,
         "subplot": "mapbox",
         "type": "scattermapbox"
        }
       ],
       "layout": {
        "coloraxis": {
         "colorbar": {
          "title": {
           "text": "height_sta"
          }
         },
         "colorscale": [
          [
           0,
           "#0d0887"
          ],
          [
           0.1111111111111111,
           "#46039f"
          ],
          [
           0.2222222222222222,
           "#7201a8"
          ],
          [
           0.3333333333333333,
           "#9c179e"
          ],
          [
           0.4444444444444444,
           "#bd3786"
          ],
          [
           0.5555555555555556,
           "#d8576b"
          ],
          [
           0.6666666666666666,
           "#ed7953"
          ],
          [
           0.7777777777777778,
           "#fb9f3a"
          ],
          [
           0.8888888888888888,
           "#fdca26"
          ],
          [
           1,
           "#f0f921"
          ]
         ]
        },
        "height": 400,
        "legend": {
         "tracegroupgap": 0
        },
        "mapbox": {
         "center": {
          "lat": 47.367999999999995,
          "lon": -1.7563749999999998
         },
         "domain": {
          "x": [
           0,
           1
          ],
          "y": [
           0,
           1
          ]
         },
         "style": "stamen-terrain",
         "zoom": 6
        },
        "margin": {
         "b": 0,
         "l": 0,
         "r": 0,
         "t": 40
        },
        "template": {
         "data": {
          "bar": [
           {
            "error_x": {
             "color": "#2a3f5f"
            },
            "error_y": {
             "color": "#2a3f5f"
            },
            "marker": {
             "line": {
              "color": "#E5ECF6",
              "width": 0.5
             },
             "pattern": {
              "fillmode": "overlay",
              "size": 10,
              "solidity": 0.2
             }
            },
            "type": "bar"
           }
          ],
          "barpolar": [
           {
            "marker": {
             "line": {
              "color": "#E5ECF6",
              "width": 0.5
             },
             "pattern": {
              "fillmode": "overlay",
              "size": 10,
              "solidity": 0.2
             }
            },
            "type": "barpolar"
           }
          ],
          "carpet": [
           {
            "aaxis": {
             "endlinecolor": "#2a3f5f",
             "gridcolor": "white",
             "linecolor": "white",
             "minorgridcolor": "white",
             "startlinecolor": "#2a3f5f"
            },
            "baxis": {
             "endlinecolor": "#2a3f5f",
             "gridcolor": "white",
             "linecolor": "white",
             "minorgridcolor": "white",
             "startlinecolor": "#2a3f5f"
            },
            "type": "carpet"
           }
          ],
          "choropleth": [
           {
            "colorbar": {
             "outlinewidth": 0,
             "ticks": ""
            },
            "type": "choropleth"
           }
          ],
          "contour": [
           {
            "colorbar": {
             "outlinewidth": 0,
             "ticks": ""
            },
            "colorscale": [
             [
              0,
              "#0d0887"
             ],
             [
              0.1111111111111111,
              "#46039f"
             ],
             [
              0.2222222222222222,
              "#7201a8"
             ],
             [
              0.3333333333333333,
              "#9c179e"
             ],
             [
              0.4444444444444444,
              "#bd3786"
             ],
             [
              0.5555555555555556,
              "#d8576b"
             ],
             [
              0.6666666666666666,
              "#ed7953"
             ],
             [
              0.7777777777777778,
              "#fb9f3a"
             ],
             [
              0.8888888888888888,
              "#fdca26"
             ],
             [
              1,
              "#f0f921"
             ]
            ],
            "type": "contour"
           }
          ],
          "contourcarpet": [
           {
            "colorbar": {
             "outlinewidth": 0,
             "ticks": ""
            },
            "type": "contourcarpet"
           }
          ],
          "heatmap": [
           {
            "colorbar": {
             "outlinewidth": 0,
             "ticks": ""
            },
            "colorscale": [
             [
              0,
              "#0d0887"
             ],
             [
              0.1111111111111111,
              "#46039f"
             ],
             [
              0.2222222222222222,
              "#7201a8"
             ],
             [
              0.3333333333333333,
              "#9c179e"
             ],
             [
              0.4444444444444444,
              "#bd3786"
             ],
             [
              0.5555555555555556,
              "#d8576b"
             ],
             [
              0.6666666666666666,
              "#ed7953"
             ],
             [
              0.7777777777777778,
              "#fb9f3a"
             ],
             [
              0.8888888888888888,
              "#fdca26"
             ],
             [
              1,
              "#f0f921"
             ]
            ],
            "type": "heatmap"
           }
          ],
          "heatmapgl": [
           {
            "colorbar": {
             "outlinewidth": 0,
             "ticks": ""
            },
            "colorscale": [
             [
              0,
              "#0d0887"
             ],
             [
              0.1111111111111111,
              "#46039f"
             ],
             [
              0.2222222222222222,
              "#7201a8"
             ],
             [
              0.3333333333333333,
              "#9c179e"
             ],
             [
              0.4444444444444444,
              "#bd3786"
             ],
             [
              0.5555555555555556,
              "#d8576b"
             ],
             [
              0.6666666666666666,
              "#ed7953"
             ],
             [
              0.7777777777777778,
              "#fb9f3a"
             ],
             [
              0.8888888888888888,
              "#fdca26"
             ],
             [
              1,
              "#f0f921"
             ]
            ],
            "type": "heatmapgl"
           }
          ],
          "histogram": [
           {
            "marker": {
             "pattern": {
              "fillmode": "overlay",
              "size": 10,
              "solidity": 0.2
             }
            },
            "type": "histogram"
           }
          ],
          "histogram2d": [
           {
            "colorbar": {
             "outlinewidth": 0,
             "ticks": ""
            },
            "colorscale": [
             [
              0,
              "#0d0887"
             ],
             [
              0.1111111111111111,
              "#46039f"
             ],
             [
              0.2222222222222222,
              "#7201a8"
             ],
             [
              0.3333333333333333,
              "#9c179e"
             ],
             [
              0.4444444444444444,
              "#bd3786"
             ],
             [
              0.5555555555555556,
              "#d8576b"
             ],
             [
              0.6666666666666666,
              "#ed7953"
             ],
             [
              0.7777777777777778,
              "#fb9f3a"
             ],
             [
              0.8888888888888888,
              "#fdca26"
             ],
             [
              1,
              "#f0f921"
             ]
            ],
            "type": "histogram2d"
           }
          ],
          "histogram2dcontour": [
           {
            "colorbar": {
             "outlinewidth": 0,
             "ticks": ""
            },
            "colorscale": [
             [
              0,
              "#0d0887"
             ],
             [
              0.1111111111111111,
              "#46039f"
             ],
             [
              0.2222222222222222,
              "#7201a8"
             ],
             [
              0.3333333333333333,
              "#9c179e"
             ],
             [
              0.4444444444444444,
              "#bd3786"
             ],
             [
              0.5555555555555556,
              "#d8576b"
             ],
             [
              0.6666666666666666,
              "#ed7953"
             ],
             [
              0.7777777777777778,
              "#fb9f3a"
             ],
             [
              0.8888888888888888,
              "#fdca26"
             ],
             [
              1,
              "#f0f921"
             ]
            ],
            "type": "histogram2dcontour"
           }
          ],
          "mesh3d": [
           {
            "colorbar": {
             "outlinewidth": 0,
             "ticks": ""
            },
            "type": "mesh3d"
           }
          ],
          "parcoords": [
           {
            "line": {
             "colorbar": {
              "outlinewidth": 0,
              "ticks": ""
             }
            },
            "type": "parcoords"
           }
          ],
          "pie": [
           {
            "automargin": true,
            "type": "pie"
           }
          ],
          "scatter": [
           {
            "fillpattern": {
             "fillmode": "overlay",
             "size": 10,
             "solidity": 0.2
            },
            "type": "scatter"
           }
          ],
          "scatter3d": [
           {
            "line": {
             "colorbar": {
              "outlinewidth": 0,
              "ticks": ""
             }
            },
            "marker": {
             "colorbar": {
              "outlinewidth": 0,
              "ticks": ""
             }
            },
            "type": "scatter3d"
           }
          ],
          "scattercarpet": [
           {
            "marker": {
             "colorbar": {
              "outlinewidth": 0,
              "ticks": ""
             }
            },
            "type": "scattercarpet"
           }
          ],
          "scattergeo": [
           {
            "marker": {
             "colorbar": {
              "outlinewidth": 0,
              "ticks": ""
             }
            },
            "type": "scattergeo"
           }
          ],
          "scattergl": [
           {
            "marker": {
             "colorbar": {
              "outlinewidth": 0,
              "ticks": ""
             }
            },
            "type": "scattergl"
           }
          ],
          "scattermapbox": [
           {
            "marker": {
             "colorbar": {
              "outlinewidth": 0,
              "ticks": ""
             }
            },
            "type": "scattermapbox"
           }
          ],
          "scatterpolar": [
           {
            "marker": {
             "colorbar": {
              "outlinewidth": 0,
              "ticks": ""
             }
            },
            "type": "scatterpolar"
           }
          ],
          "scatterpolargl": [
           {
            "marker": {
             "colorbar": {
              "outlinewidth": 0,
              "ticks": ""
             }
            },
            "type": "scatterpolargl"
           }
          ],
          "scatterternary": [
           {
            "marker": {
             "colorbar": {
              "outlinewidth": 0,
              "ticks": ""
             }
            },
            "type": "scatterternary"
           }
          ],
          "surface": [
           {
            "colorbar": {
             "outlinewidth": 0,
             "ticks": ""
            },
            "colorscale": [
             [
              0,
              "#0d0887"
             ],
             [
              0.1111111111111111,
              "#46039f"
             ],
             [
              0.2222222222222222,
              "#7201a8"
             ],
             [
              0.3333333333333333,
              "#9c179e"
             ],
             [
              0.4444444444444444,
              "#bd3786"
             ],
             [
              0.5555555555555556,
              "#d8576b"
             ],
             [
              0.6666666666666666,
              "#ed7953"
             ],
             [
              0.7777777777777778,
              "#fb9f3a"
             ],
             [
              0.8888888888888888,
              "#fdca26"
             ],
             [
              1,
              "#f0f921"
             ]
            ],
            "type": "surface"
           }
          ],
          "table": [
           {
            "cells": {
             "fill": {
              "color": "#EBF0F8"
             },
             "line": {
              "color": "white"
             }
            },
            "header": {
             "fill": {
              "color": "#C8D4E3"
             },
             "line": {
              "color": "white"
             }
            },
            "type": "table"
           }
          ]
         },
         "layout": {
          "annotationdefaults": {
           "arrowcolor": "#2a3f5f",
           "arrowhead": 0,
           "arrowwidth": 1
          },
          "autotypenumbers": "strict",
          "coloraxis": {
           "colorbar": {
            "outlinewidth": 0,
            "ticks": ""
           }
          },
          "colorscale": {
           "diverging": [
            [
             0,
             "#8e0152"
            ],
            [
             0.1,
             "#c51b7d"
            ],
            [
             0.2,
             "#de77ae"
            ],
            [
             0.3,
             "#f1b6da"
            ],
            [
             0.4,
             "#fde0ef"
            ],
            [
             0.5,
             "#f7f7f7"
            ],
            [
             0.6,
             "#e6f5d0"
            ],
            [
             0.7,
             "#b8e186"
            ],
            [
             0.8,
             "#7fbc41"
            ],
            [
             0.9,
             "#4d9221"
            ],
            [
             1,
             "#276419"
            ]
           ],
           "sequential": [
            [
             0,
             "#0d0887"
            ],
            [
             0.1111111111111111,
             "#46039f"
            ],
            [
             0.2222222222222222,
             "#7201a8"
            ],
            [
             0.3333333333333333,
             "#9c179e"
            ],
            [
             0.4444444444444444,
             "#bd3786"
            ],
            [
             0.5555555555555556,
             "#d8576b"
            ],
            [
             0.6666666666666666,
             "#ed7953"
            ],
            [
             0.7777777777777778,
             "#fb9f3a"
            ],
            [
             0.8888888888888888,
             "#fdca26"
            ],
            [
             1,
             "#f0f921"
            ]
           ],
           "sequentialminus": [
            [
             0,
             "#0d0887"
            ],
            [
             0.1111111111111111,
             "#46039f"
            ],
            [
             0.2222222222222222,
             "#7201a8"
            ],
            [
             0.3333333333333333,
             "#9c179e"
            ],
            [
             0.4444444444444444,
             "#bd3786"
            ],
            [
             0.5555555555555556,
             "#d8576b"
            ],
            [
             0.6666666666666666,
             "#ed7953"
            ],
            [
             0.7777777777777778,
             "#fb9f3a"
            ],
            [
             0.8888888888888888,
             "#fdca26"
            ],
            [
             1,
             "#f0f921"
            ]
           ]
          },
          "colorway": [
           "#636efa",
           "#EF553B",
           "#00cc96",
           "#ab63fa",
           "#FFA15A",
           "#19d3f3",
           "#FF6692",
           "#B6E880",
           "#FF97FF",
           "#FECB52"
          ],
          "font": {
           "color": "#2a3f5f"
          },
          "geo": {
           "bgcolor": "white",
           "lakecolor": "white",
           "landcolor": "#E5ECF6",
           "showlakes": true,
           "showland": true,
           "subunitcolor": "white"
          },
          "hoverlabel": {
           "align": "left"
          },
          "hovermode": "closest",
          "mapbox": {
           "style": "light"
          },
          "paper_bgcolor": "white",
          "plot_bgcolor": "#E5ECF6",
          "polar": {
           "angularaxis": {
            "gridcolor": "white",
            "linecolor": "white",
            "ticks": ""
           },
           "bgcolor": "#E5ECF6",
           "radialaxis": {
            "gridcolor": "white",
            "linecolor": "white",
            "ticks": ""
           }
          },
          "scene": {
           "xaxis": {
            "backgroundcolor": "#E5ECF6",
            "gridcolor": "white",
            "gridwidth": 2,
            "linecolor": "white",
            "showbackground": true,
            "ticks": "",
            "zerolinecolor": "white"
           },
           "yaxis": {
            "backgroundcolor": "#E5ECF6",
            "gridcolor": "white",
            "gridwidth": 2,
            "linecolor": "white",
            "showbackground": true,
            "ticks": "",
            "zerolinecolor": "white"
           },
           "zaxis": {
            "backgroundcolor": "#E5ECF6",
            "gridcolor": "white",
            "gridwidth": 2,
            "linecolor": "white",
            "showbackground": true,
            "ticks": "",
            "zerolinecolor": "white"
           }
          },
          "shapedefaults": {
           "line": {
            "color": "#2a3f5f"
           }
          },
          "ternary": {
           "aaxis": {
            "gridcolor": "white",
            "linecolor": "white",
            "ticks": ""
           },
           "baxis": {
            "gridcolor": "white",
            "linecolor": "white",
            "ticks": ""
           },
           "bgcolor": "#E5ECF6",
           "caxis": {
            "gridcolor": "white",
            "linecolor": "white",
            "ticks": ""
           }
          },
          "title": {
           "x": 0.05
          },
          "xaxis": {
           "automargin": true,
           "gridcolor": "white",
           "linecolor": "white",
           "ticks": "",
           "title": {
            "standoff": 15
           },
           "zerolinecolor": "white",
           "zerolinewidth": 2
          },
          "yaxis": {
           "automargin": true,
           "gridcolor": "white",
           "linecolor": "white",
           "ticks": "",
           "title": {
            "standoff": 15
           },
           "zerolinecolor": "white",
           "zerolinewidth": 2
          }
         }
        },
        "title": {
         "text": "Localisation des stations et de leur altitude"
        },
        "width": 800
       }
      }
     },
     "metadata": {},
     "output_type": "display_data"
    }
   ],
   "source": [
    "plot_location_height(df_raw_LA, zoom=6)\n",
    "\n",
    "#TODO : variante de l'afficahge plotly en ajoutant le polygone Loire-atlantique"
   ]
  }
 ],
 "metadata": {
  "kernelspec": {
   "display_name": "Python 3.9.16 ('geoData')",
   "language": "python",
   "name": "python3"
  },
  "language_info": {
   "codemirror_mode": {
    "name": "ipython",
    "version": 3
   },
   "file_extension": ".py",
   "mimetype": "text/x-python",
   "name": "python",
   "nbconvert_exporter": "python",
   "pygments_lexer": "ipython3",
   "version": "3.9.16"
  },
  "orig_nbformat": 4,
  "vscode": {
   "interpreter": {
    "hash": "d73e6c4c198c5982497be0742bd8e8ba1b56250fbfe9ed04371e142eed4f8e8c"
   }
  }
 },
 "nbformat": 4,
 "nbformat_minor": 2
}
