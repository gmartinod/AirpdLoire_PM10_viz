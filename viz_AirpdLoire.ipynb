{
 "cells": [
  {
   "cell_type": "markdown",
   "metadata": {},
   "source": [
    "## Visualisation des données Air Pays de la Loire\n",
    "\n",
    "Accèssibles sur leur [site](https://www.airpl.org/), les données mesurées concernent de nombreux polluants atmosphériques à des points précis de mesures des taux de concentration. \n",
    "\n",
    "Pour une première analyse, nous nous interessons aux concentrations en PM10 dans le departement Loire-Atlantique. Notre pas de mesure est d'une heure, et pour limiter le poids des données, nous nous concentrons sur une semaine (du 19/03/2023 au 25/03/2023)\n",
    "\n",
    "D'abord, chargeons les données et observons-les"
   ]
  },
  {
   "cell_type": "code",
   "execution_count": 1,
   "metadata": {},
   "outputs": [],
   "source": [
    "import pandas as pd\n",
    "import matplotlib.pyplot as plt\n",
    "\n",
    "import geopandas as gpd\n",
    "import plotly.express as px\n",
    "from pynsee.geodata import get_geodata_list, get_geodata"
   ]
  },
  {
   "cell_type": "code",
   "execution_count": 2,
   "metadata": {},
   "outputs": [
    {
     "name": "stdout",
     "output_type": "stream",
     "text": [
      "<class 'pandas.core.frame.DataFrame'>\n",
      "RangeIndex: 1848 entries, 0 to 1847\n",
      "Data columns (total 18 columns):\n",
      " #   Column             Non-Null Count  Dtype  \n",
      "---  ------             --------------  -----  \n",
      " 0   nom_dept           1848 non-null   object \n",
      " 1   nom_com            1848 non-null   object \n",
      " 2   insee_com          1848 non-null   int64  \n",
      " 3   nom_station        1848 non-null   object \n",
      " 4   code_station (ue)  1848 non-null   object \n",
      " 5   influence          1848 non-null   object \n",
      " 6   nom_poll           1848 non-null   object \n",
      " 7   id_poll_ue         1848 non-null   int64  \n",
      " 8   valeur             1834 non-null   float64\n",
      " 9   unite              1848 non-null   object \n",
      " 10  metrique           1848 non-null   object \n",
      " 11  date_debut         1848 non-null   object \n",
      " 12  date_fin           1848 non-null   object \n",
      " 13  statut_valid       1848 non-null   bool   \n",
      " 14  x_wgs84            1848 non-null   float64\n",
      " 15  y_wgs84            1848 non-null   float64\n",
      " 16  x_reglementaire    1848 non-null   float64\n",
      " 17  y_reglementaire    1848 non-null   float64\n",
      "dtypes: bool(1), float64(5), int64(2), object(10)\n",
      "memory usage: 247.4+ KB\n"
     ]
    }
   ],
   "source": [
    "raw_df_PM10_hour_week = pd.read_csv(r'./PM10_horaire_semaine.csv', sep=';')\n",
    "raw_df_PM10_hour_week.info()"
   ]
  },
  {
   "cell_type": "markdown",
   "metadata": {},
   "source": [
    "On observe 18 colonnes décrivant nos data : \n",
    "\n",
    "- nom_dept : nom du département où se situe la station de mesure (issu des données de l’IGN).\n",
    "\n",
    "- nom_com : nom de la commune où se situe la station de mesure (issu des données de l’IGN).\n",
    "\n",
    "- insee_com : code INSEE de la commune où se situe la station de mesure (issu des données de l’IGN).\n",
    "\n",
    "- nom_station : nom de la station de mesure déterminé par Air Pays de la Loire.\n",
    "\n",
    "- code_station (ue) : code unique de la station de mesure.\n",
    "\n",
    "- influence : nature de la station de mesure déterminée par sa localisation et son influence selon le type de polluant qu’elle mesure. \n",
    "\n",
    "- nom_poll : nom du polluant mesuré par la station de mesure.\n",
    "\n",
    "- id_poll_ue : identifiant du polluant dans le référentiel européen.\n",
    "\n",
    "- valeur : valeur de la mesure relevée pour un polluant à une station et à une métrique données.\n",
    "\n",
    "- unite : unité de la valeur mesurée du polluant.\n",
    "\n",
    "- metrique : niveau d’agrégation temporelle des données mesurées (horaire, journalière, mensuelle, annuelle).\n",
    "\n",
    "- date_debut : date de début du relevé de mesure en heure temps local (heure sur le territoire métropolitain français).\n",
    "\n",
    "- date_fin : date de fin du relevé de mesure en heure temps local (heure sur le territoire métropolitain français).\n",
    "\n",
    "- statut_valid : validité de la mesure relevée, « t » si la mesure est validée, « f » si la mesure est invalidée.\n",
    "\n",
    "- x_wgs84 : coordonnée x de la localisation de la station de mesure en World Geodetic System 1984 (ESPG : 4326)\n",
    "\n",
    "- y_wgs84 : coordonnée y de la localisation de la station de mesure en World Geodesic System 1984 (ESPG : 4326)\n",
    "\n",
    "- x_reglementaire : coordonnée x de la localisation de la station de mesure en Lambert 93 (EPSG : 2154).\n",
    "\n",
    "- y_reglementaire : coordonnée y de la localisation de la station de mesure en Lambert 93 (EPSG : 2154)."
   ]
  },
  {
   "cell_type": "code",
   "execution_count": 3,
   "metadata": {},
   "outputs": [
    {
     "data": {
      "text/html": [
       "<div>\n",
       "<style scoped>\n",
       "    .dataframe tbody tr th:only-of-type {\n",
       "        vertical-align: middle;\n",
       "    }\n",
       "\n",
       "    .dataframe tbody tr th {\n",
       "        vertical-align: top;\n",
       "    }\n",
       "\n",
       "    .dataframe thead th {\n",
       "        text-align: right;\n",
       "    }\n",
       "</style>\n",
       "<table border=\"1\" class=\"dataframe\">\n",
       "  <thead>\n",
       "    <tr style=\"text-align: right;\">\n",
       "      <th></th>\n",
       "      <th>nom_dept</th>\n",
       "      <th>nom_com</th>\n",
       "      <th>insee_com</th>\n",
       "      <th>nom_station</th>\n",
       "      <th>code_station (ue)</th>\n",
       "      <th>influence</th>\n",
       "      <th>nom_poll</th>\n",
       "      <th>id_poll_ue</th>\n",
       "      <th>valeur</th>\n",
       "      <th>unite</th>\n",
       "      <th>metrique</th>\n",
       "      <th>date_debut</th>\n",
       "      <th>date_fin</th>\n",
       "      <th>statut_valid</th>\n",
       "      <th>x_wgs84</th>\n",
       "      <th>y_wgs84</th>\n",
       "      <th>x_reglementaire</th>\n",
       "      <th>y_reglementaire</th>\n",
       "    </tr>\n",
       "  </thead>\n",
       "  <tbody>\n",
       "    <tr>\n",
       "      <th>0</th>\n",
       "      <td>Loire-Atlantique</td>\n",
       "      <td>Donges</td>\n",
       "      <td>44052</td>\n",
       "      <td>LA MEGRETAIS</td>\n",
       "      <td>FR23003</td>\n",
       "      <td>industrial</td>\n",
       "      <td>PM10</td>\n",
       "      <td>5</td>\n",
       "      <td>6.7</td>\n",
       "      <td>µg/m3</td>\n",
       "      <td>horaire</td>\n",
       "      <td>2023-03-25 22:00:00</td>\n",
       "      <td>2023-03-25 23:00:00</td>\n",
       "      <td>True</td>\n",
       "      <td>-2.039245</td>\n",
       "      <td>47.322705</td>\n",
       "      <td>319631.265310</td>\n",
       "      <td>6.703517e+06</td>\n",
       "    </tr>\n",
       "    <tr>\n",
       "      <th>1</th>\n",
       "      <td>Loire-Atlantique</td>\n",
       "      <td>Frossay</td>\n",
       "      <td>44061</td>\n",
       "      <td>FROSSAY</td>\n",
       "      <td>FR23068</td>\n",
       "      <td>industrial</td>\n",
       "      <td>PM10</td>\n",
       "      <td>5</td>\n",
       "      <td>2.7</td>\n",
       "      <td>µg/m3</td>\n",
       "      <td>horaire</td>\n",
       "      <td>2023-03-25 22:00:00</td>\n",
       "      <td>2023-03-25 23:00:00</td>\n",
       "      <td>True</td>\n",
       "      <td>-1.936524</td>\n",
       "      <td>47.247352</td>\n",
       "      <td>326851.682361</td>\n",
       "      <td>6.694673e+06</td>\n",
       "    </tr>\n",
       "    <tr>\n",
       "      <th>2</th>\n",
       "      <td>Loire-Atlantique</td>\n",
       "      <td>Saint-Etienne-De-Montluc</td>\n",
       "      <td>44158</td>\n",
       "      <td>SAINT ETIENNE DE MONTLUC</td>\n",
       "      <td>FR23070</td>\n",
       "      <td>industrial</td>\n",
       "      <td>PM10</td>\n",
       "      <td>5</td>\n",
       "      <td>11.0</td>\n",
       "      <td>µg/m3</td>\n",
       "      <td>horaire</td>\n",
       "      <td>2023-03-25 22:00:00</td>\n",
       "      <td>2023-03-25 23:00:00</td>\n",
       "      <td>True</td>\n",
       "      <td>-1.783081</td>\n",
       "      <td>47.283127</td>\n",
       "      <td>338676.423909</td>\n",
       "      <td>6.697926e+06</td>\n",
       "    </tr>\n",
       "    <tr>\n",
       "      <th>3</th>\n",
       "      <td>Loire-Atlantique</td>\n",
       "      <td>Nantes</td>\n",
       "      <td>44109</td>\n",
       "      <td>LA CHAUVINIERE</td>\n",
       "      <td>FR23107</td>\n",
       "      <td>background</td>\n",
       "      <td>PM10</td>\n",
       "      <td>5</td>\n",
       "      <td>5.7</td>\n",
       "      <td>µg/m3</td>\n",
       "      <td>horaire</td>\n",
       "      <td>2023-03-25 22:00:00</td>\n",
       "      <td>2023-03-25 23:00:00</td>\n",
       "      <td>True</td>\n",
       "      <td>-1.573275</td>\n",
       "      <td>47.252912</td>\n",
       "      <td>354313.235770</td>\n",
       "      <td>6.693636e+06</td>\n",
       "    </tr>\n",
       "    <tr>\n",
       "      <th>4</th>\n",
       "      <td>Loire-Atlantique</td>\n",
       "      <td>Saint-Nazaire</td>\n",
       "      <td>44184</td>\n",
       "      <td>LEON BLUM</td>\n",
       "      <td>FR23110</td>\n",
       "      <td>background</td>\n",
       "      <td>PM10</td>\n",
       "      <td>5</td>\n",
       "      <td>13.0</td>\n",
       "      <td>µg/m3</td>\n",
       "      <td>horaire</td>\n",
       "      <td>2023-03-25 22:00:00</td>\n",
       "      <td>2023-03-25 23:00:00</td>\n",
       "      <td>True</td>\n",
       "      <td>-2.250154</td>\n",
       "      <td>47.264110</td>\n",
       "      <td>303302.164390</td>\n",
       "      <td>6.698060e+06</td>\n",
       "    </tr>\n",
       "  </tbody>\n",
       "</table>\n",
       "</div>"
      ],
      "text/plain": [
       "           nom_dept                   nom_com  insee_com  \\\n",
       "0  Loire-Atlantique                    Donges      44052   \n",
       "1  Loire-Atlantique                   Frossay      44061   \n",
       "2  Loire-Atlantique  Saint-Etienne-De-Montluc      44158   \n",
       "3  Loire-Atlantique                    Nantes      44109   \n",
       "4  Loire-Atlantique             Saint-Nazaire      44184   \n",
       "\n",
       "                nom_station code_station (ue)   influence nom_poll  \\\n",
       "0              LA MEGRETAIS           FR23003  industrial     PM10   \n",
       "1                   FROSSAY           FR23068  industrial     PM10   \n",
       "2  SAINT ETIENNE DE MONTLUC           FR23070  industrial     PM10   \n",
       "3            LA CHAUVINIERE           FR23107  background     PM10   \n",
       "4                 LEON BLUM           FR23110  background     PM10   \n",
       "\n",
       "   id_poll_ue  valeur  unite metrique           date_debut  \\\n",
       "0           5     6.7  µg/m3  horaire  2023-03-25 22:00:00   \n",
       "1           5     2.7  µg/m3  horaire  2023-03-25 22:00:00   \n",
       "2           5    11.0  µg/m3  horaire  2023-03-25 22:00:00   \n",
       "3           5     5.7  µg/m3  horaire  2023-03-25 22:00:00   \n",
       "4           5    13.0  µg/m3  horaire  2023-03-25 22:00:00   \n",
       "\n",
       "              date_fin  statut_valid   x_wgs84    y_wgs84  x_reglementaire  \\\n",
       "0  2023-03-25 23:00:00          True -2.039245  47.322705    319631.265310   \n",
       "1  2023-03-25 23:00:00          True -1.936524  47.247352    326851.682361   \n",
       "2  2023-03-25 23:00:00          True -1.783081  47.283127    338676.423909   \n",
       "3  2023-03-25 23:00:00          True -1.573275  47.252912    354313.235770   \n",
       "4  2023-03-25 23:00:00          True -2.250154  47.264110    303302.164390   \n",
       "\n",
       "   y_reglementaire  \n",
       "0     6.703517e+06  \n",
       "1     6.694673e+06  \n",
       "2     6.697926e+06  \n",
       "3     6.693636e+06  \n",
       "4     6.698060e+06  "
      ]
     },
     "execution_count": 3,
     "metadata": {},
     "output_type": "execute_result"
    }
   ],
   "source": [
    "raw_df_PM10_hour_week.head()"
   ]
  },
  {
   "cell_type": "markdown",
   "metadata": {},
   "source": [
    "# Preprocessing : \n",
    "On veut épurer le dataframe des colonnes qui ne nous interessent pas, et renommer certaines pour plus de facilité dans la manipulation"
   ]
  },
  {
   "cell_type": "code",
   "execution_count": 4,
   "metadata": {},
   "outputs": [
    {
     "data": {
      "text/html": [
       "<div>\n",
       "<style scoped>\n",
       "    .dataframe tbody tr th:only-of-type {\n",
       "        vertical-align: middle;\n",
       "    }\n",
       "\n",
       "    .dataframe tbody tr th {\n",
       "        vertical-align: top;\n",
       "    }\n",
       "\n",
       "    .dataframe thead th {\n",
       "        text-align: right;\n",
       "    }\n",
       "</style>\n",
       "<table border=\"1\" class=\"dataframe\">\n",
       "  <thead>\n",
       "    <tr style=\"text-align: right;\">\n",
       "      <th></th>\n",
       "      <th>nom_station</th>\n",
       "      <th>code_station</th>\n",
       "      <th>valeur</th>\n",
       "      <th>heure_mesure</th>\n",
       "      <th>statut_valid</th>\n",
       "      <th>lon</th>\n",
       "      <th>lat</th>\n",
       "    </tr>\n",
       "  </thead>\n",
       "  <tbody>\n",
       "    <tr>\n",
       "      <th>0</th>\n",
       "      <td>LA MEGRETAIS</td>\n",
       "      <td>FR23003</td>\n",
       "      <td>6.7</td>\n",
       "      <td>2023-03-25 23:00:00</td>\n",
       "      <td>True</td>\n",
       "      <td>-2.039245</td>\n",
       "      <td>47.322705</td>\n",
       "    </tr>\n",
       "    <tr>\n",
       "      <th>1</th>\n",
       "      <td>FROSSAY</td>\n",
       "      <td>FR23068</td>\n",
       "      <td>2.7</td>\n",
       "      <td>2023-03-25 23:00:00</td>\n",
       "      <td>True</td>\n",
       "      <td>-1.936524</td>\n",
       "      <td>47.247352</td>\n",
       "    </tr>\n",
       "    <tr>\n",
       "      <th>2</th>\n",
       "      <td>SAINT ETIENNE DE MONTLUC</td>\n",
       "      <td>FR23070</td>\n",
       "      <td>11.0</td>\n",
       "      <td>2023-03-25 23:00:00</td>\n",
       "      <td>True</td>\n",
       "      <td>-1.783081</td>\n",
       "      <td>47.283127</td>\n",
       "    </tr>\n",
       "    <tr>\n",
       "      <th>3</th>\n",
       "      <td>LA CHAUVINIERE</td>\n",
       "      <td>FR23107</td>\n",
       "      <td>5.7</td>\n",
       "      <td>2023-03-25 23:00:00</td>\n",
       "      <td>True</td>\n",
       "      <td>-1.573275</td>\n",
       "      <td>47.252912</td>\n",
       "    </tr>\n",
       "    <tr>\n",
       "      <th>4</th>\n",
       "      <td>LEON BLUM</td>\n",
       "      <td>FR23110</td>\n",
       "      <td>13.0</td>\n",
       "      <td>2023-03-25 23:00:00</td>\n",
       "      <td>True</td>\n",
       "      <td>-2.250154</td>\n",
       "      <td>47.264110</td>\n",
       "    </tr>\n",
       "  </tbody>\n",
       "</table>\n",
       "</div>"
      ],
      "text/plain": [
       "                nom_station code_station  valeur        heure_mesure  \\\n",
       "0              LA MEGRETAIS      FR23003     6.7 2023-03-25 23:00:00   \n",
       "1                   FROSSAY      FR23068     2.7 2023-03-25 23:00:00   \n",
       "2  SAINT ETIENNE DE MONTLUC      FR23070    11.0 2023-03-25 23:00:00   \n",
       "3            LA CHAUVINIERE      FR23107     5.7 2023-03-25 23:00:00   \n",
       "4                 LEON BLUM      FR23110    13.0 2023-03-25 23:00:00   \n",
       "\n",
       "   statut_valid       lon        lat  \n",
       "0          True -2.039245  47.322705  \n",
       "1          True -1.936524  47.247352  \n",
       "2          True -1.783081  47.283127  \n",
       "3          True -1.573275  47.252912  \n",
       "4          True -2.250154  47.264110  "
      ]
     },
     "execution_count": 4,
     "metadata": {},
     "output_type": "execute_result"
    }
   ],
   "source": [
    "col_of_interess = ['nom_station', 'code_station (ue)', 'valeur', 'date_fin', 'statut_valid', 'x_wgs84', 'y_wgs84']\n",
    "df_PM10_hour_week = raw_df_PM10_hour_week[col_of_interess]\n",
    "df_PM10_hour_week = df_PM10_hour_week.rename(columns={'code_station (ue)': 'code_station', 'date_fin': 'heure_mesure', 'x_wgs84': 'lon', 'y_wgs84': 'lat'})\n",
    "df_PM10_hour_week['heure_mesure'] = pd.to_datetime(df_PM10_hour_week['heure_mesure'])\n",
    "df_PM10_hour_week.head()"
   ]
  },
  {
   "cell_type": "code",
   "execution_count": 5,
   "metadata": {},
   "outputs": [
    {
     "name": "stdout",
     "output_type": "stream",
     "text": [
      "statut_valid\n",
      "True     1834\n",
      "False      14\n",
      "Name: count, dtype: int64\n"
     ]
    }
   ],
   "source": [
    "# y a t-il des lignes invalides ? \n",
    "invalid = df_PM10_hour_week['statut_valid'].value_counts()\n",
    "print(invalid)\n",
    "\n",
    "# TODO : les filtrer"
   ]
  },
  {
   "cell_type": "markdown",
   "metadata": {},
   "source": [
    "# Visualisation simple de chaque station sur la journée du 25/03/2023\n",
    "\n",
    "Pour se familiariser avec les données récupérées, nous allons tracer l'évolution heure par heure des concentrations en PM10 sur la journée du 25/03/2023 des 11 stations relevées."
   ]
  },
  {
   "cell_type": "code",
   "execution_count": 6,
   "metadata": {},
   "outputs": [
    {
     "data": {
      "application/vnd.plotly.v1+json": {
       "config": {
        "plotlyServerURL": "https://plot.ly"
       },
       "data": [
        {
         "hovertemplate": "nom_station=LA MEGRETAIS<br>heure_mesure=%{x}<br>valeur=%{y}<extra></extra>",
         "legendgroup": "LA MEGRETAIS",
         "line": {
          "color": "#636efa",
          "dash": "solid"
         },
         "marker": {
          "symbol": "circle"
         },
         "mode": "lines",
         "name": "LA MEGRETAIS",
         "orientation": "v",
         "showlegend": true,
         "type": "scatter",
         "x": [
          "2023-03-25T23:00:00",
          "2023-03-25T22:00:00",
          "2023-03-25T21:00:00",
          "2023-03-25T20:00:00",
          "2023-03-25T19:00:00",
          "2023-03-25T18:00:00",
          "2023-03-25T17:00:00",
          "2023-03-25T16:00:00",
          "2023-03-25T15:00:00",
          "2023-03-25T14:00:00",
          "2023-03-25T13:00:00",
          "2023-03-25T12:00:00",
          "2023-03-25T11:00:00",
          "2023-03-25T10:00:00",
          "2023-03-25T09:00:00",
          "2023-03-25T08:00:00",
          "2023-03-25T07:00:00",
          "2023-03-25T06:00:00",
          "2023-03-25T05:00:00",
          "2023-03-25T04:00:00",
          "2023-03-25T03:00:00",
          "2023-03-25T02:00:00",
          "2023-03-25T01:00:00",
          "2023-03-25T00:00:00"
         ],
         "xaxis": "x",
         "y": [
          6.7,
          4.3,
          7.1,
          7.4,
          11,
          16,
          17,
          19,
          20,
          22,
          30,
          34,
          26,
          27,
          26,
          28,
          23,
          19,
          20,
          19,
          18,
          14,
          15,
          21
         ],
         "yaxis": "y"
        },
        {
         "hovertemplate": "nom_station=FROSSAY<br>heure_mesure=%{x}<br>valeur=%{y}<extra></extra>",
         "legendgroup": "FROSSAY",
         "line": {
          "color": "#EF553B",
          "dash": "solid"
         },
         "marker": {
          "symbol": "circle"
         },
         "mode": "lines",
         "name": "FROSSAY",
         "orientation": "v",
         "showlegend": true,
         "type": "scatter",
         "x": [
          "2023-03-25T23:00:00",
          "2023-03-25T22:00:00",
          "2023-03-25T21:00:00",
          "2023-03-25T20:00:00",
          "2023-03-25T19:00:00",
          "2023-03-25T18:00:00",
          "2023-03-25T17:00:00",
          "2023-03-25T16:00:00",
          "2023-03-25T15:00:00",
          "2023-03-25T14:00:00",
          "2023-03-25T13:00:00",
          "2023-03-25T12:00:00",
          "2023-03-25T11:00:00",
          "2023-03-25T10:00:00",
          "2023-03-25T09:00:00",
          "2023-03-25T08:00:00",
          "2023-03-25T07:00:00",
          "2023-03-25T06:00:00",
          "2023-03-25T05:00:00",
          "2023-03-25T04:00:00",
          "2023-03-25T03:00:00",
          "2023-03-25T02:00:00",
          "2023-03-25T01:00:00",
          "2023-03-25T00:00:00"
         ],
         "xaxis": "x",
         "y": [
          2.7,
          1.9,
          4.3,
          6,
          14,
          16,
          27,
          25,
          26,
          26,
          26,
          27,
          25,
          25,
          23,
          21,
          14,
          19,
          18,
          17,
          15,
          11,
          16,
          21
         ],
         "yaxis": "y"
        },
        {
         "hovertemplate": "nom_station=SAINT ETIENNE DE MONTLUC<br>heure_mesure=%{x}<br>valeur=%{y}<extra></extra>",
         "legendgroup": "SAINT ETIENNE DE MONTLUC",
         "line": {
          "color": "#00cc96",
          "dash": "solid"
         },
         "marker": {
          "symbol": "circle"
         },
         "mode": "lines",
         "name": "SAINT ETIENNE DE MONTLUC",
         "orientation": "v",
         "showlegend": true,
         "type": "scatter",
         "x": [
          "2023-03-25T23:00:00",
          "2023-03-25T22:00:00",
          "2023-03-25T21:00:00",
          "2023-03-25T20:00:00",
          "2023-03-25T19:00:00",
          "2023-03-25T18:00:00",
          "2023-03-25T17:00:00",
          "2023-03-25T16:00:00",
          "2023-03-25T15:00:00",
          "2023-03-25T14:00:00",
          "2023-03-25T13:00:00",
          "2023-03-25T12:00:00",
          "2023-03-25T11:00:00",
          "2023-03-25T10:00:00",
          "2023-03-25T09:00:00",
          "2023-03-25T08:00:00",
          "2023-03-25T07:00:00",
          "2023-03-25T06:00:00",
          "2023-03-25T05:00:00",
          "2023-03-25T04:00:00",
          "2023-03-25T03:00:00",
          "2023-03-25T02:00:00",
          "2023-03-25T01:00:00",
          "2023-03-25T00:00:00"
         ],
         "xaxis": "x",
         "y": [
          11,
          4.7,
          5.7,
          9.4,
          35,
          20,
          21,
          19,
          19,
          21,
          21,
          21,
          22,
          22,
          22,
          19,
          15,
          21,
          20,
          18,
          15,
          11,
          8.7,
          19
         ],
         "yaxis": "y"
        },
        {
         "hovertemplate": "nom_station=LA CHAUVINIERE<br>heure_mesure=%{x}<br>valeur=%{y}<extra></extra>",
         "legendgroup": "LA CHAUVINIERE",
         "line": {
          "color": "#ab63fa",
          "dash": "solid"
         },
         "marker": {
          "symbol": "circle"
         },
         "mode": "lines",
         "name": "LA CHAUVINIERE",
         "orientation": "v",
         "showlegend": true,
         "type": "scatter",
         "x": [
          "2023-03-25T23:00:00",
          "2023-03-25T22:00:00",
          "2023-03-25T21:00:00",
          "2023-03-25T20:00:00",
          "2023-03-25T19:00:00",
          "2023-03-25T18:00:00",
          "2023-03-25T17:00:00",
          "2023-03-25T16:00:00",
          "2023-03-25T15:00:00",
          "2023-03-25T14:00:00",
          "2023-03-25T13:00:00",
          "2023-03-25T12:00:00",
          "2023-03-25T11:00:00",
          "2023-03-25T10:00:00",
          "2023-03-25T09:00:00",
          "2023-03-25T08:00:00",
          "2023-03-25T07:00:00",
          "2023-03-25T06:00:00",
          "2023-03-25T05:00:00",
          "2023-03-25T04:00:00",
          "2023-03-25T03:00:00",
          "2023-03-25T02:00:00",
          "2023-03-25T01:00:00",
          "2023-03-25T00:00:00"
         ],
         "xaxis": "x",
         "y": [
          5.7,
          5.3,
          7.2,
          7.7,
          14,
          14,
          16,
          15,
          16,
          19,
          20,
          20,
          21,
          23,
          21,
          19,
          15,
          21,
          18,
          18,
          14,
          7.2,
          9.3,
          18
         ],
         "yaxis": "y"
        },
        {
         "hovertemplate": "nom_station=LEON BLUM<br>heure_mesure=%{x}<br>valeur=%{y}<extra></extra>",
         "legendgroup": "LEON BLUM",
         "line": {
          "color": "#FFA15A",
          "dash": "solid"
         },
         "marker": {
          "symbol": "circle"
         },
         "mode": "lines",
         "name": "LEON BLUM",
         "orientation": "v",
         "showlegend": true,
         "type": "scatter",
         "x": [
          "2023-03-25T23:00:00",
          "2023-03-25T22:00:00",
          "2023-03-25T21:00:00",
          "2023-03-25T20:00:00",
          "2023-03-25T19:00:00",
          "2023-03-25T18:00:00",
          "2023-03-25T17:00:00",
          "2023-03-25T16:00:00",
          "2023-03-25T15:00:00",
          "2023-03-25T14:00:00",
          "2023-03-25T13:00:00",
          "2023-03-25T12:00:00",
          "2023-03-25T11:00:00",
          "2023-03-25T10:00:00",
          "2023-03-25T09:00:00",
          "2023-03-25T08:00:00",
          "2023-03-25T07:00:00",
          "2023-03-25T06:00:00",
          "2023-03-25T05:00:00",
          "2023-03-25T04:00:00",
          "2023-03-25T03:00:00",
          "2023-03-25T02:00:00",
          "2023-03-25T01:00:00",
          "2023-03-25T00:00:00"
         ],
         "xaxis": "x",
         "y": [
          13,
          10,
          11,
          13,
          21,
          28,
          27,
          30,
          27,
          28,
          36,
          34,
          35,
          33,
          31,
          27,
          24,
          24,
          22,
          22,
          21,
          16,
          18,
          27
         ],
         "yaxis": "y"
        },
        {
         "hovertemplate": "nom_station=PARSCAU DU PLESSIS<br>heure_mesure=%{x}<br>valeur=%{y}<extra></extra>",
         "legendgroup": "PARSCAU DU PLESSIS",
         "line": {
          "color": "#19d3f3",
          "dash": "solid"
         },
         "marker": {
          "symbol": "circle"
         },
         "mode": "lines",
         "name": "PARSCAU DU PLESSIS",
         "orientation": "v",
         "showlegend": true,
         "type": "scatter",
         "x": [
          "2023-03-25T23:00:00",
          "2023-03-25T22:00:00",
          "2023-03-25T21:00:00",
          "2023-03-25T20:00:00",
          "2023-03-25T19:00:00",
          "2023-03-25T18:00:00",
          "2023-03-25T17:00:00",
          "2023-03-25T16:00:00",
          "2023-03-25T15:00:00",
          "2023-03-25T14:00:00",
          "2023-03-25T13:00:00",
          "2023-03-25T12:00:00",
          "2023-03-25T11:00:00",
          "2023-03-25T10:00:00",
          "2023-03-25T09:00:00",
          "2023-03-25T08:00:00",
          "2023-03-25T07:00:00",
          "2023-03-25T06:00:00",
          "2023-03-25T05:00:00",
          "2023-03-25T04:00:00",
          "2023-03-25T03:00:00",
          "2023-03-25T02:00:00",
          "2023-03-25T01:00:00",
          "2023-03-25T00:00:00"
         ],
         "xaxis": "x",
         "y": [
          7.1,
          4.6,
          7.3,
          9.2,
          12,
          18,
          20,
          22,
          23,
          25,
          27,
          27,
          27,
          27,
          29,
          30,
          26,
          21,
          24,
          22,
          19,
          15,
          16,
          19
         ],
         "yaxis": "y"
        },
        {
         "hovertemplate": "nom_station=CIM BOUTEILLERIE<br>heure_mesure=%{x}<br>valeur=%{y}<extra></extra>",
         "legendgroup": "CIM BOUTEILLERIE",
         "line": {
          "color": "#FF6692",
          "dash": "solid"
         },
         "marker": {
          "symbol": "circle"
         },
         "mode": "lines",
         "name": "CIM BOUTEILLERIE",
         "orientation": "v",
         "showlegend": true,
         "type": "scatter",
         "x": [
          "2023-03-25T23:00:00",
          "2023-03-25T22:00:00",
          "2023-03-25T21:00:00",
          "2023-03-25T20:00:00",
          "2023-03-25T19:00:00",
          "2023-03-25T18:00:00",
          "2023-03-25T17:00:00",
          "2023-03-25T16:00:00",
          "2023-03-25T15:00:00",
          "2023-03-25T14:00:00",
          "2023-03-25T13:00:00",
          "2023-03-25T12:00:00",
          "2023-03-25T11:00:00",
          "2023-03-25T10:00:00",
          "2023-03-25T09:00:00",
          "2023-03-25T08:00:00",
          "2023-03-25T07:00:00",
          "2023-03-25T06:00:00",
          "2023-03-25T05:00:00",
          "2023-03-25T04:00:00",
          "2023-03-25T03:00:00",
          "2023-03-25T02:00:00",
          "2023-03-25T01:00:00",
          "2023-03-25T00:00:00"
         ],
         "xaxis": "x",
         "y": [
          5,
          4.9,
          5.2,
          7.1,
          14,
          18,
          19,
          18,
          20,
          22,
          24,
          24,
          25,
          26,
          25,
          20,
          16,
          24,
          23,
          21,
          14,
          9.4,
          10,
          20
         ],
         "yaxis": "y"
        },
        {
         "hovertemplate": "nom_station=TRENTEMOULT<br>heure_mesure=%{x}<br>valeur=%{y}<extra></extra>",
         "legendgroup": "TRENTEMOULT",
         "line": {
          "color": "#B6E880",
          "dash": "solid"
         },
         "marker": {
          "symbol": "circle"
         },
         "mode": "lines",
         "name": "TRENTEMOULT",
         "orientation": "v",
         "showlegend": true,
         "type": "scatter",
         "x": [
          "2023-03-25T23:00:00",
          "2023-03-25T22:00:00",
          "2023-03-25T21:00:00",
          "2023-03-25T20:00:00",
          "2023-03-25T19:00:00",
          "2023-03-25T18:00:00",
          "2023-03-25T17:00:00",
          "2023-03-25T16:00:00",
          "2023-03-25T15:00:00",
          "2023-03-25T14:00:00",
          "2023-03-25T13:00:00",
          "2023-03-25T12:00:00",
          "2023-03-25T11:00:00",
          "2023-03-25T10:00:00",
          "2023-03-25T09:00:00",
          "2023-03-25T08:00:00",
          "2023-03-25T07:00:00",
          "2023-03-25T06:00:00",
          "2023-03-25T05:00:00",
          "2023-03-25T04:00:00",
          "2023-03-25T03:00:00",
          "2023-03-25T02:00:00",
          "2023-03-25T01:00:00",
          "2023-03-25T00:00:00"
         ],
         "xaxis": "x",
         "y": [
          8.1,
          7.9,
          8.2,
          9.9,
          20,
          24,
          26,
          26,
          27,
          27,
          30,
          29,
          29,
          27,
          24,
          17,
          21,
          23,
          21,
          17,
          12,
          11,
          21,
          19
         ],
         "yaxis": "y"
        },
        {
         "hovertemplate": "nom_station=LES COUETS<br>heure_mesure=%{x}<br>valeur=%{y}<extra></extra>",
         "legendgroup": "LES COUETS",
         "line": {
          "color": "#FF97FF",
          "dash": "solid"
         },
         "marker": {
          "symbol": "circle"
         },
         "mode": "lines",
         "name": "LES COUETS",
         "orientation": "v",
         "showlegend": true,
         "type": "scatter",
         "x": [
          "2023-03-25T23:00:00",
          "2023-03-25T22:00:00",
          "2023-03-25T21:00:00",
          "2023-03-25T20:00:00",
          "2023-03-25T19:00:00",
          "2023-03-25T18:00:00",
          "2023-03-25T17:00:00",
          "2023-03-25T16:00:00",
          "2023-03-25T15:00:00",
          "2023-03-25T14:00:00",
          "2023-03-25T13:00:00",
          "2023-03-25T12:00:00",
          "2023-03-25T11:00:00",
          "2023-03-25T10:00:00",
          "2023-03-25T09:00:00",
          "2023-03-25T08:00:00",
          "2023-03-25T07:00:00",
          "2023-03-25T06:00:00",
          "2023-03-25T05:00:00",
          "2023-03-25T04:00:00",
          "2023-03-25T03:00:00",
          "2023-03-25T02:00:00",
          "2023-03-25T01:00:00",
          "2023-03-25T00:00:00"
         ],
         "xaxis": "x",
         "y": [
          6.8,
          5.8,
          2.2,
          7.8,
          14,
          19,
          22,
          23,
          26,
          29,
          28,
          29,
          29,
          29,
          23,
          18,
          21,
          21,
          20,
          17,
          10,
          8.4,
          17,
          17
         ],
         "yaxis": "y"
        },
        {
         "hovertemplate": "nom_station=CAMEE<br>heure_mesure=%{x}<br>valeur=%{y}<extra></extra>",
         "legendgroup": "CAMEE",
         "line": {
          "color": "#FECB52",
          "dash": "solid"
         },
         "marker": {
          "symbol": "circle"
         },
         "mode": "lines",
         "name": "CAMEE",
         "orientation": "v",
         "showlegend": true,
         "type": "scatter",
         "x": [
          "2023-03-25T23:00:00",
          "2023-03-25T22:00:00",
          "2023-03-25T21:00:00",
          "2023-03-25T20:00:00",
          "2023-03-25T19:00:00",
          "2023-03-25T18:00:00",
          "2023-03-25T17:00:00",
          "2023-03-25T16:00:00",
          "2023-03-25T15:00:00",
          "2023-03-25T14:00:00",
          "2023-03-25T13:00:00",
          "2023-03-25T12:00:00",
          "2023-03-25T11:00:00",
          "2023-03-25T10:00:00",
          "2023-03-25T09:00:00",
          "2023-03-25T08:00:00",
          "2023-03-25T07:00:00",
          "2023-03-25T06:00:00",
          "2023-03-25T05:00:00",
          "2023-03-25T04:00:00",
          "2023-03-25T03:00:00",
          "2023-03-25T02:00:00",
          "2023-03-25T01:00:00",
          "2023-03-25T00:00:00"
         ],
         "xaxis": "x",
         "y": [
          8.3,
          4,
          5.6,
          9.4,
          12,
          18,
          20,
          22,
          22,
          23,
          24,
          23,
          25,
          24,
          24,
          26,
          24,
          20,
          22,
          20,
          19,
          15,
          15,
          18
         ],
         "yaxis": "y"
        },
        {
         "hovertemplate": "nom_station=FRERES GONCOURT<br>heure_mesure=%{x}<br>valeur=%{y}<extra></extra>",
         "legendgroup": "FRERES GONCOURT",
         "line": {
          "color": "#636efa",
          "dash": "solid"
         },
         "marker": {
          "symbol": "circle"
         },
         "mode": "lines",
         "name": "FRERES GONCOURT",
         "orientation": "v",
         "showlegend": true,
         "type": "scatter",
         "x": [
          "2023-03-25T23:00:00",
          "2023-03-25T22:00:00",
          "2023-03-25T21:00:00",
          "2023-03-25T20:00:00",
          "2023-03-25T19:00:00",
          "2023-03-25T18:00:00",
          "2023-03-25T17:00:00",
          "2023-03-25T16:00:00",
          "2023-03-25T15:00:00",
          "2023-03-25T14:00:00",
          "2023-03-25T13:00:00",
          "2023-03-25T12:00:00",
          "2023-03-25T11:00:00",
          "2023-03-25T10:00:00",
          "2023-03-25T09:00:00",
          "2023-03-25T08:00:00",
          "2023-03-25T07:00:00",
          "2023-03-25T06:00:00",
          "2023-03-25T05:00:00",
          "2023-03-25T04:00:00",
          "2023-03-25T03:00:00",
          "2023-03-25T02:00:00",
          "2023-03-25T01:00:00",
          "2023-03-25T00:00:00"
         ],
         "xaxis": "x",
         "y": [
          5.9,
          5.9,
          9.8,
          9.8,
          24,
          27,
          25,
          26,
          34,
          29,
          30,
          27,
          27,
          26,
          25,
          18,
          18,
          21,
          18,
          15,
          9.1,
          3.9,
          15,
          16
         ],
         "yaxis": "y"
        }
       ],
       "layout": {
        "legend": {
         "title": {
          "text": "nom_station"
         },
         "tracegroupgap": 0
        },
        "template": {
         "data": {
          "bar": [
           {
            "error_x": {
             "color": "#2a3f5f"
            },
            "error_y": {
             "color": "#2a3f5f"
            },
            "marker": {
             "line": {
              "color": "#E5ECF6",
              "width": 0.5
             },
             "pattern": {
              "fillmode": "overlay",
              "size": 10,
              "solidity": 0.2
             }
            },
            "type": "bar"
           }
          ],
          "barpolar": [
           {
            "marker": {
             "line": {
              "color": "#E5ECF6",
              "width": 0.5
             },
             "pattern": {
              "fillmode": "overlay",
              "size": 10,
              "solidity": 0.2
             }
            },
            "type": "barpolar"
           }
          ],
          "carpet": [
           {
            "aaxis": {
             "endlinecolor": "#2a3f5f",
             "gridcolor": "white",
             "linecolor": "white",
             "minorgridcolor": "white",
             "startlinecolor": "#2a3f5f"
            },
            "baxis": {
             "endlinecolor": "#2a3f5f",
             "gridcolor": "white",
             "linecolor": "white",
             "minorgridcolor": "white",
             "startlinecolor": "#2a3f5f"
            },
            "type": "carpet"
           }
          ],
          "choropleth": [
           {
            "colorbar": {
             "outlinewidth": 0,
             "ticks": ""
            },
            "type": "choropleth"
           }
          ],
          "contour": [
           {
            "colorbar": {
             "outlinewidth": 0,
             "ticks": ""
            },
            "colorscale": [
             [
              0,
              "#0d0887"
             ],
             [
              0.1111111111111111,
              "#46039f"
             ],
             [
              0.2222222222222222,
              "#7201a8"
             ],
             [
              0.3333333333333333,
              "#9c179e"
             ],
             [
              0.4444444444444444,
              "#bd3786"
             ],
             [
              0.5555555555555556,
              "#d8576b"
             ],
             [
              0.6666666666666666,
              "#ed7953"
             ],
             [
              0.7777777777777778,
              "#fb9f3a"
             ],
             [
              0.8888888888888888,
              "#fdca26"
             ],
             [
              1,
              "#f0f921"
             ]
            ],
            "type": "contour"
           }
          ],
          "contourcarpet": [
           {
            "colorbar": {
             "outlinewidth": 0,
             "ticks": ""
            },
            "type": "contourcarpet"
           }
          ],
          "heatmap": [
           {
            "colorbar": {
             "outlinewidth": 0,
             "ticks": ""
            },
            "colorscale": [
             [
              0,
              "#0d0887"
             ],
             [
              0.1111111111111111,
              "#46039f"
             ],
             [
              0.2222222222222222,
              "#7201a8"
             ],
             [
              0.3333333333333333,
              "#9c179e"
             ],
             [
              0.4444444444444444,
              "#bd3786"
             ],
             [
              0.5555555555555556,
              "#d8576b"
             ],
             [
              0.6666666666666666,
              "#ed7953"
             ],
             [
              0.7777777777777778,
              "#fb9f3a"
             ],
             [
              0.8888888888888888,
              "#fdca26"
             ],
             [
              1,
              "#f0f921"
             ]
            ],
            "type": "heatmap"
           }
          ],
          "heatmapgl": [
           {
            "colorbar": {
             "outlinewidth": 0,
             "ticks": ""
            },
            "colorscale": [
             [
              0,
              "#0d0887"
             ],
             [
              0.1111111111111111,
              "#46039f"
             ],
             [
              0.2222222222222222,
              "#7201a8"
             ],
             [
              0.3333333333333333,
              "#9c179e"
             ],
             [
              0.4444444444444444,
              "#bd3786"
             ],
             [
              0.5555555555555556,
              "#d8576b"
             ],
             [
              0.6666666666666666,
              "#ed7953"
             ],
             [
              0.7777777777777778,
              "#fb9f3a"
             ],
             [
              0.8888888888888888,
              "#fdca26"
             ],
             [
              1,
              "#f0f921"
             ]
            ],
            "type": "heatmapgl"
           }
          ],
          "histogram": [
           {
            "marker": {
             "pattern": {
              "fillmode": "overlay",
              "size": 10,
              "solidity": 0.2
             }
            },
            "type": "histogram"
           }
          ],
          "histogram2d": [
           {
            "colorbar": {
             "outlinewidth": 0,
             "ticks": ""
            },
            "colorscale": [
             [
              0,
              "#0d0887"
             ],
             [
              0.1111111111111111,
              "#46039f"
             ],
             [
              0.2222222222222222,
              "#7201a8"
             ],
             [
              0.3333333333333333,
              "#9c179e"
             ],
             [
              0.4444444444444444,
              "#bd3786"
             ],
             [
              0.5555555555555556,
              "#d8576b"
             ],
             [
              0.6666666666666666,
              "#ed7953"
             ],
             [
              0.7777777777777778,
              "#fb9f3a"
             ],
             [
              0.8888888888888888,
              "#fdca26"
             ],
             [
              1,
              "#f0f921"
             ]
            ],
            "type": "histogram2d"
           }
          ],
          "histogram2dcontour": [
           {
            "colorbar": {
             "outlinewidth": 0,
             "ticks": ""
            },
            "colorscale": [
             [
              0,
              "#0d0887"
             ],
             [
              0.1111111111111111,
              "#46039f"
             ],
             [
              0.2222222222222222,
              "#7201a8"
             ],
             [
              0.3333333333333333,
              "#9c179e"
             ],
             [
              0.4444444444444444,
              "#bd3786"
             ],
             [
              0.5555555555555556,
              "#d8576b"
             ],
             [
              0.6666666666666666,
              "#ed7953"
             ],
             [
              0.7777777777777778,
              "#fb9f3a"
             ],
             [
              0.8888888888888888,
              "#fdca26"
             ],
             [
              1,
              "#f0f921"
             ]
            ],
            "type": "histogram2dcontour"
           }
          ],
          "mesh3d": [
           {
            "colorbar": {
             "outlinewidth": 0,
             "ticks": ""
            },
            "type": "mesh3d"
           }
          ],
          "parcoords": [
           {
            "line": {
             "colorbar": {
              "outlinewidth": 0,
              "ticks": ""
             }
            },
            "type": "parcoords"
           }
          ],
          "pie": [
           {
            "automargin": true,
            "type": "pie"
           }
          ],
          "scatter": [
           {
            "fillpattern": {
             "fillmode": "overlay",
             "size": 10,
             "solidity": 0.2
            },
            "type": "scatter"
           }
          ],
          "scatter3d": [
           {
            "line": {
             "colorbar": {
              "outlinewidth": 0,
              "ticks": ""
             }
            },
            "marker": {
             "colorbar": {
              "outlinewidth": 0,
              "ticks": ""
             }
            },
            "type": "scatter3d"
           }
          ],
          "scattercarpet": [
           {
            "marker": {
             "colorbar": {
              "outlinewidth": 0,
              "ticks": ""
             }
            },
            "type": "scattercarpet"
           }
          ],
          "scattergeo": [
           {
            "marker": {
             "colorbar": {
              "outlinewidth": 0,
              "ticks": ""
             }
            },
            "type": "scattergeo"
           }
          ],
          "scattergl": [
           {
            "marker": {
             "colorbar": {
              "outlinewidth": 0,
              "ticks": ""
             }
            },
            "type": "scattergl"
           }
          ],
          "scattermapbox": [
           {
            "marker": {
             "colorbar": {
              "outlinewidth": 0,
              "ticks": ""
             }
            },
            "type": "scattermapbox"
           }
          ],
          "scatterpolar": [
           {
            "marker": {
             "colorbar": {
              "outlinewidth": 0,
              "ticks": ""
             }
            },
            "type": "scatterpolar"
           }
          ],
          "scatterpolargl": [
           {
            "marker": {
             "colorbar": {
              "outlinewidth": 0,
              "ticks": ""
             }
            },
            "type": "scatterpolargl"
           }
          ],
          "scatterternary": [
           {
            "marker": {
             "colorbar": {
              "outlinewidth": 0,
              "ticks": ""
             }
            },
            "type": "scatterternary"
           }
          ],
          "surface": [
           {
            "colorbar": {
             "outlinewidth": 0,
             "ticks": ""
            },
            "colorscale": [
             [
              0,
              "#0d0887"
             ],
             [
              0.1111111111111111,
              "#46039f"
             ],
             [
              0.2222222222222222,
              "#7201a8"
             ],
             [
              0.3333333333333333,
              "#9c179e"
             ],
             [
              0.4444444444444444,
              "#bd3786"
             ],
             [
              0.5555555555555556,
              "#d8576b"
             ],
             [
              0.6666666666666666,
              "#ed7953"
             ],
             [
              0.7777777777777778,
              "#fb9f3a"
             ],
             [
              0.8888888888888888,
              "#fdca26"
             ],
             [
              1,
              "#f0f921"
             ]
            ],
            "type": "surface"
           }
          ],
          "table": [
           {
            "cells": {
             "fill": {
              "color": "#EBF0F8"
             },
             "line": {
              "color": "white"
             }
            },
            "header": {
             "fill": {
              "color": "#C8D4E3"
             },
             "line": {
              "color": "white"
             }
            },
            "type": "table"
           }
          ]
         },
         "layout": {
          "annotationdefaults": {
           "arrowcolor": "#2a3f5f",
           "arrowhead": 0,
           "arrowwidth": 1
          },
          "autotypenumbers": "strict",
          "coloraxis": {
           "colorbar": {
            "outlinewidth": 0,
            "ticks": ""
           }
          },
          "colorscale": {
           "diverging": [
            [
             0,
             "#8e0152"
            ],
            [
             0.1,
             "#c51b7d"
            ],
            [
             0.2,
             "#de77ae"
            ],
            [
             0.3,
             "#f1b6da"
            ],
            [
             0.4,
             "#fde0ef"
            ],
            [
             0.5,
             "#f7f7f7"
            ],
            [
             0.6,
             "#e6f5d0"
            ],
            [
             0.7,
             "#b8e186"
            ],
            [
             0.8,
             "#7fbc41"
            ],
            [
             0.9,
             "#4d9221"
            ],
            [
             1,
             "#276419"
            ]
           ],
           "sequential": [
            [
             0,
             "#0d0887"
            ],
            [
             0.1111111111111111,
             "#46039f"
            ],
            [
             0.2222222222222222,
             "#7201a8"
            ],
            [
             0.3333333333333333,
             "#9c179e"
            ],
            [
             0.4444444444444444,
             "#bd3786"
            ],
            [
             0.5555555555555556,
             "#d8576b"
            ],
            [
             0.6666666666666666,
             "#ed7953"
            ],
            [
             0.7777777777777778,
             "#fb9f3a"
            ],
            [
             0.8888888888888888,
             "#fdca26"
            ],
            [
             1,
             "#f0f921"
            ]
           ],
           "sequentialminus": [
            [
             0,
             "#0d0887"
            ],
            [
             0.1111111111111111,
             "#46039f"
            ],
            [
             0.2222222222222222,
             "#7201a8"
            ],
            [
             0.3333333333333333,
             "#9c179e"
            ],
            [
             0.4444444444444444,
             "#bd3786"
            ],
            [
             0.5555555555555556,
             "#d8576b"
            ],
            [
             0.6666666666666666,
             "#ed7953"
            ],
            [
             0.7777777777777778,
             "#fb9f3a"
            ],
            [
             0.8888888888888888,
             "#fdca26"
            ],
            [
             1,
             "#f0f921"
            ]
           ]
          },
          "colorway": [
           "#636efa",
           "#EF553B",
           "#00cc96",
           "#ab63fa",
           "#FFA15A",
           "#19d3f3",
           "#FF6692",
           "#B6E880",
           "#FF97FF",
           "#FECB52"
          ],
          "font": {
           "color": "#2a3f5f"
          },
          "geo": {
           "bgcolor": "white",
           "lakecolor": "white",
           "landcolor": "#E5ECF6",
           "showlakes": true,
           "showland": true,
           "subunitcolor": "white"
          },
          "hoverlabel": {
           "align": "left"
          },
          "hovermode": "closest",
          "mapbox": {
           "style": "light"
          },
          "paper_bgcolor": "white",
          "plot_bgcolor": "#E5ECF6",
          "polar": {
           "angularaxis": {
            "gridcolor": "white",
            "linecolor": "white",
            "ticks": ""
           },
           "bgcolor": "#E5ECF6",
           "radialaxis": {
            "gridcolor": "white",
            "linecolor": "white",
            "ticks": ""
           }
          },
          "scene": {
           "xaxis": {
            "backgroundcolor": "#E5ECF6",
            "gridcolor": "white",
            "gridwidth": 2,
            "linecolor": "white",
            "showbackground": true,
            "ticks": "",
            "zerolinecolor": "white"
           },
           "yaxis": {
            "backgroundcolor": "#E5ECF6",
            "gridcolor": "white",
            "gridwidth": 2,
            "linecolor": "white",
            "showbackground": true,
            "ticks": "",
            "zerolinecolor": "white"
           },
           "zaxis": {
            "backgroundcolor": "#E5ECF6",
            "gridcolor": "white",
            "gridwidth": 2,
            "linecolor": "white",
            "showbackground": true,
            "ticks": "",
            "zerolinecolor": "white"
           }
          },
          "shapedefaults": {
           "line": {
            "color": "#2a3f5f"
           }
          },
          "ternary": {
           "aaxis": {
            "gridcolor": "white",
            "linecolor": "white",
            "ticks": ""
           },
           "baxis": {
            "gridcolor": "white",
            "linecolor": "white",
            "ticks": ""
           },
           "bgcolor": "#E5ECF6",
           "caxis": {
            "gridcolor": "white",
            "linecolor": "white",
            "ticks": ""
           }
          },
          "title": {
           "x": 0.05
          },
          "xaxis": {
           "automargin": true,
           "gridcolor": "white",
           "linecolor": "white",
           "ticks": "",
           "title": {
            "standoff": 15
           },
           "zerolinecolor": "white",
           "zerolinewidth": 2
          },
          "yaxis": {
           "automargin": true,
           "gridcolor": "white",
           "linecolor": "white",
           "ticks": "",
           "title": {
            "standoff": 15
           },
           "zerolinecolor": "white",
           "zerolinewidth": 2
          }
         }
        },
        "title": {
         "text": "Evolution des valeurs de PM10 sur la journée du 25/03/2023 en Loire-Atlantique"
        },
        "xaxis": {
         "anchor": "y",
         "domain": [
          0,
          1
         ],
         "title": {
          "text": "heure_mesure"
         }
        },
        "yaxis": {
         "anchor": "x",
         "domain": [
          0,
          1
         ],
         "title": {
          "text": "valeur"
         }
        }
       }
      }
     },
     "metadata": {},
     "output_type": "display_data"
    }
   ],
   "source": [
    "df_PM10_25032023 = df_PM10_hour_week.loc[df_PM10_hour_week['heure_mesure'].dt.date == pd.to_datetime('2023-03-25').date()]\n",
    "\n",
    "px.line(df_PM10_25032023,\n",
    "        x='heure_mesure',\n",
    "        y='valeur',\n",
    "        color='nom_station',\n",
    "        title='Evolution des valeurs de PM10 sur la journée du 25/03/2023 en Loire-Atlantique')\n"
   ]
  },
  {
   "cell_type": "markdown",
   "metadata": {},
   "source": [
    "On observe comme prévu une augmentation de la concentration de PM10 pendant la journée, et une moindre concentration la nuit. \n",
    "La mesure des polluants dans l'air est lié à beaucoup de phénomène, et les évolutions (dont pics) peuvent s'expliquer par les conditions météo ou une intervention humaine particulière. \n",
    "\n",
    "Mais d'abord, où sont situées nos stations ? En les affichant avec plotly, nous allons observer leur valeur moyenne en PM10"
   ]
  },
  {
   "cell_type": "code",
   "execution_count": 9,
   "metadata": {},
   "outputs": [
    {
     "data": {
      "application/vnd.plotly.v1+json": {
       "config": {
        "plotlyServerURL": "https://plot.ly"
       },
       "data": [
        {
         "hovertemplate": "<b>%{hovertext}</b><br><br>valeur=%{marker.color}<br>lat=%{lat}<br>lon=%{lon}<extra></extra>",
         "hovertext": [
          "CAMEE",
          "CIM BOUTEILLERIE",
          "FRERES GONCOURT",
          "FROSSAY",
          "LA CHAUVINIERE",
          "LA MEGRETAIS",
          "LEON BLUM",
          "LES COUETS",
          "PARSCAU DU PLESSIS",
          "SAINT ETIENNE DE MONTLUC",
          "TRENTEMOULT"
         ],
         "lat": [
          47.32113812654744,
          47.22217589146574,
          47.23354499998231,
          47.24735229625331,
          47.25291196744293,
          47.3227052288586,
          47.26411028437446,
          47.18591899996436,
          47.318896029650766,
          47.28312712300018,
          47.1941469999644
         ],
         "legendgroup": "",
         "lon": [
          -2.1273331951941428,
          -1.5374268258113175,
          -1.564803,
          -1.9365235553956817,
          -1.5732745401793513,
          -2.039245335998521,
          -2.2501538782724806,
          -1.591496999999999,
          -2.06687664431583,
          -1.7830812813449453,
          -1.5816779999999988
         ],
         "marker": {
          "color": [
           15.357738095238094,
           13.58095238095238,
           16.378571428571426,
           13.10301204819277,
           11.401785714285714,
           15.470059880239521,
           18.03818181818182,
           15.132934131736526,
           15.686585365853658,
           12.433532934131737,
           15.418072289156626
          ],
          "coloraxis": "coloraxis",
          "opacity": 0.9,
          "size": [
           15.357738095238094,
           13.58095238095238,
           16.378571428571426,
           13.10301204819277,
           11.401785714285714,
           15.470059880239521,
           18.03818181818182,
           15.132934131736526,
           15.686585365853658,
           12.433532934131737,
           15.418072289156626
          ],
          "sizemode": "area",
          "sizeref": 0.1803818181818182
         },
         "mode": "markers",
         "name": "",
         "showlegend": false,
         "subplot": "mapbox",
         "type": "scattermapbox"
        }
       ],
       "layout": {
        "coloraxis": {
         "colorbar": {
          "title": {
           "text": "valeur"
          }
         },
         "colorscale": [
          [
           0,
           "#0d0887"
          ],
          [
           0.1111111111111111,
           "#46039f"
          ],
          [
           0.2222222222222222,
           "#7201a8"
          ],
          [
           0.3333333333333333,
           "#9c179e"
          ],
          [
           0.4444444444444444,
           "#bd3786"
          ],
          [
           0.5555555555555556,
           "#d8576b"
          ],
          [
           0.6666666666666666,
           "#ed7953"
          ],
          [
           0.7777777777777778,
           "#fb9f3a"
          ],
          [
           0.8888888888888888,
           "#fdca26"
          ],
          [
           1,
           "#f0f921"
          ]
         ]
        },
        "height": 400,
        "legend": {
         "itemsizing": "constant",
         "tracegroupgap": 0
        },
        "mapbox": {
         "center": {
          "lat": 47.258729813409495,
          "lon": -1.822899386955661
         },
         "domain": {
          "x": [
           0,
           1
          ],
          "y": [
           0,
           1
          ]
         },
         "style": "stamen-terrain",
         "zoom": 9
        },
        "margin": {
         "b": 0,
         "l": 0,
         "r": 0,
         "t": 40
        },
        "template": {
         "data": {
          "bar": [
           {
            "error_x": {
             "color": "#2a3f5f"
            },
            "error_y": {
             "color": "#2a3f5f"
            },
            "marker": {
             "line": {
              "color": "#E5ECF6",
              "width": 0.5
             },
             "pattern": {
              "fillmode": "overlay",
              "size": 10,
              "solidity": 0.2
             }
            },
            "type": "bar"
           }
          ],
          "barpolar": [
           {
            "marker": {
             "line": {
              "color": "#E5ECF6",
              "width": 0.5
             },
             "pattern": {
              "fillmode": "overlay",
              "size": 10,
              "solidity": 0.2
             }
            },
            "type": "barpolar"
           }
          ],
          "carpet": [
           {
            "aaxis": {
             "endlinecolor": "#2a3f5f",
             "gridcolor": "white",
             "linecolor": "white",
             "minorgridcolor": "white",
             "startlinecolor": "#2a3f5f"
            },
            "baxis": {
             "endlinecolor": "#2a3f5f",
             "gridcolor": "white",
             "linecolor": "white",
             "minorgridcolor": "white",
             "startlinecolor": "#2a3f5f"
            },
            "type": "carpet"
           }
          ],
          "choropleth": [
           {
            "colorbar": {
             "outlinewidth": 0,
             "ticks": ""
            },
            "type": "choropleth"
           }
          ],
          "contour": [
           {
            "colorbar": {
             "outlinewidth": 0,
             "ticks": ""
            },
            "colorscale": [
             [
              0,
              "#0d0887"
             ],
             [
              0.1111111111111111,
              "#46039f"
             ],
             [
              0.2222222222222222,
              "#7201a8"
             ],
             [
              0.3333333333333333,
              "#9c179e"
             ],
             [
              0.4444444444444444,
              "#bd3786"
             ],
             [
              0.5555555555555556,
              "#d8576b"
             ],
             [
              0.6666666666666666,
              "#ed7953"
             ],
             [
              0.7777777777777778,
              "#fb9f3a"
             ],
             [
              0.8888888888888888,
              "#fdca26"
             ],
             [
              1,
              "#f0f921"
             ]
            ],
            "type": "contour"
           }
          ],
          "contourcarpet": [
           {
            "colorbar": {
             "outlinewidth": 0,
             "ticks": ""
            },
            "type": "contourcarpet"
           }
          ],
          "heatmap": [
           {
            "colorbar": {
             "outlinewidth": 0,
             "ticks": ""
            },
            "colorscale": [
             [
              0,
              "#0d0887"
             ],
             [
              0.1111111111111111,
              "#46039f"
             ],
             [
              0.2222222222222222,
              "#7201a8"
             ],
             [
              0.3333333333333333,
              "#9c179e"
             ],
             [
              0.4444444444444444,
              "#bd3786"
             ],
             [
              0.5555555555555556,
              "#d8576b"
             ],
             [
              0.6666666666666666,
              "#ed7953"
             ],
             [
              0.7777777777777778,
              "#fb9f3a"
             ],
             [
              0.8888888888888888,
              "#fdca26"
             ],
             [
              1,
              "#f0f921"
             ]
            ],
            "type": "heatmap"
           }
          ],
          "heatmapgl": [
           {
            "colorbar": {
             "outlinewidth": 0,
             "ticks": ""
            },
            "colorscale": [
             [
              0,
              "#0d0887"
             ],
             [
              0.1111111111111111,
              "#46039f"
             ],
             [
              0.2222222222222222,
              "#7201a8"
             ],
             [
              0.3333333333333333,
              "#9c179e"
             ],
             [
              0.4444444444444444,
              "#bd3786"
             ],
             [
              0.5555555555555556,
              "#d8576b"
             ],
             [
              0.6666666666666666,
              "#ed7953"
             ],
             [
              0.7777777777777778,
              "#fb9f3a"
             ],
             [
              0.8888888888888888,
              "#fdca26"
             ],
             [
              1,
              "#f0f921"
             ]
            ],
            "type": "heatmapgl"
           }
          ],
          "histogram": [
           {
            "marker": {
             "pattern": {
              "fillmode": "overlay",
              "size": 10,
              "solidity": 0.2
             }
            },
            "type": "histogram"
           }
          ],
          "histogram2d": [
           {
            "colorbar": {
             "outlinewidth": 0,
             "ticks": ""
            },
            "colorscale": [
             [
              0,
              "#0d0887"
             ],
             [
              0.1111111111111111,
              "#46039f"
             ],
             [
              0.2222222222222222,
              "#7201a8"
             ],
             [
              0.3333333333333333,
              "#9c179e"
             ],
             [
              0.4444444444444444,
              "#bd3786"
             ],
             [
              0.5555555555555556,
              "#d8576b"
             ],
             [
              0.6666666666666666,
              "#ed7953"
             ],
             [
              0.7777777777777778,
              "#fb9f3a"
             ],
             [
              0.8888888888888888,
              "#fdca26"
             ],
             [
              1,
              "#f0f921"
             ]
            ],
            "type": "histogram2d"
           }
          ],
          "histogram2dcontour": [
           {
            "colorbar": {
             "outlinewidth": 0,
             "ticks": ""
            },
            "colorscale": [
             [
              0,
              "#0d0887"
             ],
             [
              0.1111111111111111,
              "#46039f"
             ],
             [
              0.2222222222222222,
              "#7201a8"
             ],
             [
              0.3333333333333333,
              "#9c179e"
             ],
             [
              0.4444444444444444,
              "#bd3786"
             ],
             [
              0.5555555555555556,
              "#d8576b"
             ],
             [
              0.6666666666666666,
              "#ed7953"
             ],
             [
              0.7777777777777778,
              "#fb9f3a"
             ],
             [
              0.8888888888888888,
              "#fdca26"
             ],
             [
              1,
              "#f0f921"
             ]
            ],
            "type": "histogram2dcontour"
           }
          ],
          "mesh3d": [
           {
            "colorbar": {
             "outlinewidth": 0,
             "ticks": ""
            },
            "type": "mesh3d"
           }
          ],
          "parcoords": [
           {
            "line": {
             "colorbar": {
              "outlinewidth": 0,
              "ticks": ""
             }
            },
            "type": "parcoords"
           }
          ],
          "pie": [
           {
            "automargin": true,
            "type": "pie"
           }
          ],
          "scatter": [
           {
            "fillpattern": {
             "fillmode": "overlay",
             "size": 10,
             "solidity": 0.2
            },
            "type": "scatter"
           }
          ],
          "scatter3d": [
           {
            "line": {
             "colorbar": {
              "outlinewidth": 0,
              "ticks": ""
             }
            },
            "marker": {
             "colorbar": {
              "outlinewidth": 0,
              "ticks": ""
             }
            },
            "type": "scatter3d"
           }
          ],
          "scattercarpet": [
           {
            "marker": {
             "colorbar": {
              "outlinewidth": 0,
              "ticks": ""
             }
            },
            "type": "scattercarpet"
           }
          ],
          "scattergeo": [
           {
            "marker": {
             "colorbar": {
              "outlinewidth": 0,
              "ticks": ""
             }
            },
            "type": "scattergeo"
           }
          ],
          "scattergl": [
           {
            "marker": {
             "colorbar": {
              "outlinewidth": 0,
              "ticks": ""
             }
            },
            "type": "scattergl"
           }
          ],
          "scattermapbox": [
           {
            "marker": {
             "colorbar": {
              "outlinewidth": 0,
              "ticks": ""
             }
            },
            "type": "scattermapbox"
           }
          ],
          "scatterpolar": [
           {
            "marker": {
             "colorbar": {
              "outlinewidth": 0,
              "ticks": ""
             }
            },
            "type": "scatterpolar"
           }
          ],
          "scatterpolargl": [
           {
            "marker": {
             "colorbar": {
              "outlinewidth": 0,
              "ticks": ""
             }
            },
            "type": "scatterpolargl"
           }
          ],
          "scatterternary": [
           {
            "marker": {
             "colorbar": {
              "outlinewidth": 0,
              "ticks": ""
             }
            },
            "type": "scatterternary"
           }
          ],
          "surface": [
           {
            "colorbar": {
             "outlinewidth": 0,
             "ticks": ""
            },
            "colorscale": [
             [
              0,
              "#0d0887"
             ],
             [
              0.1111111111111111,
              "#46039f"
             ],
             [
              0.2222222222222222,
              "#7201a8"
             ],
             [
              0.3333333333333333,
              "#9c179e"
             ],
             [
              0.4444444444444444,
              "#bd3786"
             ],
             [
              0.5555555555555556,
              "#d8576b"
             ],
             [
              0.6666666666666666,
              "#ed7953"
             ],
             [
              0.7777777777777778,
              "#fb9f3a"
             ],
             [
              0.8888888888888888,
              "#fdca26"
             ],
             [
              1,
              "#f0f921"
             ]
            ],
            "type": "surface"
           }
          ],
          "table": [
           {
            "cells": {
             "fill": {
              "color": "#EBF0F8"
             },
             "line": {
              "color": "white"
             }
            },
            "header": {
             "fill": {
              "color": "#C8D4E3"
             },
             "line": {
              "color": "white"
             }
            },
            "type": "table"
           }
          ]
         },
         "layout": {
          "annotationdefaults": {
           "arrowcolor": "#2a3f5f",
           "arrowhead": 0,
           "arrowwidth": 1
          },
          "autotypenumbers": "strict",
          "coloraxis": {
           "colorbar": {
            "outlinewidth": 0,
            "ticks": ""
           }
          },
          "colorscale": {
           "diverging": [
            [
             0,
             "#8e0152"
            ],
            [
             0.1,
             "#c51b7d"
            ],
            [
             0.2,
             "#de77ae"
            ],
            [
             0.3,
             "#f1b6da"
            ],
            [
             0.4,
             "#fde0ef"
            ],
            [
             0.5,
             "#f7f7f7"
            ],
            [
             0.6,
             "#e6f5d0"
            ],
            [
             0.7,
             "#b8e186"
            ],
            [
             0.8,
             "#7fbc41"
            ],
            [
             0.9,
             "#4d9221"
            ],
            [
             1,
             "#276419"
            ]
           ],
           "sequential": [
            [
             0,
             "#0d0887"
            ],
            [
             0.1111111111111111,
             "#46039f"
            ],
            [
             0.2222222222222222,
             "#7201a8"
            ],
            [
             0.3333333333333333,
             "#9c179e"
            ],
            [
             0.4444444444444444,
             "#bd3786"
            ],
            [
             0.5555555555555556,
             "#d8576b"
            ],
            [
             0.6666666666666666,
             "#ed7953"
            ],
            [
             0.7777777777777778,
             "#fb9f3a"
            ],
            [
             0.8888888888888888,
             "#fdca26"
            ],
            [
             1,
             "#f0f921"
            ]
           ],
           "sequentialminus": [
            [
             0,
             "#0d0887"
            ],
            [
             0.1111111111111111,
             "#46039f"
            ],
            [
             0.2222222222222222,
             "#7201a8"
            ],
            [
             0.3333333333333333,
             "#9c179e"
            ],
            [
             0.4444444444444444,
             "#bd3786"
            ],
            [
             0.5555555555555556,
             "#d8576b"
            ],
            [
             0.6666666666666666,
             "#ed7953"
            ],
            [
             0.7777777777777778,
             "#fb9f3a"
            ],
            [
             0.8888888888888888,
             "#fdca26"
            ],
            [
             1,
             "#f0f921"
            ]
           ]
          },
          "colorway": [
           "#636efa",
           "#EF553B",
           "#00cc96",
           "#ab63fa",
           "#FFA15A",
           "#19d3f3",
           "#FF6692",
           "#B6E880",
           "#FF97FF",
           "#FECB52"
          ],
          "font": {
           "color": "#2a3f5f"
          },
          "geo": {
           "bgcolor": "white",
           "lakecolor": "white",
           "landcolor": "#E5ECF6",
           "showlakes": true,
           "showland": true,
           "subunitcolor": "white"
          },
          "hoverlabel": {
           "align": "left"
          },
          "hovermode": "closest",
          "mapbox": {
           "style": "light"
          },
          "paper_bgcolor": "white",
          "plot_bgcolor": "#E5ECF6",
          "polar": {
           "angularaxis": {
            "gridcolor": "white",
            "linecolor": "white",
            "ticks": ""
           },
           "bgcolor": "#E5ECF6",
           "radialaxis": {
            "gridcolor": "white",
            "linecolor": "white",
            "ticks": ""
           }
          },
          "scene": {
           "xaxis": {
            "backgroundcolor": "#E5ECF6",
            "gridcolor": "white",
            "gridwidth": 2,
            "linecolor": "white",
            "showbackground": true,
            "ticks": "",
            "zerolinecolor": "white"
           },
           "yaxis": {
            "backgroundcolor": "#E5ECF6",
            "gridcolor": "white",
            "gridwidth": 2,
            "linecolor": "white",
            "showbackground": true,
            "ticks": "",
            "zerolinecolor": "white"
           },
           "zaxis": {
            "backgroundcolor": "#E5ECF6",
            "gridcolor": "white",
            "gridwidth": 2,
            "linecolor": "white",
            "showbackground": true,
            "ticks": "",
            "zerolinecolor": "white"
           }
          },
          "shapedefaults": {
           "line": {
            "color": "#2a3f5f"
           }
          },
          "ternary": {
           "aaxis": {
            "gridcolor": "white",
            "linecolor": "white",
            "ticks": ""
           },
           "baxis": {
            "gridcolor": "white",
            "linecolor": "white",
            "ticks": ""
           },
           "bgcolor": "#E5ECF6",
           "caxis": {
            "gridcolor": "white",
            "linecolor": "white",
            "ticks": ""
           }
          },
          "title": {
           "x": 0.05
          },
          "xaxis": {
           "automargin": true,
           "gridcolor": "white",
           "linecolor": "white",
           "ticks": "",
           "title": {
            "standoff": 15
           },
           "zerolinecolor": "white",
           "zerolinewidth": 2
          },
          "yaxis": {
           "automargin": true,
           "gridcolor": "white",
           "linecolor": "white",
           "ticks": "",
           "title": {
            "standoff": 15
           },
           "zerolinecolor": "white",
           "zerolinewidth": 2
          }
         }
        },
        "title": {
         "text": "Localisation des stations avec leur valeur moyenne en PM10 sur la semaine du 19 au 25 mars 2023"
        },
        "width": 800
       }
      }
     },
     "metadata": {},
     "output_type": "display_data"
    }
   ],
   "source": [
    "df_localisation = df_PM10_hour_week[['nom_station', 'lon', 'lat', 'valeur']]\n",
    "df_localisation = df_localisation.groupby(['nom_station']).agg({'lon': 'first', 'lat': 'first', 'valeur': 'mean'})\n",
    "df_localisation.reset_index(inplace=True)\n",
    "\n",
    "fig = px.scatter_mapbox(df_localisation,\n",
    "                        lat='lat',\n",
    "                        lon='lon', \n",
    "                        hover_name='nom_station',\n",
    "                        color='valeur',\n",
    "                        size='valeur',\n",
    "                        zoom=9,\n",
    "                        height=400,\n",
    "                        size_max=10,\n",
    "                        opacity=0.9,\n",
    "                        width=800\n",
    "                        )\n",
    "fig.update_layout(mapbox_style='stamen-terrain')\n",
    "fig.update_layout(margin={\"r\": 0, \"t\": 40, \"l\": 0, \"b\": 0})\n",
    "fig.update_layout(title_text=\"Localisation des stations avec leur valeur moyenne en PM10 sur la semaine du 19 au 25 mars 2023\")\n",
    "fig.show()"
   ]
  },
  {
   "cell_type": "markdown",
   "metadata": {},
   "source": [
    "Il est interessant de suivre sur la semaine l'evolution de stations géographiquement proches : Trentemoult et les Couets. "
   ]
  },
  {
   "cell_type": "code",
   "execution_count": null,
   "metadata": {},
   "outputs": [
    {
     "data": {
      "application/vnd.plotly.v1+json": {
       "config": {
        "plotlyServerURL": "https://plot.ly"
       },
       "data": [
        {
         "hovertemplate": "nom_station=TRENTEMOULT<br>heure_mesure=%{x}<br>valeur=%{y}<extra></extra>",
         "legendgroup": "TRENTEMOULT",
         "line": {
          "color": "#636efa",
          "dash": "solid"
         },
         "marker": {
          "symbol": "circle"
         },
         "mode": "lines",
         "name": "TRENTEMOULT",
         "orientation": "v",
         "showlegend": true,
         "type": "scatter",
         "x": [
          "2023-03-25T23:00:00",
          "2023-03-25T22:00:00",
          "2023-03-25T21:00:00",
          "2023-03-25T20:00:00",
          "2023-03-25T19:00:00",
          "2023-03-25T18:00:00",
          "2023-03-25T17:00:00",
          "2023-03-25T16:00:00",
          "2023-03-25T15:00:00",
          "2023-03-25T14:00:00",
          "2023-03-25T13:00:00",
          "2023-03-25T12:00:00",
          "2023-03-25T11:00:00",
          "2023-03-25T10:00:00",
          "2023-03-25T09:00:00",
          "2023-03-25T08:00:00",
          "2023-03-25T07:00:00",
          "2023-03-25T06:00:00",
          "2023-03-25T05:00:00",
          "2023-03-25T04:00:00",
          "2023-03-25T03:00:00",
          "2023-03-25T02:00:00",
          "2023-03-25T01:00:00",
          "2023-03-25T00:00:00",
          "2023-03-24T23:00:00",
          "2023-03-24T22:00:00",
          "2023-03-24T21:00:00",
          "2023-03-24T20:00:00",
          "2023-03-24T19:00:00",
          "2023-03-24T18:00:00",
          "2023-03-24T17:00:00",
          "2023-03-24T16:00:00",
          "2023-03-24T15:00:00",
          "2023-03-24T14:00:00",
          "2023-03-24T13:00:00",
          "2023-03-24T12:00:00",
          "2023-03-24T11:00:00",
          "2023-03-24T10:00:00",
          "2023-03-24T09:00:00",
          "2023-03-24T08:00:00",
          "2023-03-24T07:00:00",
          "2023-03-24T06:00:00",
          "2023-03-24T05:00:00",
          "2023-03-24T04:00:00",
          "2023-03-24T03:00:00",
          "2023-03-24T02:00:00",
          "2023-03-24T01:00:00",
          "2023-03-24T00:00:00",
          "2023-03-23T23:00:00",
          "2023-03-23T22:00:00",
          "2023-03-23T21:00:00",
          "2023-03-23T20:00:00",
          "2023-03-23T19:00:00",
          "2023-03-23T18:00:00",
          "2023-03-23T17:00:00",
          "2023-03-23T16:00:00",
          "2023-03-23T15:00:00",
          "2023-03-23T14:00:00",
          "2023-03-23T13:00:00",
          "2023-03-23T12:00:00",
          "2023-03-23T11:00:00",
          "2023-03-23T10:00:00",
          "2023-03-23T09:00:00",
          "2023-03-23T08:00:00",
          "2023-03-23T07:00:00",
          "2023-03-23T06:00:00",
          "2023-03-23T05:00:00",
          "2023-03-23T04:00:00",
          "2023-03-23T03:00:00",
          "2023-03-23T02:00:00",
          "2023-03-23T01:00:00",
          "2023-03-23T00:00:00",
          "2023-03-22T23:00:00",
          "2023-03-22T22:00:00",
          "2023-03-22T21:00:00",
          "2023-03-22T20:00:00",
          "2023-03-22T19:00:00",
          "2023-03-22T18:00:00",
          "2023-03-22T17:00:00",
          "2023-03-22T16:00:00",
          "2023-03-22T15:00:00",
          "2023-03-22T14:00:00",
          "2023-03-22T13:00:00",
          "2023-03-22T12:00:00",
          "2023-03-22T11:00:00",
          "2023-03-22T10:00:00",
          "2023-03-22T09:00:00",
          "2023-03-22T08:00:00",
          "2023-03-22T07:00:00",
          "2023-03-22T06:00:00",
          "2023-03-22T05:00:00",
          "2023-03-22T04:00:00",
          "2023-03-22T03:00:00",
          "2023-03-22T02:00:00",
          "2023-03-22T01:00:00",
          "2023-03-22T00:00:00",
          "2023-03-21T23:00:00",
          "2023-03-21T22:00:00",
          "2023-03-21T21:00:00",
          "2023-03-21T20:00:00",
          "2023-03-21T19:00:00",
          "2023-03-21T18:00:00",
          "2023-03-21T17:00:00",
          "2023-03-21T16:00:00",
          "2023-03-21T15:00:00",
          "2023-03-21T14:00:00",
          "2023-03-21T13:00:00",
          "2023-03-21T12:00:00",
          "2023-03-21T11:00:00",
          "2023-03-21T10:00:00",
          "2023-03-21T09:00:00",
          "2023-03-21T08:00:00",
          "2023-03-21T07:00:00",
          "2023-03-21T06:00:00",
          "2023-03-21T05:00:00",
          "2023-03-21T04:00:00",
          "2023-03-21T03:00:00",
          "2023-03-21T02:00:00",
          "2023-03-21T01:00:00",
          "2023-03-21T00:00:00",
          "2023-03-20T23:00:00",
          "2023-03-20T22:00:00",
          "2023-03-20T21:00:00",
          "2023-03-20T20:00:00",
          "2023-03-20T19:00:00",
          "2023-03-20T18:00:00",
          "2023-03-20T17:00:00",
          "2023-03-20T16:00:00",
          "2023-03-20T15:00:00",
          "2023-03-20T14:00:00",
          "2023-03-20T13:00:00",
          "2023-03-20T12:00:00",
          "2023-03-20T11:00:00",
          "2023-03-20T10:00:00",
          "2023-03-20T09:00:00",
          "2023-03-20T08:00:00",
          "2023-03-20T07:00:00",
          "2023-03-20T06:00:00",
          "2023-03-20T05:00:00",
          "2023-03-20T04:00:00",
          "2023-03-20T03:00:00",
          "2023-03-20T02:00:00",
          "2023-03-20T01:00:00",
          "2023-03-20T00:00:00",
          "2023-03-19T23:00:00",
          "2023-03-19T22:00:00",
          "2023-03-19T21:00:00",
          "2023-03-19T20:00:00",
          "2023-03-19T19:00:00",
          "2023-03-19T18:00:00",
          "2023-03-19T17:00:00",
          "2023-03-19T16:00:00",
          "2023-03-19T15:00:00",
          "2023-03-19T14:00:00",
          "2023-03-19T13:00:00",
          "2023-03-19T12:00:00",
          "2023-03-19T11:00:00",
          "2023-03-19T10:00:00",
          "2023-03-19T09:00:00",
          "2023-03-19T08:00:00",
          "2023-03-19T07:00:00",
          "2023-03-19T06:00:00",
          "2023-03-19T05:00:00",
          "2023-03-19T04:00:00",
          "2023-03-19T03:00:00",
          "2023-03-19T02:00:00",
          "2023-03-19T01:00:00",
          "2023-03-19T00:00:00"
         ],
         "xaxis": "x",
         "y": [
          8.1,
          7.9,
          8.2,
          9.9,
          20,
          24,
          26,
          26,
          27,
          27,
          30,
          29,
          29,
          27,
          24,
          17,
          21,
          23,
          21,
          17,
          12,
          11,
          21,
          19,
          23,
          26,
          25,
          24,
          22,
          27,
          27,
          null,
          null,
          22,
          21,
          26,
          24,
          28,
          28,
          27,
          21,
          23,
          21,
          18,
          17,
          14,
          17,
          11,
          12,
          11,
          7.7,
          9.5,
          10,
          9,
          6.8,
          9.3,
          14,
          20,
          21,
          20,
          23,
          20,
          18,
          15,
          13,
          14,
          8,
          8.1,
          9.8,
          7.3,
          7.5,
          7.4,
          11,
          9.5,
          6.1,
          3.5,
          6.5,
          8.6,
          9.7,
          11,
          11,
          6.6,
          8.6,
          9.1,
          9.9,
          12,
          15,
          14,
          15,
          14,
          13,
          13,
          14,
          14,
          16,
          16,
          19,
          21,
          23,
          21,
          20,
          17,
          17,
          16,
          19,
          20,
          23,
          14,
          11,
          9.4,
          8.3,
          13,
          8.7,
          10,
          11,
          8.6,
          11,
          12,
          13,
          13,
          17,
          24,
          24,
          24,
          17,
          14,
          13,
          15,
          15,
          14,
          11,
          9.7,
          13,
          15,
          15,
          15,
          14,
          14,
          14,
          14,
          17,
          18,
          19,
          20,
          21,
          21,
          21,
          18,
          16,
          15,
          13,
          11,
          9.1,
          6.5,
          9.3,
          6.2,
          6.9,
          7.5,
          6,
          6.1,
          8.5,
          8.6,
          9.5,
          9.6,
          9.7,
          11,
          11,
          7.6
         ],
         "yaxis": "y"
        },
        {
         "hovertemplate": "nom_station=LES COUETS<br>heure_mesure=%{x}<br>valeur=%{y}<extra></extra>",
         "legendgroup": "LES COUETS",
         "line": {
          "color": "#EF553B",
          "dash": "solid"
         },
         "marker": {
          "symbol": "circle"
         },
         "mode": "lines",
         "name": "LES COUETS",
         "orientation": "v",
         "showlegend": true,
         "type": "scatter",
         "x": [
          "2023-03-25T23:00:00",
          "2023-03-25T22:00:00",
          "2023-03-25T21:00:00",
          "2023-03-25T20:00:00",
          "2023-03-25T19:00:00",
          "2023-03-25T18:00:00",
          "2023-03-25T17:00:00",
          "2023-03-25T16:00:00",
          "2023-03-25T15:00:00",
          "2023-03-25T14:00:00",
          "2023-03-25T13:00:00",
          "2023-03-25T12:00:00",
          "2023-03-25T11:00:00",
          "2023-03-25T10:00:00",
          "2023-03-25T09:00:00",
          "2023-03-25T08:00:00",
          "2023-03-25T07:00:00",
          "2023-03-25T06:00:00",
          "2023-03-25T05:00:00",
          "2023-03-25T04:00:00",
          "2023-03-25T03:00:00",
          "2023-03-25T02:00:00",
          "2023-03-25T01:00:00",
          "2023-03-25T00:00:00",
          "2023-03-24T23:00:00",
          "2023-03-24T22:00:00",
          "2023-03-24T21:00:00",
          "2023-03-24T20:00:00",
          "2023-03-24T19:00:00",
          "2023-03-24T18:00:00",
          "2023-03-24T17:00:00",
          "2023-03-24T16:00:00",
          "2023-03-24T15:00:00",
          "2023-03-24T14:00:00",
          "2023-03-24T13:00:00",
          "2023-03-24T12:00:00",
          "2023-03-24T11:00:00",
          "2023-03-24T10:00:00",
          "2023-03-24T09:00:00",
          "2023-03-24T08:00:00",
          "2023-03-24T07:00:00",
          "2023-03-24T06:00:00",
          "2023-03-24T05:00:00",
          "2023-03-24T04:00:00",
          "2023-03-24T03:00:00",
          "2023-03-24T02:00:00",
          "2023-03-24T01:00:00",
          "2023-03-24T00:00:00",
          "2023-03-23T23:00:00",
          "2023-03-23T22:00:00",
          "2023-03-23T21:00:00",
          "2023-03-23T20:00:00",
          "2023-03-23T19:00:00",
          "2023-03-23T18:00:00",
          "2023-03-23T17:00:00",
          "2023-03-23T16:00:00",
          "2023-03-23T15:00:00",
          "2023-03-23T14:00:00",
          "2023-03-23T13:00:00",
          "2023-03-23T12:00:00",
          "2023-03-23T11:00:00",
          "2023-03-23T10:00:00",
          "2023-03-23T09:00:00",
          "2023-03-23T08:00:00",
          "2023-03-23T07:00:00",
          "2023-03-23T06:00:00",
          "2023-03-23T05:00:00",
          "2023-03-23T04:00:00",
          "2023-03-23T03:00:00",
          "2023-03-23T02:00:00",
          "2023-03-23T01:00:00",
          "2023-03-23T00:00:00",
          "2023-03-22T23:00:00",
          "2023-03-22T22:00:00",
          "2023-03-22T21:00:00",
          "2023-03-22T20:00:00",
          "2023-03-22T19:00:00",
          "2023-03-22T18:00:00",
          "2023-03-22T17:00:00",
          "2023-03-22T16:00:00",
          "2023-03-22T15:00:00",
          "2023-03-22T14:00:00",
          "2023-03-22T13:00:00",
          "2023-03-22T12:00:00",
          "2023-03-22T11:00:00",
          "2023-03-22T10:00:00",
          "2023-03-22T09:00:00",
          "2023-03-22T08:00:00",
          "2023-03-22T07:00:00",
          "2023-03-22T06:00:00",
          "2023-03-22T05:00:00",
          "2023-03-22T04:00:00",
          "2023-03-22T03:00:00",
          "2023-03-22T02:00:00",
          "2023-03-22T01:00:00",
          "2023-03-22T00:00:00",
          "2023-03-21T23:00:00",
          "2023-03-21T22:00:00",
          "2023-03-21T21:00:00",
          "2023-03-21T20:00:00",
          "2023-03-21T19:00:00",
          "2023-03-21T18:00:00",
          "2023-03-21T17:00:00",
          "2023-03-21T16:00:00",
          "2023-03-21T15:00:00",
          "2023-03-21T14:00:00",
          "2023-03-21T13:00:00",
          "2023-03-21T12:00:00",
          "2023-03-21T11:00:00",
          "2023-03-21T10:00:00",
          "2023-03-21T09:00:00",
          "2023-03-21T08:00:00",
          "2023-03-21T07:00:00",
          "2023-03-21T06:00:00",
          "2023-03-21T05:00:00",
          "2023-03-21T04:00:00",
          "2023-03-21T03:00:00",
          "2023-03-21T02:00:00",
          "2023-03-21T01:00:00",
          "2023-03-21T00:00:00",
          "2023-03-20T23:00:00",
          "2023-03-20T22:00:00",
          "2023-03-20T21:00:00",
          "2023-03-20T20:00:00",
          "2023-03-20T19:00:00",
          "2023-03-20T18:00:00",
          "2023-03-20T17:00:00",
          "2023-03-20T16:00:00",
          "2023-03-20T15:00:00",
          "2023-03-20T14:00:00",
          "2023-03-20T13:00:00",
          "2023-03-20T12:00:00",
          "2023-03-20T11:00:00",
          "2023-03-20T10:00:00",
          "2023-03-20T09:00:00",
          "2023-03-20T08:00:00",
          "2023-03-20T07:00:00",
          "2023-03-20T06:00:00",
          "2023-03-20T05:00:00",
          "2023-03-20T04:00:00",
          "2023-03-20T03:00:00",
          "2023-03-20T02:00:00",
          "2023-03-20T01:00:00",
          "2023-03-20T00:00:00",
          "2023-03-19T23:00:00",
          "2023-03-19T22:00:00",
          "2023-03-19T21:00:00",
          "2023-03-19T20:00:00",
          "2023-03-19T19:00:00",
          "2023-03-19T18:00:00",
          "2023-03-19T17:00:00",
          "2023-03-19T16:00:00",
          "2023-03-19T15:00:00",
          "2023-03-19T14:00:00",
          "2023-03-19T13:00:00",
          "2023-03-19T12:00:00",
          "2023-03-19T11:00:00",
          "2023-03-19T10:00:00",
          "2023-03-19T09:00:00",
          "2023-03-19T08:00:00",
          "2023-03-19T07:00:00",
          "2023-03-19T06:00:00",
          "2023-03-19T05:00:00",
          "2023-03-19T04:00:00",
          "2023-03-19T03:00:00",
          "2023-03-19T02:00:00",
          "2023-03-19T01:00:00",
          "2023-03-19T00:00:00"
         ],
         "xaxis": "x",
         "y": [
          6.8,
          5.8,
          2.2,
          7.8,
          14,
          19,
          22,
          23,
          26,
          29,
          28,
          29,
          29,
          29,
          23,
          18,
          21,
          21,
          20,
          17,
          10,
          8.4,
          17,
          17,
          20,
          26,
          27,
          24,
          22,
          28,
          26,
          22,
          20,
          21,
          24,
          25,
          28,
          29,
          30,
          28,
          23,
          24,
          22,
          20,
          19,
          21,
          20,
          18,
          11,
          9.7,
          null,
          6,
          5.3,
          2.3,
          6.9,
          15,
          15,
          17,
          23,
          22,
          21,
          19,
          18,
          16,
          18,
          11,
          13,
          9.1,
          7,
          6.1,
          6.7,
          9.6,
          9.4,
          8.2,
          6,
          1.9,
          2.8,
          7.2,
          9.4,
          8.9,
          6.5,
          9.2,
          8,
          11,
          13,
          7.4,
          8.9,
          13,
          15,
          13,
          13,
          12,
          12,
          14,
          15,
          15,
          18,
          19,
          17,
          18,
          17,
          16,
          27,
          30,
          23,
          23,
          15,
          14,
          12,
          12,
          9.5,
          12,
          11,
          9.5,
          9.9,
          9,
          12,
          15,
          14,
          14,
          17,
          19,
          17,
          19,
          14,
          13,
          12,
          12,
          15,
          11,
          15,
          15,
          16,
          17,
          18,
          20,
          14,
          13,
          14,
          14,
          16,
          18,
          18,
          17,
          18,
          22,
          23,
          19,
          17,
          17,
          14,
          8.7,
          7.4,
          7,
          3.1,
          2.6,
          3.4,
          3.9,
          3.7,
          6.2,
          7.4,
          6.4,
          7.7,
          7.3,
          9,
          8.5,
          8.7,
          7.8
         ],
         "yaxis": "y"
        }
       ],
       "layout": {
        "legend": {
         "title": {
          "text": "nom_station"
         },
         "tracegroupgap": 0
        },
        "template": {
         "data": {
          "bar": [
           {
            "error_x": {
             "color": "#2a3f5f"
            },
            "error_y": {
             "color": "#2a3f5f"
            },
            "marker": {
             "line": {
              "color": "#E5ECF6",
              "width": 0.5
             },
             "pattern": {
              "fillmode": "overlay",
              "size": 10,
              "solidity": 0.2
             }
            },
            "type": "bar"
           }
          ],
          "barpolar": [
           {
            "marker": {
             "line": {
              "color": "#E5ECF6",
              "width": 0.5
             },
             "pattern": {
              "fillmode": "overlay",
              "size": 10,
              "solidity": 0.2
             }
            },
            "type": "barpolar"
           }
          ],
          "carpet": [
           {
            "aaxis": {
             "endlinecolor": "#2a3f5f",
             "gridcolor": "white",
             "linecolor": "white",
             "minorgridcolor": "white",
             "startlinecolor": "#2a3f5f"
            },
            "baxis": {
             "endlinecolor": "#2a3f5f",
             "gridcolor": "white",
             "linecolor": "white",
             "minorgridcolor": "white",
             "startlinecolor": "#2a3f5f"
            },
            "type": "carpet"
           }
          ],
          "choropleth": [
           {
            "colorbar": {
             "outlinewidth": 0,
             "ticks": ""
            },
            "type": "choropleth"
           }
          ],
          "contour": [
           {
            "colorbar": {
             "outlinewidth": 0,
             "ticks": ""
            },
            "colorscale": [
             [
              0,
              "#0d0887"
             ],
             [
              0.1111111111111111,
              "#46039f"
             ],
             [
              0.2222222222222222,
              "#7201a8"
             ],
             [
              0.3333333333333333,
              "#9c179e"
             ],
             [
              0.4444444444444444,
              "#bd3786"
             ],
             [
              0.5555555555555556,
              "#d8576b"
             ],
             [
              0.6666666666666666,
              "#ed7953"
             ],
             [
              0.7777777777777778,
              "#fb9f3a"
             ],
             [
              0.8888888888888888,
              "#fdca26"
             ],
             [
              1,
              "#f0f921"
             ]
            ],
            "type": "contour"
           }
          ],
          "contourcarpet": [
           {
            "colorbar": {
             "outlinewidth": 0,
             "ticks": ""
            },
            "type": "contourcarpet"
           }
          ],
          "heatmap": [
           {
            "colorbar": {
             "outlinewidth": 0,
             "ticks": ""
            },
            "colorscale": [
             [
              0,
              "#0d0887"
             ],
             [
              0.1111111111111111,
              "#46039f"
             ],
             [
              0.2222222222222222,
              "#7201a8"
             ],
             [
              0.3333333333333333,
              "#9c179e"
             ],
             [
              0.4444444444444444,
              "#bd3786"
             ],
             [
              0.5555555555555556,
              "#d8576b"
             ],
             [
              0.6666666666666666,
              "#ed7953"
             ],
             [
              0.7777777777777778,
              "#fb9f3a"
             ],
             [
              0.8888888888888888,
              "#fdca26"
             ],
             [
              1,
              "#f0f921"
             ]
            ],
            "type": "heatmap"
           }
          ],
          "heatmapgl": [
           {
            "colorbar": {
             "outlinewidth": 0,
             "ticks": ""
            },
            "colorscale": [
             [
              0,
              "#0d0887"
             ],
             [
              0.1111111111111111,
              "#46039f"
             ],
             [
              0.2222222222222222,
              "#7201a8"
             ],
             [
              0.3333333333333333,
              "#9c179e"
             ],
             [
              0.4444444444444444,
              "#bd3786"
             ],
             [
              0.5555555555555556,
              "#d8576b"
             ],
             [
              0.6666666666666666,
              "#ed7953"
             ],
             [
              0.7777777777777778,
              "#fb9f3a"
             ],
             [
              0.8888888888888888,
              "#fdca26"
             ],
             [
              1,
              "#f0f921"
             ]
            ],
            "type": "heatmapgl"
           }
          ],
          "histogram": [
           {
            "marker": {
             "pattern": {
              "fillmode": "overlay",
              "size": 10,
              "solidity": 0.2
             }
            },
            "type": "histogram"
           }
          ],
          "histogram2d": [
           {
            "colorbar": {
             "outlinewidth": 0,
             "ticks": ""
            },
            "colorscale": [
             [
              0,
              "#0d0887"
             ],
             [
              0.1111111111111111,
              "#46039f"
             ],
             [
              0.2222222222222222,
              "#7201a8"
             ],
             [
              0.3333333333333333,
              "#9c179e"
             ],
             [
              0.4444444444444444,
              "#bd3786"
             ],
             [
              0.5555555555555556,
              "#d8576b"
             ],
             [
              0.6666666666666666,
              "#ed7953"
             ],
             [
              0.7777777777777778,
              "#fb9f3a"
             ],
             [
              0.8888888888888888,
              "#fdca26"
             ],
             [
              1,
              "#f0f921"
             ]
            ],
            "type": "histogram2d"
           }
          ],
          "histogram2dcontour": [
           {
            "colorbar": {
             "outlinewidth": 0,
             "ticks": ""
            },
            "colorscale": [
             [
              0,
              "#0d0887"
             ],
             [
              0.1111111111111111,
              "#46039f"
             ],
             [
              0.2222222222222222,
              "#7201a8"
             ],
             [
              0.3333333333333333,
              "#9c179e"
             ],
             [
              0.4444444444444444,
              "#bd3786"
             ],
             [
              0.5555555555555556,
              "#d8576b"
             ],
             [
              0.6666666666666666,
              "#ed7953"
             ],
             [
              0.7777777777777778,
              "#fb9f3a"
             ],
             [
              0.8888888888888888,
              "#fdca26"
             ],
             [
              1,
              "#f0f921"
             ]
            ],
            "type": "histogram2dcontour"
           }
          ],
          "mesh3d": [
           {
            "colorbar": {
             "outlinewidth": 0,
             "ticks": ""
            },
            "type": "mesh3d"
           }
          ],
          "parcoords": [
           {
            "line": {
             "colorbar": {
              "outlinewidth": 0,
              "ticks": ""
             }
            },
            "type": "parcoords"
           }
          ],
          "pie": [
           {
            "automargin": true,
            "type": "pie"
           }
          ],
          "scatter": [
           {
            "fillpattern": {
             "fillmode": "overlay",
             "size": 10,
             "solidity": 0.2
            },
            "type": "scatter"
           }
          ],
          "scatter3d": [
           {
            "line": {
             "colorbar": {
              "outlinewidth": 0,
              "ticks": ""
             }
            },
            "marker": {
             "colorbar": {
              "outlinewidth": 0,
              "ticks": ""
             }
            },
            "type": "scatter3d"
           }
          ],
          "scattercarpet": [
           {
            "marker": {
             "colorbar": {
              "outlinewidth": 0,
              "ticks": ""
             }
            },
            "type": "scattercarpet"
           }
          ],
          "scattergeo": [
           {
            "marker": {
             "colorbar": {
              "outlinewidth": 0,
              "ticks": ""
             }
            },
            "type": "scattergeo"
           }
          ],
          "scattergl": [
           {
            "marker": {
             "colorbar": {
              "outlinewidth": 0,
              "ticks": ""
             }
            },
            "type": "scattergl"
           }
          ],
          "scattermapbox": [
           {
            "marker": {
             "colorbar": {
              "outlinewidth": 0,
              "ticks": ""
             }
            },
            "type": "scattermapbox"
           }
          ],
          "scatterpolar": [
           {
            "marker": {
             "colorbar": {
              "outlinewidth": 0,
              "ticks": ""
             }
            },
            "type": "scatterpolar"
           }
          ],
          "scatterpolargl": [
           {
            "marker": {
             "colorbar": {
              "outlinewidth": 0,
              "ticks": ""
             }
            },
            "type": "scatterpolargl"
           }
          ],
          "scatterternary": [
           {
            "marker": {
             "colorbar": {
              "outlinewidth": 0,
              "ticks": ""
             }
            },
            "type": "scatterternary"
           }
          ],
          "surface": [
           {
            "colorbar": {
             "outlinewidth": 0,
             "ticks": ""
            },
            "colorscale": [
             [
              0,
              "#0d0887"
             ],
             [
              0.1111111111111111,
              "#46039f"
             ],
             [
              0.2222222222222222,
              "#7201a8"
             ],
             [
              0.3333333333333333,
              "#9c179e"
             ],
             [
              0.4444444444444444,
              "#bd3786"
             ],
             [
              0.5555555555555556,
              "#d8576b"
             ],
             [
              0.6666666666666666,
              "#ed7953"
             ],
             [
              0.7777777777777778,
              "#fb9f3a"
             ],
             [
              0.8888888888888888,
              "#fdca26"
             ],
             [
              1,
              "#f0f921"
             ]
            ],
            "type": "surface"
           }
          ],
          "table": [
           {
            "cells": {
             "fill": {
              "color": "#EBF0F8"
             },
             "line": {
              "color": "white"
             }
            },
            "header": {
             "fill": {
              "color": "#C8D4E3"
             },
             "line": {
              "color": "white"
             }
            },
            "type": "table"
           }
          ]
         },
         "layout": {
          "annotationdefaults": {
           "arrowcolor": "#2a3f5f",
           "arrowhead": 0,
           "arrowwidth": 1
          },
          "autotypenumbers": "strict",
          "coloraxis": {
           "colorbar": {
            "outlinewidth": 0,
            "ticks": ""
           }
          },
          "colorscale": {
           "diverging": [
            [
             0,
             "#8e0152"
            ],
            [
             0.1,
             "#c51b7d"
            ],
            [
             0.2,
             "#de77ae"
            ],
            [
             0.3,
             "#f1b6da"
            ],
            [
             0.4,
             "#fde0ef"
            ],
            [
             0.5,
             "#f7f7f7"
            ],
            [
             0.6,
             "#e6f5d0"
            ],
            [
             0.7,
             "#b8e186"
            ],
            [
             0.8,
             "#7fbc41"
            ],
            [
             0.9,
             "#4d9221"
            ],
            [
             1,
             "#276419"
            ]
           ],
           "sequential": [
            [
             0,
             "#0d0887"
            ],
            [
             0.1111111111111111,
             "#46039f"
            ],
            [
             0.2222222222222222,
             "#7201a8"
            ],
            [
             0.3333333333333333,
             "#9c179e"
            ],
            [
             0.4444444444444444,
             "#bd3786"
            ],
            [
             0.5555555555555556,
             "#d8576b"
            ],
            [
             0.6666666666666666,
             "#ed7953"
            ],
            [
             0.7777777777777778,
             "#fb9f3a"
            ],
            [
             0.8888888888888888,
             "#fdca26"
            ],
            [
             1,
             "#f0f921"
            ]
           ],
           "sequentialminus": [
            [
             0,
             "#0d0887"
            ],
            [
             0.1111111111111111,
             "#46039f"
            ],
            [
             0.2222222222222222,
             "#7201a8"
            ],
            [
             0.3333333333333333,
             "#9c179e"
            ],
            [
             0.4444444444444444,
             "#bd3786"
            ],
            [
             0.5555555555555556,
             "#d8576b"
            ],
            [
             0.6666666666666666,
             "#ed7953"
            ],
            [
             0.7777777777777778,
             "#fb9f3a"
            ],
            [
             0.8888888888888888,
             "#fdca26"
            ],
            [
             1,
             "#f0f921"
            ]
           ]
          },
          "colorway": [
           "#636efa",
           "#EF553B",
           "#00cc96",
           "#ab63fa",
           "#FFA15A",
           "#19d3f3",
           "#FF6692",
           "#B6E880",
           "#FF97FF",
           "#FECB52"
          ],
          "font": {
           "color": "#2a3f5f"
          },
          "geo": {
           "bgcolor": "white",
           "lakecolor": "white",
           "landcolor": "#E5ECF6",
           "showlakes": true,
           "showland": true,
           "subunitcolor": "white"
          },
          "hoverlabel": {
           "align": "left"
          },
          "hovermode": "closest",
          "mapbox": {
           "style": "light"
          },
          "paper_bgcolor": "white",
          "plot_bgcolor": "#E5ECF6",
          "polar": {
           "angularaxis": {
            "gridcolor": "white",
            "linecolor": "white",
            "ticks": ""
           },
           "bgcolor": "#E5ECF6",
           "radialaxis": {
            "gridcolor": "white",
            "linecolor": "white",
            "ticks": ""
           }
          },
          "scene": {
           "xaxis": {
            "backgroundcolor": "#E5ECF6",
            "gridcolor": "white",
            "gridwidth": 2,
            "linecolor": "white",
            "showbackground": true,
            "ticks": "",
            "zerolinecolor": "white"
           },
           "yaxis": {
            "backgroundcolor": "#E5ECF6",
            "gridcolor": "white",
            "gridwidth": 2,
            "linecolor": "white",
            "showbackground": true,
            "ticks": "",
            "zerolinecolor": "white"
           },
           "zaxis": {
            "backgroundcolor": "#E5ECF6",
            "gridcolor": "white",
            "gridwidth": 2,
            "linecolor": "white",
            "showbackground": true,
            "ticks": "",
            "zerolinecolor": "white"
           }
          },
          "shapedefaults": {
           "line": {
            "color": "#2a3f5f"
           }
          },
          "ternary": {
           "aaxis": {
            "gridcolor": "white",
            "linecolor": "white",
            "ticks": ""
           },
           "baxis": {
            "gridcolor": "white",
            "linecolor": "white",
            "ticks": ""
           },
           "bgcolor": "#E5ECF6",
           "caxis": {
            "gridcolor": "white",
            "linecolor": "white",
            "ticks": ""
           }
          },
          "title": {
           "x": 0.05
          },
          "xaxis": {
           "automargin": true,
           "gridcolor": "white",
           "linecolor": "white",
           "ticks": "",
           "title": {
            "standoff": 15
           },
           "zerolinecolor": "white",
           "zerolinewidth": 2
          },
          "yaxis": {
           "automargin": true,
           "gridcolor": "white",
           "linecolor": "white",
           "ticks": "",
           "title": {
            "standoff": 15
           },
           "zerolinecolor": "white",
           "zerolinewidth": 2
          }
         }
        },
        "title": {
         "text": "Evolution des valeurs de PM10 sur la semaine du 19/03/2023 au 25/03/2023 en Loire-Atlantique"
        },
        "xaxis": {
         "anchor": "y",
         "domain": [
          0,
          1
         ],
         "title": {
          "text": "heure_mesure"
         }
        },
        "yaxis": {
         "anchor": "x",
         "domain": [
          0,
          1
         ],
         "title": {
          "text": "valeur"
         }
        }
       }
      }
     },
     "metadata": {},
     "output_type": "display_data"
    }
   ],
   "source": [
    "df_PM10_Trent_Couets = df_PM10_hour_week.loc[(df_PM10_hour_week['nom_station'] == 'LES COUETS') | (df_PM10_hour_week['nom_station'] == 'TRENTEMOULT')]\n",
    "\n",
    "px.line(df_PM10_Trent_Couets,\n",
    "        x='heure_mesure',\n",
    "        y='valeur',\n",
    "        color='nom_station',\n",
    "        title='Evolution des valeurs de PM10 sur la semaine du 19/03/2023 au 25/03/2023 en Loire-Atlantique')"
   ]
  },
  {
   "cell_type": "markdown",
   "metadata": {},
   "source": [
    "Les deux stations ont une évolution similaire, mais on peut noter quelques pics spcifiques : \n",
    "- le 20 mars entre 20h et 22h pour Trentemoult\n",
    "- le 21 mars entre 15h et 17h pour les Couets"
   ]
  },
  {
   "cell_type": "markdown",
   "metadata": {},
   "source": [
    "# TODO\n",
    "\n",
    "Ce que l'on peut prévoir pour approfondir : \n",
    "\n",
    "- ajouter d'autres graphiques (cumule des émissions, émissions moyennes...)\n",
    "\n",
    "- se focaliser sur une stations et ajouter cartographiquement les points d'émissions (routes, résidences...) "
   ]
  }
 ],
 "metadata": {
  "kernelspec": {
   "display_name": "Python 3.9.16 ('geoData_test')",
   "language": "python",
   "name": "python3"
  },
  "language_info": {
   "codemirror_mode": {
    "name": "ipython",
    "version": 3
   },
   "file_extension": ".py",
   "mimetype": "text/x-python",
   "name": "python",
   "nbconvert_exporter": "python",
   "pygments_lexer": "ipython3",
   "version": "3.9.16"
  },
  "orig_nbformat": 4,
  "vscode": {
   "interpreter": {
    "hash": "bc4ac428fa0edb2739c87f91bb0eeddc8191984d9ee1f21f3e61bd036d63d2e7"
   }
  }
 },
 "nbformat": 4,
 "nbformat_minor": 2
}
